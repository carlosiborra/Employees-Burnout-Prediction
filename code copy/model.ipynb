{
 "cells": [
  {
   "attachments": {},
   "cell_type": "markdown",
   "metadata": {},
   "source": [
    "# Práctica 1. Aprendizaje Automático\n",
    "\n",
    "Authors: Carlos Iborra Llopis (100451170), Alejandra Galán Arrospide (100451273) <br>\n",
    "For additional notes and requirements: https://github.com/carlosiborra/Grupo02-Practica1-AprendizajeAutomatico\n",
    "\n",
    "❗If you are willing to run the code yourself, please clone the full GitHub repository, as it contains the necessary folder structures to export images and results❗"
   ]
  },
  {
   "attachments": {},
   "cell_type": "markdown",
   "metadata": {},
   "source": [
    "# 0. Table of contents\n",
    "\n",
    "- [Práctica 1. Aprendizaje Automático](#práctica-1-aprendizaje-automático)\n",
    "  - [0. Table of contents](#0-table-of-contents)\n",
    "  - [1. Requirements](#1-requirements)\n",
    "  - [2. Reading the datasets](#2-reading-the-datasets)\n",
    "  - [3. Exploratory Data Analysis](#3-EDA)\n",
    "  - [4. Train-Test division ](#4-Train-Test-division )\n",
    "  - [5. Basic Methods](#5-basic-methods)\n",
    "  - [6. Reducing Dimensionality](#6-Reducing-Dimensionality)\n",
    "  - [7. Advanced methods ](#7-Advanced-methods )\n",
    "  - [8. Best model](#8-Best-model)\n",
    "  - [9. Final Conclusions](#6-Final-Conclusions)"
   ]
  },
  {
   "attachments": {},
   "cell_type": "markdown",
   "metadata": {},
   "source": [
    "# 1. Requirements\n"
   ]
  },
  {
   "cell_type": "code",
   "execution_count": 1,
   "metadata": {
    "notebookRunGroups": {
     "groupValue": "1"
    }
   },
   "outputs": [],
   "source": [
    "\"\"\" Importing necessary libraries \"\"\"\n",
    "import pandas as pd\n",
    "import numpy as np\n",
    "import matplotlib.pyplot as plt\n",
    "import missingno as msno\n",
    "import seaborn as sns\n",
    "import scipy.stats as st\n",
    "import scipy\n",
    "import sklearn\n",
    "\n",
    "from matplotlib.cbook import boxplot_stats as bps"
   ]
  },
  {
   "attachments": {},
   "cell_type": "markdown",
   "metadata": {},
   "source": [
    "### 1.1. Cleaning ../data/img/ folder\n",
    "This way we avoid creating multiple images and sending the old ones to the trash.<br>\n",
    "Also using this to upload cleaner commits to GitHub.\n"
   ]
  },
  {
   "cell_type": "code",
   "execution_count": 2,
   "metadata": {
    "notebookRunGroups": {
     "groupValue": "1"
    }
   },
   "outputs": [],
   "source": [
    "\"\"\" Cleaning the ../data/img/ folder \"\"\"\n",
    "import os\n",
    "import glob\n",
    "\n",
    "files = glob.glob(\"../data/img/*\")\n",
    "for f in files:\n",
    "    if os.path.isfile(f) and f.endswith(\".png\"):\n",
    "        os.remove(f)\n",
    "\n",
    "files = glob.glob(\"../data/img/box-plot/*\")\n",
    "for f in files:\n",
    "    if os.path.isfile(f) and f.endswith(\".png\"):\n",
    "        os.remove(f)"
   ]
  },
  {
   "attachments": {},
   "cell_type": "markdown",
   "metadata": {},
   "source": [
    "---\n",
    "# 2. Reading the datasets\n",
    "Reading the datasets from the bz2 files, group 2."
   ]
  },
  {
   "cell_type": "code",
   "execution_count": 5,
   "metadata": {
    "notebookRunGroups": {
     "groupValue": "1"
    }
   },
   "outputs": [
    {
     "ename": "FileNotFoundError",
     "evalue": "[Errno 2] No such file or directory: '../data/disp_st2ns1.txt.bz2'",
     "output_type": "error",
     "traceback": [
      "\u001b[1;31m---------------------------------------------------------------------------\u001b[0m",
      "\u001b[1;31mFileNotFoundError\u001b[0m                         Traceback (most recent call last)",
      "\u001b[1;32mC:\\Users\\ALEJAN~1\\AppData\\Local\\Temp/ipykernel_8380/244351963.py\u001b[0m in \u001b[0;36m<module>\u001b[1;34m\u001b[0m\n\u001b[0;32m      1\u001b[0m \u001b[1;34m\"\"\" Reading the dataset \"\"\"\u001b[0m\u001b[1;33m\u001b[0m\u001b[1;33m\u001b[0m\u001b[0m\n\u001b[1;32m----> 2\u001b[1;33m \u001b[0mdisp_df\u001b[0m \u001b[1;33m=\u001b[0m \u001b[0mpd\u001b[0m\u001b[1;33m.\u001b[0m\u001b[0mread_csv\u001b[0m\u001b[1;33m(\u001b[0m\u001b[1;34m\"../data/disp_st2ns1.txt.bz2\"\u001b[0m\u001b[1;33m,\u001b[0m \u001b[0mcompression\u001b[0m\u001b[1;33m=\u001b[0m\u001b[1;34m\"bz2\"\u001b[0m\u001b[1;33m,\u001b[0m \u001b[0mindex_col\u001b[0m\u001b[1;33m=\u001b[0m\u001b[1;36m0\u001b[0m\u001b[1;33m)\u001b[0m\u001b[1;33m\u001b[0m\u001b[1;33m\u001b[0m\u001b[0m\n\u001b[0m\u001b[0;32m      3\u001b[0m \u001b[0mcomp_df\u001b[0m \u001b[1;33m=\u001b[0m \u001b[0mpd\u001b[0m\u001b[1;33m.\u001b[0m\u001b[0mread_csv\u001b[0m\u001b[1;33m(\u001b[0m\u001b[1;34m\"../data/comp_st2ns1.txt.bz2\"\u001b[0m\u001b[1;33m,\u001b[0m \u001b[0mcompression\u001b[0m\u001b[1;33m=\u001b[0m\u001b[1;34m\"bz2\"\u001b[0m\u001b[1;33m,\u001b[0m \u001b[0mindex_col\u001b[0m\u001b[1;33m=\u001b[0m\u001b[1;36m0\u001b[0m\u001b[1;33m)\u001b[0m\u001b[1;33m\u001b[0m\u001b[1;33m\u001b[0m\u001b[0m\n",
      "\u001b[1;32mc:\\Users\\ALEJANDRA\\anaconda3\\lib\\site-packages\\pandas\\util\\_decorators.py\u001b[0m in \u001b[0;36mwrapper\u001b[1;34m(*args, **kwargs)\u001b[0m\n\u001b[0;32m    309\u001b[0m                     \u001b[0mstacklevel\u001b[0m\u001b[1;33m=\u001b[0m\u001b[0mstacklevel\u001b[0m\u001b[1;33m,\u001b[0m\u001b[1;33m\u001b[0m\u001b[1;33m\u001b[0m\u001b[0m\n\u001b[0;32m    310\u001b[0m                 )\n\u001b[1;32m--> 311\u001b[1;33m             \u001b[1;32mreturn\u001b[0m \u001b[0mfunc\u001b[0m\u001b[1;33m(\u001b[0m\u001b[1;33m*\u001b[0m\u001b[0margs\u001b[0m\u001b[1;33m,\u001b[0m \u001b[1;33m**\u001b[0m\u001b[0mkwargs\u001b[0m\u001b[1;33m)\u001b[0m\u001b[1;33m\u001b[0m\u001b[1;33m\u001b[0m\u001b[0m\n\u001b[0m\u001b[0;32m    312\u001b[0m \u001b[1;33m\u001b[0m\u001b[0m\n\u001b[0;32m    313\u001b[0m         \u001b[1;32mreturn\u001b[0m \u001b[0mwrapper\u001b[0m\u001b[1;33m\u001b[0m\u001b[1;33m\u001b[0m\u001b[0m\n",
      "\u001b[1;32mc:\\Users\\ALEJANDRA\\anaconda3\\lib\\site-packages\\pandas\\io\\parsers\\readers.py\u001b[0m in \u001b[0;36mread_csv\u001b[1;34m(filepath_or_buffer, sep, delimiter, header, names, index_col, usecols, squeeze, prefix, mangle_dupe_cols, dtype, engine, converters, true_values, false_values, skipinitialspace, skiprows, skipfooter, nrows, na_values, keep_default_na, na_filter, verbose, skip_blank_lines, parse_dates, infer_datetime_format, keep_date_col, date_parser, dayfirst, cache_dates, iterator, chunksize, compression, thousands, decimal, lineterminator, quotechar, quoting, doublequote, escapechar, comment, encoding, encoding_errors, dialect, error_bad_lines, warn_bad_lines, on_bad_lines, delim_whitespace, low_memory, memory_map, float_precision, storage_options)\u001b[0m\n\u001b[0;32m    584\u001b[0m     \u001b[0mkwds\u001b[0m\u001b[1;33m.\u001b[0m\u001b[0mupdate\u001b[0m\u001b[1;33m(\u001b[0m\u001b[0mkwds_defaults\u001b[0m\u001b[1;33m)\u001b[0m\u001b[1;33m\u001b[0m\u001b[1;33m\u001b[0m\u001b[0m\n\u001b[0;32m    585\u001b[0m \u001b[1;33m\u001b[0m\u001b[0m\n\u001b[1;32m--> 586\u001b[1;33m     \u001b[1;32mreturn\u001b[0m \u001b[0m_read\u001b[0m\u001b[1;33m(\u001b[0m\u001b[0mfilepath_or_buffer\u001b[0m\u001b[1;33m,\u001b[0m \u001b[0mkwds\u001b[0m\u001b[1;33m)\u001b[0m\u001b[1;33m\u001b[0m\u001b[1;33m\u001b[0m\u001b[0m\n\u001b[0m\u001b[0;32m    587\u001b[0m \u001b[1;33m\u001b[0m\u001b[0m\n\u001b[0;32m    588\u001b[0m \u001b[1;33m\u001b[0m\u001b[0m\n",
      "\u001b[1;32mc:\\Users\\ALEJANDRA\\anaconda3\\lib\\site-packages\\pandas\\io\\parsers\\readers.py\u001b[0m in \u001b[0;36m_read\u001b[1;34m(filepath_or_buffer, kwds)\u001b[0m\n\u001b[0;32m    480\u001b[0m \u001b[1;33m\u001b[0m\u001b[0m\n\u001b[0;32m    481\u001b[0m     \u001b[1;31m# Create the parser.\u001b[0m\u001b[1;33m\u001b[0m\u001b[1;33m\u001b[0m\u001b[0m\n\u001b[1;32m--> 482\u001b[1;33m     \u001b[0mparser\u001b[0m \u001b[1;33m=\u001b[0m \u001b[0mTextFileReader\u001b[0m\u001b[1;33m(\u001b[0m\u001b[0mfilepath_or_buffer\u001b[0m\u001b[1;33m,\u001b[0m \u001b[1;33m**\u001b[0m\u001b[0mkwds\u001b[0m\u001b[1;33m)\u001b[0m\u001b[1;33m\u001b[0m\u001b[1;33m\u001b[0m\u001b[0m\n\u001b[0m\u001b[0;32m    483\u001b[0m \u001b[1;33m\u001b[0m\u001b[0m\n\u001b[0;32m    484\u001b[0m     \u001b[1;32mif\u001b[0m \u001b[0mchunksize\u001b[0m \u001b[1;32mor\u001b[0m \u001b[0miterator\u001b[0m\u001b[1;33m:\u001b[0m\u001b[1;33m\u001b[0m\u001b[1;33m\u001b[0m\u001b[0m\n",
      "\u001b[1;32mc:\\Users\\ALEJANDRA\\anaconda3\\lib\\site-packages\\pandas\\io\\parsers\\readers.py\u001b[0m in \u001b[0;36m__init__\u001b[1;34m(self, f, engine, **kwds)\u001b[0m\n\u001b[0;32m    809\u001b[0m             \u001b[0mself\u001b[0m\u001b[1;33m.\u001b[0m\u001b[0moptions\u001b[0m\u001b[1;33m[\u001b[0m\u001b[1;34m\"has_index_names\"\u001b[0m\u001b[1;33m]\u001b[0m \u001b[1;33m=\u001b[0m \u001b[0mkwds\u001b[0m\u001b[1;33m[\u001b[0m\u001b[1;34m\"has_index_names\"\u001b[0m\u001b[1;33m]\u001b[0m\u001b[1;33m\u001b[0m\u001b[1;33m\u001b[0m\u001b[0m\n\u001b[0;32m    810\u001b[0m \u001b[1;33m\u001b[0m\u001b[0m\n\u001b[1;32m--> 811\u001b[1;33m         \u001b[0mself\u001b[0m\u001b[1;33m.\u001b[0m\u001b[0m_engine\u001b[0m \u001b[1;33m=\u001b[0m \u001b[0mself\u001b[0m\u001b[1;33m.\u001b[0m\u001b[0m_make_engine\u001b[0m\u001b[1;33m(\u001b[0m\u001b[0mself\u001b[0m\u001b[1;33m.\u001b[0m\u001b[0mengine\u001b[0m\u001b[1;33m)\u001b[0m\u001b[1;33m\u001b[0m\u001b[1;33m\u001b[0m\u001b[0m\n\u001b[0m\u001b[0;32m    812\u001b[0m \u001b[1;33m\u001b[0m\u001b[0m\n\u001b[0;32m    813\u001b[0m     \u001b[1;32mdef\u001b[0m \u001b[0mclose\u001b[0m\u001b[1;33m(\u001b[0m\u001b[0mself\u001b[0m\u001b[1;33m)\u001b[0m\u001b[1;33m:\u001b[0m\u001b[1;33m\u001b[0m\u001b[1;33m\u001b[0m\u001b[0m\n",
      "\u001b[1;32mc:\\Users\\ALEJANDRA\\anaconda3\\lib\\site-packages\\pandas\\io\\parsers\\readers.py\u001b[0m in \u001b[0;36m_make_engine\u001b[1;34m(self, engine)\u001b[0m\n\u001b[0;32m   1038\u001b[0m             )\n\u001b[0;32m   1039\u001b[0m         \u001b[1;31m# error: Too many arguments for \"ParserBase\"\u001b[0m\u001b[1;33m\u001b[0m\u001b[1;33m\u001b[0m\u001b[0m\n\u001b[1;32m-> 1040\u001b[1;33m         \u001b[1;32mreturn\u001b[0m \u001b[0mmapping\u001b[0m\u001b[1;33m[\u001b[0m\u001b[0mengine\u001b[0m\u001b[1;33m]\u001b[0m\u001b[1;33m(\u001b[0m\u001b[0mself\u001b[0m\u001b[1;33m.\u001b[0m\u001b[0mf\u001b[0m\u001b[1;33m,\u001b[0m \u001b[1;33m**\u001b[0m\u001b[0mself\u001b[0m\u001b[1;33m.\u001b[0m\u001b[0moptions\u001b[0m\u001b[1;33m)\u001b[0m  \u001b[1;31m# type: ignore[call-arg]\u001b[0m\u001b[1;33m\u001b[0m\u001b[1;33m\u001b[0m\u001b[0m\n\u001b[0m\u001b[0;32m   1041\u001b[0m \u001b[1;33m\u001b[0m\u001b[0m\n\u001b[0;32m   1042\u001b[0m     \u001b[1;32mdef\u001b[0m \u001b[0m_failover_to_python\u001b[0m\u001b[1;33m(\u001b[0m\u001b[0mself\u001b[0m\u001b[1;33m)\u001b[0m\u001b[1;33m:\u001b[0m\u001b[1;33m\u001b[0m\u001b[1;33m\u001b[0m\u001b[0m\n",
      "\u001b[1;32mc:\\Users\\ALEJANDRA\\anaconda3\\lib\\site-packages\\pandas\\io\\parsers\\c_parser_wrapper.py\u001b[0m in \u001b[0;36m__init__\u001b[1;34m(self, src, **kwds)\u001b[0m\n\u001b[0;32m     49\u001b[0m \u001b[1;33m\u001b[0m\u001b[0m\n\u001b[0;32m     50\u001b[0m         \u001b[1;31m# open handles\u001b[0m\u001b[1;33m\u001b[0m\u001b[1;33m\u001b[0m\u001b[0m\n\u001b[1;32m---> 51\u001b[1;33m         \u001b[0mself\u001b[0m\u001b[1;33m.\u001b[0m\u001b[0m_open_handles\u001b[0m\u001b[1;33m(\u001b[0m\u001b[0msrc\u001b[0m\u001b[1;33m,\u001b[0m \u001b[0mkwds\u001b[0m\u001b[1;33m)\u001b[0m\u001b[1;33m\u001b[0m\u001b[1;33m\u001b[0m\u001b[0m\n\u001b[0m\u001b[0;32m     52\u001b[0m         \u001b[1;32massert\u001b[0m \u001b[0mself\u001b[0m\u001b[1;33m.\u001b[0m\u001b[0mhandles\u001b[0m \u001b[1;32mis\u001b[0m \u001b[1;32mnot\u001b[0m \u001b[1;32mNone\u001b[0m\u001b[1;33m\u001b[0m\u001b[1;33m\u001b[0m\u001b[0m\n\u001b[0;32m     53\u001b[0m \u001b[1;33m\u001b[0m\u001b[0m\n",
      "\u001b[1;32mc:\\Users\\ALEJANDRA\\anaconda3\\lib\\site-packages\\pandas\\io\\parsers\\base_parser.py\u001b[0m in \u001b[0;36m_open_handles\u001b[1;34m(self, src, kwds)\u001b[0m\n\u001b[0;32m    220\u001b[0m         \u001b[0mLet\u001b[0m \u001b[0mthe\u001b[0m \u001b[0mreaders\u001b[0m \u001b[0mopen\u001b[0m \u001b[0mIOHandles\u001b[0m \u001b[0mafter\u001b[0m \u001b[0mthey\u001b[0m \u001b[0mare\u001b[0m \u001b[0mdone\u001b[0m \u001b[1;32mwith\u001b[0m \u001b[0mtheir\u001b[0m \u001b[0mpotential\u001b[0m \u001b[0mraises\u001b[0m\u001b[1;33m.\u001b[0m\u001b[1;33m\u001b[0m\u001b[1;33m\u001b[0m\u001b[0m\n\u001b[0;32m    221\u001b[0m         \"\"\"\n\u001b[1;32m--> 222\u001b[1;33m         self.handles = get_handle(\n\u001b[0m\u001b[0;32m    223\u001b[0m             \u001b[0msrc\u001b[0m\u001b[1;33m,\u001b[0m\u001b[1;33m\u001b[0m\u001b[1;33m\u001b[0m\u001b[0m\n\u001b[0;32m    224\u001b[0m             \u001b[1;34m\"r\"\u001b[0m\u001b[1;33m,\u001b[0m\u001b[1;33m\u001b[0m\u001b[1;33m\u001b[0m\u001b[0m\n",
      "\u001b[1;32mc:\\Users\\ALEJANDRA\\anaconda3\\lib\\site-packages\\pandas\\io\\common.py\u001b[0m in \u001b[0;36mget_handle\u001b[1;34m(path_or_buf, mode, encoding, compression, memory_map, is_text, errors, storage_options)\u001b[0m\n\u001b[0;32m    657\u001b[0m         \u001b[1;31m# BZ Compression\u001b[0m\u001b[1;33m\u001b[0m\u001b[1;33m\u001b[0m\u001b[0m\n\u001b[0;32m    658\u001b[0m         \u001b[1;32melif\u001b[0m \u001b[0mcompression\u001b[0m \u001b[1;33m==\u001b[0m \u001b[1;34m\"bz2\"\u001b[0m\u001b[1;33m:\u001b[0m\u001b[1;33m\u001b[0m\u001b[1;33m\u001b[0m\u001b[0m\n\u001b[1;32m--> 659\u001b[1;33m             handle = bz2.BZ2File(\n\u001b[0m\u001b[0;32m    660\u001b[0m                 \u001b[1;31m# Argument 1 to \"BZ2File\" has incompatible type \"Union[str,\u001b[0m\u001b[1;33m\u001b[0m\u001b[1;33m\u001b[0m\u001b[0m\n\u001b[0;32m    661\u001b[0m                 \u001b[1;31m# Union[IO[Any], RawIOBase, BufferedIOBase, TextIOBase, TextIOWrapper,\u001b[0m\u001b[1;33m\u001b[0m\u001b[1;33m\u001b[0m\u001b[0m\n",
      "\u001b[1;32mc:\\Users\\ALEJANDRA\\anaconda3\\lib\\bz2.py\u001b[0m in \u001b[0;36m__init__\u001b[1;34m(self, filename, mode, compresslevel)\u001b[0m\n\u001b[0;32m     83\u001b[0m \u001b[1;33m\u001b[0m\u001b[0m\n\u001b[0;32m     84\u001b[0m         \u001b[1;32mif\u001b[0m \u001b[0misinstance\u001b[0m\u001b[1;33m(\u001b[0m\u001b[0mfilename\u001b[0m\u001b[1;33m,\u001b[0m \u001b[1;33m(\u001b[0m\u001b[0mstr\u001b[0m\u001b[1;33m,\u001b[0m \u001b[0mbytes\u001b[0m\u001b[1;33m,\u001b[0m \u001b[0mos\u001b[0m\u001b[1;33m.\u001b[0m\u001b[0mPathLike\u001b[0m\u001b[1;33m)\u001b[0m\u001b[1;33m)\u001b[0m\u001b[1;33m:\u001b[0m\u001b[1;33m\u001b[0m\u001b[1;33m\u001b[0m\u001b[0m\n\u001b[1;32m---> 85\u001b[1;33m             \u001b[0mself\u001b[0m\u001b[1;33m.\u001b[0m\u001b[0m_fp\u001b[0m \u001b[1;33m=\u001b[0m \u001b[0m_builtin_open\u001b[0m\u001b[1;33m(\u001b[0m\u001b[0mfilename\u001b[0m\u001b[1;33m,\u001b[0m \u001b[0mmode\u001b[0m\u001b[1;33m)\u001b[0m\u001b[1;33m\u001b[0m\u001b[1;33m\u001b[0m\u001b[0m\n\u001b[0m\u001b[0;32m     86\u001b[0m             \u001b[0mself\u001b[0m\u001b[1;33m.\u001b[0m\u001b[0m_closefp\u001b[0m \u001b[1;33m=\u001b[0m \u001b[1;32mTrue\u001b[0m\u001b[1;33m\u001b[0m\u001b[1;33m\u001b[0m\u001b[0m\n\u001b[0;32m     87\u001b[0m             \u001b[0mself\u001b[0m\u001b[1;33m.\u001b[0m\u001b[0m_mode\u001b[0m \u001b[1;33m=\u001b[0m \u001b[0mmode_code\u001b[0m\u001b[1;33m\u001b[0m\u001b[1;33m\u001b[0m\u001b[0m\n",
      "\u001b[1;31mFileNotFoundError\u001b[0m: [Errno 2] No such file or directory: '../data/disp_st2ns1.txt.bz2'"
     ]
    }
   ],
   "source": [
    "\"\"\" Reading the dataset \"\"\"\n",
    "disp_df = pd.read_csv(\"../data/disp_st2ns1.txt.bz2\", compression=\"bz2\", index_col=0)\n",
    "comp_df = pd.read_csv(\"../data/comp_st2ns1.txt.bz2\", compression=\"bz2\", index_col=0)"
   ]
  },
  {
   "attachments": {},
   "cell_type": "markdown",
   "metadata": {},
   "source": [
    "---\n",
    "# 3. EDA"
   ]
  },
  {
   "attachments": {},
   "cell_type": "markdown",
   "metadata": {},
   "source": [
    "**Key Concepts of Exploratory Data Analysis**\n",
    "\n",
    "- **2 types of Data Analysis**\n",
    "  - Confirmatory Data Analysis\n",
    "  - Exploratory Data Analysis\n",
    "- **4 Objectives of EDA**\n",
    "  - Discover Patterns\n",
    "  - Spot Anomalies\n",
    "  - Frame Hypothesis\n",
    "  - Check Assumptions\n",
    "- **2 methods for exploration**\n",
    "  - Univariate Analysis\n",
    "  - Bivariate Analysis\n",
    "- **Stuff done during EDA**\n",
    "  - Trends\n",
    "  - Distribution\n",
    "  - Mean\n",
    "  - Median\n",
    "  - Outlier\n",
    "  - Spread measurement (SD)\n",
    "  - Correlations\n",
    "  - Hypothesis testing\n",
    "  - Visual Exploration\n"
   ]
  },
  {
   "attachments": {},
   "cell_type": "markdown",
   "metadata": {},
   "source": [
    "## 3.0. Dataset preparation\n",
    "\n",
    "To conduct exploratory data analysis (EDA) on our real data, we need to prepare the data first. Therefore, we have decided to separate the data into training and test sets at an early stage to avoid data leakage, which could result in an overly optimistic evaluation of the model, among other consequences. This separation will be done by dividing the data prematurely into training and test sets since potential data leakage can occur from the usage of the test partition, especially when including the result variable.\n",
    "\n",
    "It is important to note that this step is necessary because all the information obtained in this section will be used to make decisions such as dimensionality reduction. Furthermore, this approach makes the evaluation more realistic and rigorous since the test set is not used until the end of the process.\n",
    "\n",
    "\n"
   ]
  },
  {
   "cell_type": "code",
   "execution_count": null,
   "metadata": {},
   "outputs": [],
   "source": [
    "\"\"\" Train Test Split (time series) \"\"\"\n",
    "\n",
    "# * Make a copy of the dataframe (as Padas dataframe is mutable, therefore uses a reference)\n",
    "disp_df_copy = disp_df.copy()\n",
    "\n",
    "# print(disp_df)\n",
    "# print(disp_df_copy)\n",
    "\n",
    "# Now we make the train_x, train_y, test_x, test_y splits taking into account the time series\n",
    "# Note: the time series is ordered by date, therefore we need to split the data in a way that the train data is before the test data\n",
    "# Note: the 10 first years are used for training and the last two years for testing\n",
    "# Note: this is done because if not, we will be predicting the past from the future, which leads to errors and overfitting (data leakage) in the model\n",
    "\n",
    "# * Calculate the number of rows for training and testing\n",
    "num_rows = disp_df_copy.shape[0]\n",
    "num_train_rows = int(\n",
    "    num_rows * 10 / 12\n",
    ")  # 10 first years for training, 2 last years for testing\n",
    "\n",
    "# * Split the data into train and test dataframes (using iloc instead of train_test_split as it picks random rows)\n",
    "train_df = disp_df_copy.iloc[\n",
    "    :num_train_rows, :\n",
    "]  # train contains the first 10 years of rows\n",
    "test_df = disp_df_copy.iloc[\n",
    "    num_train_rows:, :\n",
    "]  # test contains the last 2 years of rows\n",
    "\n",
    "# Print the number of rows for each dataframe\n",
    "print(f\"Number of rows for training (EDA): {train_df.shape[0]}\")\n",
    "print(f\"Number of rows for testing: {test_df.shape[0]}\")\n",
    "\n",
    "\n",
    "# ! We maintain the original dataframe for later use (as we will divide it into train and test dataframes below)\n",
    "# ! For the EDA, we will use the train_df dataframe (with the outpout variable)."
   ]
  },
  {
   "attachments": {},
   "cell_type": "markdown",
   "metadata": {},
   "source": [
    "## 3.1. Dataset description\n",
    "\n",
    "- **apcp_sfc**: 3-Hour accumulated precipitation at the surface (kg·m⁽⁻²⁾)\n",
    "- **dlwrf_sfc**: Downward long-wave radiative flux average at the surface (W·m⁽⁻²⁾)\n",
    "- **dswrf_sfc**: Downward short-wave radiative flux average at the surface (W·m⁽⁻²⁾)\n",
    "- **pres_msl**: Air pressure at mean sea level (Pa)\n",
    "- **pwat_eatm**: Precipitable Water over the entire depth of the atmosphere (kg·m⁽⁻²⁾)\n",
    "- **spfh_2m**: Specific Humidity at 2 m above ground (kg·kg⁽⁻¹⁾)\n",
    "- **tcdc_eatm**: Total cloud cover over the entire depth of the atmosphere (%)\n",
    "- **tcolc_eatm**: Total column-integrated condensate over the entire atmos. (kg·m⁽⁻²⁾)\n",
    "- **tmax_2m**: Maximum Temperature over the past 3 hours at 2 m above the ground (K)\n",
    "- **tmin_2m**: Mininmum Temperature over the past 3 hours at 2 m above the ground (K)\n",
    "- **tmp_2m**: Current temperature at 2 m above the ground (K)\n",
    "- **tmp_sfc**: Temperature of the surface (K)\n",
    "- **ulwrf_sfc**: Upward long-wave radiation at the surface (W·m⁽⁻²⁾)\n",
    "- **ulwrf_tatm**: Upward long-wave radiation at the top of the atmosphere (W·m⁽⁻²⁾)\n",
    "- **uswrf_sfc**: Upward short-wave radiation at the surface (W·m⁽⁻²⁾)\n"
   ]
  },
  {
   "cell_type": "code",
   "execution_count": null,
   "metadata": {},
   "outputs": [],
   "source": [
    "# Display all the columns of the dataframe\n",
    "pd.set_option(\"display.max_columns\", None)\n",
    "\n",
    "train_df.describe()"
   ]
  },
  {
   "cell_type": "code",
   "execution_count": null,
   "metadata": {},
   "outputs": [],
   "source": [
    "comp_df.shape"
   ]
  },
  {
   "cell_type": "code",
   "execution_count": null,
   "metadata": {},
   "outputs": [],
   "source": [
    "train_df.head()"
   ]
  },
  {
   "cell_type": "code",
   "execution_count": null,
   "metadata": {},
   "outputs": [],
   "source": [
    "train_df.info()"
   ]
  },
  {
   "attachments": {},
   "cell_type": "markdown",
   "metadata": {},
   "source": [
    "## 3.2. Missing values"
   ]
  },
  {
   "attachments": {},
   "cell_type": "markdown",
   "metadata": {},
   "source": [
    "Fist, we check the number the total number of missing values in the dataset in order to know if we have to clean the dataset or not."
   ]
  },
  {
   "cell_type": "code",
   "execution_count": null,
   "metadata": {},
   "outputs": [],
   "source": [
    "train_df.isna().sum()"
   ]
  },
  {
   "attachments": {},
   "cell_type": "markdown",
   "metadata": {},
   "source": [
    "As we can oberve, there are no missing values in the dataset, but theres still the possibility of having missing values measured as 0's, so we will check if all those zeros make sense in the context of the dataset or not."
   ]
  },
  {
   "cell_type": "code",
   "execution_count": null,
   "metadata": {},
   "outputs": [],
   "source": [
    "# In the plot, we can see that there are a lot of 0 values in the dataset\n",
    "train_df.plot(legend=False, figsize=(15, 5))"
   ]
  },
  {
   "cell_type": "code",
   "execution_count": null,
   "metadata": {},
   "outputs": [],
   "source": [
    "result = train_df.eq(0.0).sum() / len(train_df) * 100\n",
    "\n",
    "# Select those columns with more than 30% of zeros\n",
    "result = result[result > 30.0]\n",
    "result = result.sort_values(ascending=False)\n",
    "result"
   ]
  },
  {
   "attachments": {},
   "cell_type": "markdown",
   "metadata": {},
   "source": [
    "### Observations\n",
    "\n",
    "As output of the previous cell, we can see that there exist a lot of zeros in the dataset, let's analize if those zeros make sense or not.\n",
    "\n",
    "The variables with most ammount of zeros (>30%) are:\n",
    "\n",
    "- **dswrf_s1_1**: Downward short-wave radiative flux average at the surface, at 12:00 UTC, normal to have a lot of zeros as it is not sunny at 12:00\n",
    "- **uswrf_s1_1**: Upward short-wave radiation at the surface, at 12:00 UTC, normal to have a lot of zeros as it is not sunny at 12:00\n",
    "- **apcp_s**: 3-Hour accumulated precipitation at the surface, as it is not raining every day, it is normal to have a lot of zeros\n",
    "- **tcdc_ea**: Total cloud cover over the entire depth of the atmosphere, as it is not cloudy every day, it is normal to have a lot of zeros\n"
   ]
  },
  {
   "attachments": {},
   "cell_type": "markdown",
   "metadata": {},
   "source": [
    "First, lets start by assigning the zeros to NaNs. By doing this we can visualize the varibles that take more values other than zero.\n"
   ]
  },
  {
   "cell_type": "code",
   "execution_count": null,
   "metadata": {},
   "outputs": [],
   "source": [
    "disp_df_nan = train_df.replace(0.0, np.nan)"
   ]
  },
  {
   "cell_type": "code",
   "execution_count": null,
   "metadata": {},
   "outputs": [],
   "source": [
    "\"\"\" Plotting missing values \"\"\"\n",
    "# Sustitute 0.0 values with NaN and plot the name of the columns with missing values\n",
    "# ? msno.bar is a simple visualization of nullity by column\n",
    "msno.bar(disp_df_nan, labels=True, fontsize=7, figsize=(15, 7))\n",
    "\n",
    "# Exporting image as png to ../data/img folder\n",
    "plt.savefig(\"../data/img/missing_values_bar.png\")"
   ]
  },
  {
   "cell_type": "code",
   "execution_count": null,
   "metadata": {},
   "outputs": [],
   "source": [
    "\"\"\" Plotting the missing values in a matrix \"\"\"\n",
    "\n",
    "# ? The msno.matrix nullity matrix is a data-dense display which lets you quickly visually pick out patterns in data completion.\n",
    "msno.matrix(disp_df_nan)\n",
    "\n",
    "# Exporting image as png to ../data/img folder\n",
    "plt.savefig(\"../data/img/missing_values_matrix.png\")"
   ]
  },
  {
   "cell_type": "code",
   "execution_count": null,
   "metadata": {},
   "outputs": [],
   "source": [
    "\"\"\" Plotting the missing values in a heatmap \"\"\"\n",
    "# As in a hetmap not every value is shown, we must delimit the values to the ones with more than 30% of missing values\n",
    "result = disp_df.eq(0.0).sum() / len(disp_df) * 100\n",
    "result = result[result > 30.0]  # Select those columns with more than 30% of zeros\n",
    "result = result.sort_values(ascending=False)\n",
    "result = result.index.tolist()  # Convert to list\n",
    "result\n",
    "\n",
    "# ? The missingno correlation heatmap measures nullity correlation: how strongly the presence or absence of one variable affects the presence of another\n",
    "msno.heatmap(disp_df_nan[result], fontsize=7, figsize=(15, 7))\n",
    "\n",
    "# Exporting image as png to ../data/img folder\n",
    "plt.savefig(\"../data/img/missing_values_heatmap.png\")"
   ]
  },
  {
   "cell_type": "code",
   "execution_count": null,
   "metadata": {},
   "outputs": [],
   "source": [
    "\"\"\" Plotting the dendrogram \"\"\"\n",
    "\n",
    "# ? The dendrogram allows you to more fully correlate variable completion, revealing trends deeper than the pairwise ones visible in the correlation heatmap:\n",
    "msno.dendrogram(disp_df_nan, orientation=\"top\", fontsize=7, figsize=(15, 7))\n",
    "\n",
    "# Exporting image as png to ../data/img folder\n",
    "plt.savefig(\"../data/img/missing_values_dendrogram.png\")"
   ]
  },
  {
   "attachments": {},
   "cell_type": "markdown",
   "metadata": {
    "notebookRunGroups": {
     "groupValue": "1"
    }
   },
   "source": [
    "### Conclusions\n",
    "In this section, we have observe that there are no attibutes with 'Null' nor 'NaN' nor 'None' values. This indicated that at a first glance, the data is clean, at least of those datatypes.\n",
    "\n",
    "In second place, we have observed that the attributes that we suspected could have an important number of missing values (represented by 0 instead of the previously mentioned), had instead valuable information, as we have proved along this section.<br>Since the data is clean and we have concluded there are no missing values, we do not need to complete them using a model or other methods, so we can move on to the next step, observing the outliers."
   ]
  },
  {
   "attachments": {},
   "cell_type": "markdown",
   "metadata": {},
   "source": [
    "## 3.3. Outliers\n"
   ]
  },
  {
   "attachments": {},
   "cell_type": "markdown",
   "metadata": {},
   "source": [
    "Detecting outliers in a dataset before training a model is crucial because outliers can significantly affect the performance and accuracy of the model. Outliers are data points that deviate significantly from the rest of the dataset and can cause the model to learn incorrect patterns and relationships. When outliers are present in the data, they can also increase the variance of the model, which can result in overfitting. Overfitting occurs when the model fits too closely to the training data, leading to poor generalization to new data. Therefore, it is important to detect and handle outliers properly to ensure the model's accuracy and robustness."
   ]
  },
  {
   "cell_type": "code",
   "execution_count": null,
   "metadata": {},
   "outputs": [],
   "source": [
    "list_of_attributes = train_df.columns.values.tolist()\n",
    "#print(list_of_attributes)"
   ]
  },
  {
   "cell_type": "code",
   "execution_count": null,
   "metadata": {},
   "outputs": [],
   "source": [
    "# Boxplot with all attributes in the dataset\n",
    "# sns.boxplot(data=train_df, orient=\"h\")\n",
    "# plt.show()"
   ]
  },
  {
   "cell_type": "code",
   "execution_count": null,
   "metadata": {},
   "outputs": [],
   "source": [
    "train_df.describe()"
   ]
  },
  {
   "cell_type": "code",
   "execution_count": null,
   "metadata": {},
   "outputs": [],
   "source": [
    "train_df['apcp_sf1_1'].value_counts()"
   ]
  },
  {
   "attachments": {},
   "cell_type": "markdown",
   "metadata": {},
   "source": [
    "Here, by plotting the boxplots and making the outliers (fliers) visible, we are able to see some outliers in the dataset.<br>\n",
    "Take into account that the outliers are represented by the points outside the boxplot and they can be potentially wrong values or just values that are not usual in the dataset (ruido)."
   ]
  },
  {
   "attachments": {},
   "cell_type": "markdown",
   "metadata": {},
   "source": [
    "### 3.3.1. Histogram to identify outliers"
   ]
  },
  {
   "cell_type": "code",
   "execution_count": null,
   "metadata": {},
   "outputs": [],
   "source": [
    "\"\"\" Histogram showing the distribtuion of train_df to show the outliers \"\"\"\n",
    "plt.hist(train_df)\n",
    "plt.show()"
   ]
  },
  {
   "attachments": {},
   "cell_type": "markdown",
   "metadata": {},
   "source": [
    "Here, as in the boxplot, we can see the outliers in the dataset as well as observing the right skewness of the data as we will later see more clearly  in the distribution plots."
   ]
  },
  {
   "attachments": {},
   "cell_type": "markdown",
   "metadata": {},
   "source": [
    "### 3.3.2. Boxplot to identify outliers"
   ]
  },
  {
   "attachments": {},
   "cell_type": "markdown",
   "metadata": {},
   "source": [
    "With the objective of noticing the outliers on each attribute, we create a box-plot of each of the attributes "
   ]
  },
  {
   "cell_type": "code",
   "execution_count": null,
   "metadata": {},
   "outputs": [],
   "source": [
    "\"\"\" Plotting the boxplot for each attribute and getting the outliers of each attribute \"\"\"\n",
    "total_outliers = []\n",
    "# * We iterate over the list of attributes\n",
    "for attribute in list_of_attributes:\n",
    "    # * sns.regplot(x=train_df[attribute], y=train_df['total'], fit_reg=False)\n",
    "    sns.boxplot(data=train_df[attribute], x=train_df[attribute], orient=\"h\")\n",
    "    # * Use the command below to show each plot (small size for visualization sake)\n",
    "    # sns.set(rc={'figure.figsize':(1,.5)})\n",
    "    # plt.show()\n",
    "    # * All the images are saved in the folder ../data/img/box-plot\n",
    "    plt.savefig(f\"../data/img/box-plot/{str(attribute)}.png\")\n",
    "\n",
    "    # We obtain the a list of outliers for each attribute\n",
    "    list_of_outliers = train_df[attribute][train_df[attribute] > train_df[attribute].quantile(0.75) + 1.5*(train_df[attribute].quantile(0.75) - train_df[attribute].quantile(0.25))].tolist()\n",
    "    outliers = [f'{attribute} outliers'] + [len(list_of_outliers)] + [list_of_outliers]\n",
    "    # * In order to print the total number of outliers for each attribute\n",
    "    # print(f'{attribute} has {len(list_of_outliers)} outliers')\n",
    "    # ! Data structure: [attribute, number of outliers, list of outliers]\n",
    "    # print(outliers)\n",
    "    total_outliers.append(outliers)\n",
    "\n",
    "# print the first 2 elements of each element in the list -> [[atb, num],[atb, num],...]\n",
    "num_atb_outliers = 0\n",
    "for i in total_outliers:\n",
    "    if i[1] != 0:\n",
    "        num_atb_outliers += 1\n",
    "        print(f\"{i[0:2]}...\")\n",
    "        \n",
    "# Number of outliers != 0 for each attribute\n",
    "print(f\"Total number of atributes with outliers: {num_atb_outliers} / {len(total_outliers)-1}\")"
   ]
  },
  {
   "attachments": {},
   "cell_type": "markdown",
   "metadata": {},
   "source": [
    "We managed to create a list containing the name of the atribute, the number of outliers and the value of the outliers for each attribute, calculated by applying the IQR method.<br> This is relevant as we managed to create a 'total_outliers' variable that contains the list data structures of all the different outliers from all the attributes, so that it can be easily accessed in a future to remove the outliers from the dataset if needed for testing purposes.\n",
    "\n",
    "As suspected, we can see that **there are a lot of outliers in the dataset**, therefore it is plausible that some of them are noise, thus possibly being removed in a future model in order to improve it (either by hand or by selection in the preprocess pipeline).<br>Now, we need to analyze if they are the result of bad measurements or if they are significant data for the analysis.\n"
   ]
  },
  {
   "attachments": {},
   "cell_type": "markdown",
   "metadata": {},
   "source": [
    "Additionaly, as we will see later, this amount of outliers indicate us that probably a Robust Scaler will be more appropriate than using a Standard Scaler, as the Robust Scaler is more robust to outliers than the Standard Scaler, thus being more appropriate for this dataset model."
   ]
  },
  {
   "attachments": {},
   "cell_type": "markdown",
   "metadata": {},
   "source": [
    "### 3.3.3. Skewness and Kurtosis to identify outliers\n",
    "Skewness and kurtosis are commonly used to measure the shape of a distribution. Skewness measures the degree of asymmetry in the distribution, while kurtosis measures the degree of flatness in the distribution compared to a normal distribution.\n",
    "We will look for observations that are far from the central tendency of the distribution and may indicate the presence of extreme values or data points that do not fit the pattern of the majority of the data (which as expected, happens to be the case in this dataset)."
   ]
  },
  {
   "cell_type": "code",
   "execution_count": null,
   "metadata": {},
   "outputs": [],
   "source": [
    "\"\"\" Skewness \"\"\"\n",
    "# ? skewness: measure of the asymmetry of the probability distribution of a real-valued random variable about its mean.\n",
    "train_df.skew().sort_values(ascending=False)"
   ]
  },
  {
   "cell_type": "code",
   "execution_count": null,
   "metadata": {},
   "outputs": [],
   "source": [
    "\"\"\" Kurtosis \"\"\"\n",
    "# ? kurtosis: measure of whether the data are heavy-tailed or light-tailed relative to a normal distribution.\n",
    "train_df.kurt().sort_values(ascending=False)"
   ]
  },
  {
   "cell_type": "code",
   "execution_count": null,
   "metadata": {},
   "outputs": [],
   "source": [
    "y = train_df[\"apcp_sf4_1\"]\n",
    "plt.figure(1)\n",
    "plt.title(\"Normal\")\n",
    "sns.distplot(y, kde=True, fit=st.norm)\n",
    "plt.figure(2)\n",
    "plt.title(\"Log Normal\")\n",
    "sns.distplot(y, kde=True, fit=st.lognorm)"
   ]
  },
  {
   "cell_type": "code",
   "execution_count": null,
   "metadata": {},
   "outputs": [],
   "source": [
    "sns.distplot(train_df.skew(), color=\"blue\", axlabel=\"Skewness\")"
   ]
  },
  {
   "cell_type": "code",
   "execution_count": null,
   "metadata": {},
   "outputs": [],
   "source": [
    "plt.figure(figsize=(12, 8))\n",
    "sns.distplot(\n",
    "    train_df.kurt(), color=\"r\", axlabel=\"Kurtosis\", norm_hist=False, kde=True, rug=False\n",
    ")\n",
    "# plt.hist(train.kurt(),orientation = 'vertical',histtype = 'bar',label ='Kurtosis', color ='blue')\n",
    "plt.show()"
   ]
  },
  {
   "attachments": {},
   "cell_type": "markdown",
   "metadata": {},
   "source": [
    "## 3.4. Correlation\n"
   ]
  },
  {
   "attachments": {},
   "cell_type": "markdown",
   "metadata": {},
   "source": [
    "In this section we are getting information about the correlation of the variables between them. This information is valuable in order to make good decisions when deleting redundant attributes. Also note we are getting information about the correlation between each attribute and the solution variable. This allows us to know the most relevant attributes, making the best decisions when creating the different models.  "
   ]
  },
  {
   "cell_type": "code",
   "execution_count": null,
   "metadata": {},
   "outputs": [],
   "source": [
    "correlation = train_df.corr()\n",
    "correlation = abs(correlation)\n",
    "print(correlation.shape)  # 76 x 76 matrix of correlation values"
   ]
  },
  {
   "attachments": {},
   "cell_type": "markdown",
   "metadata": {},
   "source": [
    "### Getting the correlation matrix formatted into our own data structure\n",
    "This is done for the sake of simplicity and to be able to visualize the correlation matrix in a more intuitive way.\n"
   ]
  },
  {
   "cell_type": "code",
   "execution_count": null,
   "metadata": {},
   "outputs": [],
   "source": [
    "correlation_list = []\n",
    "\n",
    "for column in train_df.columns:\n",
    "    correlation.loc[:, column] = abs(\n",
    "        correlation.iloc[:, train_df.columns.get_loc(column)]\n",
    "    )\n",
    "    mask = correlation.loc[:, column] > 0.95\n",
    "    # print(correlation[column][mask].sort_values(ascending = False))\n",
    "\n",
    "    # Translate the comment below to English:\n",
    "    # we add the correlation values to a list of lists, which contains the names of the correlated columns and their correlation index\n",
    "\n",
    "    # The first segment adds the name of the column we are analyzing\n",
    "    # The second segment adds the names of the columns correlated (except the column we are analyzing) > 0.95\n",
    "    # The third segment adds the correlation index of the columns correlated (except the column we are analyzing) > 0.95\n",
    "    # Second and third segment are added to the first segment as a list of lists\n",
    "\n",
    "    # First we need to create a dictionary with the column names and their correlation values (except the column we are analyzing)\n",
    "    dict = {\n",
    "        key: value\n",
    "        for key, value in correlation.loc[column, mask]\n",
    "        .sort_values(ascending=False)\n",
    "        .iloc[1:]\n",
    "        .to_dict()\n",
    "        .items()\n",
    "    }\n",
    "    # print (dict)\n",
    "\n",
    "    # Then we create a list of lists with the column names and their correlation values from the dictionary created above\n",
    "    corr_list = [[key] + [value] for key, value in dict.items()]\n",
    "    # Finally we add the name of the column we are analyzing to the list of lists created above as the first element of the list (str)\n",
    "    corr_list.insert(0, [\"Columna: \" + column])\n",
    "\n",
    "    # ! Data structure: [[columna, [columna correlada 1, indice de correlacion], [columna correlada 2, indice de correlacion], ...], ...]\n",
    "    print(corr_list)\n",
    "\n",
    "    correlation_list += [corr_list]\n",
    "print(correlation_list)"
   ]
  },
  {
   "attachments": {},
   "cell_type": "markdown",
   "metadata": {},
   "source": [
    "### Correlation Heat Map"
   ]
  },
  {
   "cell_type": "code",
   "execution_count": null,
   "metadata": {},
   "outputs": [],
   "source": [
    "\"\"\" seaborne Correlation Heat Map \"\"\"\n",
    "# It needs to show all the columns\n",
    "fig, ax = plt.subplots(figsize=(19, 18))\n",
    "\n",
    "plt.title(\"Correlation Heat Map\", y=1)\n",
    "# We use blue color scale because it is easier to see the annotations and the correlation values\n",
    "sns.heatmap(\n",
    "    correlation,\n",
    "    square=True,\n",
    "    cmap=\"Blues\",\n",
    "    annot=True,\n",
    "    fmt=\".2f\",\n",
    "    annot_kws={\"size\": 4},\n",
    "    cbar_kws={\"shrink\": 0.5},\n",
    "    vmin=0.0,\n",
    "    vmax=1,\n",
    ")\n",
    "# We can modify vmax=0.95 in order to get same color scale for values with more than 0.95 correlation\n",
    "# Note: it delays around 15 seconds as it needs to plot a 76*76 matrix with its 5766 correlation values\n",
    "\n",
    "# Exporting image as png to ../data/img folder - easier to visualize the annotations, better resolution\n",
    "plt.savefig(\"../data/img/correlation_heatmap.png\", dpi=200)"
   ]
  },
  {
   "attachments": {},
   "cell_type": "markdown",
   "metadata": {},
   "source": [
    "We can observe clearly how there are a lot of correlations between the different attributes, which is expected as they are all weather related variables.<br> This is important to know as it will allow us to know which attributes are redundant and which ones are not, so that we can delete the redundant ones in order to improve the model. <br><br> Once obtained the most correlated columns of the dataset, we can plot them and visualize their correlation."
   ]
  },
  {
   "cell_type": "code",
   "execution_count": null,
   "metadata": {},
   "outputs": [],
   "source": [
    "# 1\n",
    "columns = ['apcp_sf1_1', 'apcp_sf2_1', 'apcp_sf3_1','apcp_sf4_1', 'apcp_sf5_1']\n",
    "\n",
    "sns.pairplot(train_df[columns], height = 1, kind ='scatter',diag_kind='kde')\n",
    "plt.show()"
   ]
  },
  {
   "cell_type": "code",
   "execution_count": null,
   "metadata": {},
   "outputs": [],
   "source": [
    "# 2\n",
    "columns = [ 'dlwrf_s1_1', 'dlwrf_s2_1', 'dlwrf_s3_1', 'dlwrf_s4_1', 'dlwrf_s5_1']\n",
    "\n",
    "sns.pairplot(train_df[columns], height = 1, kind ='scatter',diag_kind='kde')\n",
    "plt.show()"
   ]
  },
  {
   "cell_type": "code",
   "execution_count": null,
   "metadata": {},
   "outputs": [],
   "source": [
    "# 3\n",
    "columns = ['pwat_ea1_1', 'pwat_ea2_1','pwat_ea3_1','pwat_ea4_1','pwat_ea5_1', 'dlwrf_s1_1', 'dlwrf_s2_1', 'dlwrf_s3_1', 'dlwrf_s4_1', 'dlwrf_s5_1']\n",
    "\n",
    "sns.pairplot(train_df[columns], height = 1, kind ='scatter',diag_kind='kde')\n",
    "plt.show()"
   ]
  },
  {
   "cell_type": "code",
   "execution_count": null,
   "metadata": {},
   "outputs": [],
   "source": [
    "# 4\n",
    "columns = ['dswrf_s1_1', 'dswrf_s2_1', 'dswrf_s3_1', 'dswrf_s4_1', 'dswrf_s5_1']\n",
    "\n",
    "sns.pairplot(train_df[columns], height = 1, kind ='scatter',diag_kind='kde')\n",
    "plt.show()"
   ]
  },
  {
   "cell_type": "code",
   "execution_count": null,
   "metadata": {},
   "outputs": [],
   "source": [
    "# 5\n",
    "columns = ['dswrf_s1_1', 'dswrf_s2_1', 'dswrf_s3_1', 'dswrf_s4_1', 'dswrf_s5_1', 'uswrf_s1_1', 'uswrf_s2_1', 'uswrf_s3_1', 'uswrf_s4_1', 'uswrf_s5_1']\n",
    "\n",
    "sns.pairplot(train_df[columns], height = 1, kind ='scatter',diag_kind='kde')\n",
    "plt.show()"
   ]
  },
  {
   "cell_type": "code",
   "execution_count": null,
   "metadata": {},
   "outputs": [],
   "source": [
    "# 6\n",
    "columns = ['pres_ms1_1', 'pres_ms2_1', 'pres_ms3_1', 'pres_ms4_1', 'pres_ms5_1']\n",
    "\n",
    "sns.pairplot(train_df[columns], height = 1, kind ='scatter',diag_kind='kde')\n",
    "plt.show()"
   ]
  },
  {
   "cell_type": "code",
   "execution_count": null,
   "metadata": {},
   "outputs": [],
   "source": [
    "# 7\n",
    "columns = ['pwat_ea1_1', 'pwat_ea2_1','pwat_ea3_1','pwat_ea4_1','pwat_ea5_1', 'spfh_2m1_1', 'spfh_2m2_1', 'spfh_2m3_1', 'spfh_2m4_1', 'spfh_2m5_1']\n",
    "\n",
    "sns.pairplot(train_df[columns], height = 1, kind ='scatter',diag_kind='kde')\n",
    "plt.show()"
   ]
  },
  {
   "cell_type": "code",
   "execution_count": null,
   "metadata": {},
   "outputs": [],
   "source": [
    "# 8\n",
    "columns = ['spfh_2m1_1', 'spfh_2m2_1', 'spfh_2m3_1', 'spfh_2m4_1', 'spfh_2m5_1','ulwrf_s1_1', 'ulwrf_s2_1', 'ulwrf_s3_1', 'ulwrf_s4_1', 'ulwrf_s5_1']\n",
    "\n",
    "sns.pairplot(train_df[columns], height = 1, kind ='scatter',diag_kind='kde')\n",
    "plt.show()"
   ]
  },
  {
   "cell_type": "code",
   "execution_count": null,
   "metadata": {},
   "outputs": [],
   "source": [
    "# 9\n",
    "columns = ['tmax_2m1_1', 'tmax_2m2_1', 'tmax_2m3_1', 'tmax_2m4_1', 'tmax_2m5_1', 'tmin_2m1_1', 'tmin_2m2_1', 'tmin_2m3_1', 'tmin_2m4_1', 'tmin_2m5_1','tmp_2m_1_1', 'tmp_2m_2_1', 'tmp_2m_3_1', 'tmp_2m_4_1', 'tmp_2m_5_1', 'tmp_sfc1_1', 'tmp_sfc2_1', 'tmp_sfc3_1', 'tmp_sfc4_1', 'tmp_sfc5_1','ulwrf_s1_1', 'ulwrf_s2_1', 'ulwrf_s3_1', 'ulwrf_s4_1', 'ulwrf_s5_1']\n",
    "\n",
    "sns.pairplot(train_df[columns], height = 1 ,kind ='scatter',diag_kind='kde')\n",
    "plt.show()"
   ]
  },
  {
   "cell_type": "code",
   "execution_count": null,
   "metadata": {},
   "outputs": [],
   "source": [
    "# 10\n",
    "columns = [\"ulwrf_t1_1\", \"ulwrf_t2_1\", \"ulwrf_t3_1\"]\n",
    "\n",
    "sns.pairplot(train_df[columns], height=1, kind=\"scatter\", diag_kind=\"kde\")\n",
    "plt.show()"
   ]
  },
  {
   "cell_type": "code",
   "execution_count": null,
   "metadata": {},
   "outputs": [],
   "source": [
    "# 11\n",
    "columns = ['ulwrf_t4_1', 'ulwrf_t5_1', ]\n",
    "\n",
    "sns.pairplot(train_df[columns], height = 1 ,kind ='scatter',diag_kind='kde')\n",
    "plt.show()\n"
   ]
  },
  {
   "cell_type": "code",
   "execution_count": null,
   "metadata": {},
   "outputs": [],
   "source": [
    "# 12\n",
    "columns = [\"uswrf_s2_1\", \"uswrf_s3_1\", \"uswrf_s4_1\", \"uswrf_s5_1\"]\n",
    "\n",
    "sns.pairplot(train_df[columns], height=1, kind=\"scatter\", diag_kind=\"kde\")\n",
    "plt.show()"
   ]
  },
  {
   "attachments": {},
   "cell_type": "markdown",
   "metadata": {},
   "source": [
    "In the graphs above, we can observe that the most correlated variables exhibit a linear (and non linear) relationship between them and with the output. This is evident in the diagonal pattern in the graph, indicating that both variables increase or decrease together.\n",
    "\n",
    "As we have previously mentioned, this is expected as the variables are all weather-related, such as radiative waves, rain, and clouds. It is normal for them to exhibit correlation at different times of the day within the same day, and it is important to consider this when creating the model and eliminating redundant variables as highly correlated variables provide redundant information and can negatively impact model performance. By identifying and removing redundant variables, the model becomes more focused, interpretable, and less prone to overfitting."
   ]
  },
  {
   "attachments": {},
   "cell_type": "markdown",
   "metadata": {},
   "source": [
    "---\n",
    "# 4. Train-Test division \n",
    "\n",
    "Since we are working with a time dependent data, we need to avoid mixing it. Also, we are required to add the first 10 years of data to the train set and the last 2 years to the test set. This means we are assigning a 83.333333 percent of the data to train and a 16.66666666 to test.\n",
    "\n",
    "**Note**: This division was already done before the EDA. We overwrite it to start from a clean state."
   ]
  },
  {
   "attachments": {},
   "cell_type": "markdown",
   "metadata": {},
   "source": [
    "Note: `iloc` is useful when we want to split data based on the index or other criteria, while `train_test_split` is useful when wanting to randomly split data into training and testing subsets.<br>\n",
    "Therefore, we will use `iloc` to split the data into train and test sets as we are dealing with time dependent data."
   ]
  },
  {
   "cell_type": "code",
   "execution_count": null,
   "metadata": {
    "notebookRunGroups": {
     "groupValue": "1"
    }
   },
   "outputs": [],
   "source": [
    "import time\n",
    "import matplotlib.pyplot as plt\n",
    "\n",
    "# Import the metrics from sklearn\n",
    "from sklearn.metrics import mean_squared_error, mean_absolute_error\n",
    "\n",
    "from sklearn.pipeline import Pipeline\n",
    "\n",
    "# As we have noted during the EDA, for this dataset full of outliers, its preferable to use the RobustScaler\n",
    "# Although this wont make a huge difference\n",
    "from sklearn.preprocessing import StandardScaler, RobustScaler\n",
    "\n",
    "from sklearn.feature_selection import SelectKBest, f_regression\n",
    "from sklearn.model_selection import TimeSeriesSplit, RandomizedSearchCV, GridSearchCV"
   ]
  },
  {
   "attachments": {},
   "cell_type": "markdown",
   "metadata": {},
   "source": [
    "## 4.1. Train-Test split"
   ]
  },
  {
   "cell_type": "code",
   "execution_count": null,
   "metadata": {
    "notebookRunGroups": {
     "groupValue": "1"
    }
   },
   "outputs": [],
   "source": [
    "\"\"\" Train Test Split (time series) \"\"\"\n",
    "\n",
    "np.random.seed(10)\n",
    "\n",
    "# * Make a copy of the dataframe (as Padas dataframe is mutable, therefore uses a reference)\n",
    "disp_df_copy = disp_df.copy()\n",
    "\n",
    "# print(disp_df)\n",
    "# print(disp_df_copy)\n",
    "\n",
    "# Now we make the train_x, train_y, test_x, test_y splits taking into account the time series\n",
    "# Note: the time series is ordered by date, therefore we need to split the data in a way that the train data is before the test data\n",
    "# Note: the 10 first years are used for training and the last two years for testing\n",
    "# Note: this is done because if not, we will be predicting the past from the future, which leads to errors and overfitting (data leakage) in the model\n",
    "\n",
    "# * Calculate the number of rows for training and testing\n",
    "num_rows = disp_df_copy.shape[0]\n",
    "num_train_rows = int(\n",
    "    num_rows * 10 / 12\n",
    ")  # 10 first years for training, 2 last years for testing\n",
    "\n",
    "# * Split the data into train and test dataframes (using iloc instead of train_test_split as it picks random rows)\n",
    "train_df = disp_df_copy.iloc[\n",
    "    :num_train_rows, :\n",
    "]  # train contains the first 10 years of rows\n",
    "test_df = disp_df_copy.iloc[\n",
    "    num_train_rows:, :\n",
    "]  # test contains the last 2 years of rows\n",
    "\n",
    "# Print the number of rows for each dataframe\n",
    "print(f\"Number of rows for training: {train_df.shape[0]}\")\n",
    "print(f\"Number of rows for testing: {test_df.shape[0]}\")\n",
    "\n",
    "# Print the dataframes\n",
    "# print(train_df), print(test_df)\n",
    "\n",
    "# * Separate the input features and target variable for training and testing\n",
    "X_train = train_df.drop(\"salida\", axis=1)  # This is the input features for training\n",
    "y_train = train_df[\"salida\"]  # This is the target variable for training\n",
    "X_test = test_df.drop(\"salida\", axis=1)  # This is the input features for testing\n",
    "y_test = test_df[\"salida\"]  # This is the target variable for testing\n",
    "\n",
    "# We also make a simulation of the exact 5th fold (4 for training and 1 for testing from the training data)\n",
    "num_rows_train = train_df.shape[0]\n",
    "num_train_rows_train = int(num_rows_train * 4 / 5)  # 4 folds for training, 1 fold for testing\n",
    "train_5th_fold_train_df = train_df.iloc[\n",
    "    :num_train_rows_train, :\n",
    "]  # train_5th_fold_train contains the first 4 folds of rows\n",
    "\n",
    "test_5th_fold_train_df = train_df.iloc[ \n",
    "    num_train_rows_train:, :\n",
    "] # test_5th_fold_train contains the last fold of rows\n",
    "\n",
    "# * Separate the input features and target variable for training and testing\n",
    "X_train_5th_fold_train = train_5th_fold_train_df.drop(\"salida\", axis=1)  # This is the input features for training\n",
    "y_train_5th_fold_train = train_5th_fold_train_df[\"salida\"]  # This is the target variable for training\n",
    "X_test_5th_fold_train = test_5th_fold_train_df.drop(\"salida\", axis=1)  # This is the input features for testing\n",
    "y_test_5th_fold_train = test_5th_fold_train_df[\"salida\"]  # This is the target variable for testing\n",
    "\n",
    "print(f\"Number of rows for training in the 5th fold: {train_5th_fold_train_df.shape[0]}\")\n",
    "print(f\"Number of rows for testing in the 5th fold: {test_5th_fold_train_df.shape[0]}\")\n",
    "\n",
    "# Print the shapes of the dataframes\n",
    "print(X_train.shape, y_train.shape, X_test.shape, y_test.shape, X_train_5th_fold_train.shape, y_train_5th_fold_train.shape, X_test_5th_fold_train.shape, y_test_5th_fold_train.shape)"
   ]
  },
  {
   "attachments": {},
   "cell_type": "markdown",
   "metadata": {},
   "source": [
    "## 4.2. Train-Test RMSE and MAE function"
   ]
  },
  {
   "attachments": {},
   "cell_type": "markdown",
   "metadata": {},
   "source": [
    "This function is used to get the MAE and RMSE values of the diffent models, therefore, it will also show the level of overfitting in the models. To perform this analysis, we compare the results of the training dataset from the first fold created by the time-series split, with the validation results of the same fold. Note that by using the training and validation sets, we avoid using the test set for any analysis, which is not recommended."
   ]
  },
  {
   "attachments": {},
   "cell_type": "markdown",
   "metadata": {},
   "source": [
    "As with time split folds the largest one (more training data, as test is the same) is the fifth fold in our case, we will use it to compare the results of the different models and obtain the MAE and RMSE values. This way we can compare the results of the different models and see which one is the best. We could calculate and plot the MAE and RMSE values for each fold, but this would be time consuming and would not provide us with any additional information (we haves tested the different results with the different folds prior to this assumptions).\n",
    "<br><br>This way, we obtain a rather similar result in train and a relative aproximation of the test results, which is what we are looking for."
   ]
  },
  {
   "attachments": {},
   "cell_type": "markdown",
   "metadata": {},
   "source": [
    "Note that we also add the posibility to make the predictions on test, but they will be only used in the final model, as we will see later."
   ]
  },
  {
   "cell_type": "code",
   "execution_count": null,
   "metadata": {
    "notebookRunGroups": {
     "groupValue": "1"
    }
   },
   "outputs": [],
   "source": [
    "np.random.seed(10)\n",
    "\n",
    "def train_validation_test(m, model, score, X_train, y_train, test = False, X_test = None, y_test = None):\n",
    "    \n",
    "    # Train\n",
    "    y_train_pred = model.predict(X_train)\n",
    "    rmse_train = mean_squared_error(y_train, y_train_pred, squared=False)\n",
    "    mae_train = mean_absolute_error(y_train, y_train_pred)\n",
    "\n",
    "    # Test\n",
    "    if test:\n",
    "        y_test_pred = model.predict(X_test)\n",
    "        rmse_test = mean_squared_error(y_test, y_test_pred, squared=False)\n",
    "        mae_test = mean_absolute_error(y_test, y_test_pred)\n",
    "    \n",
    "    # We retrain the model with the partial training data (4 folds) and test it with the 5th fold\n",
    "    np.random.seed(10)\n",
    "\n",
    "    m.fit(X = X_train_5th_fold_train, y = y_train_5th_fold_train)\n",
    "    \n",
    "    # Train in validation fold (5)\n",
    "    y_train_validation_pred = m.predict(X_train_5th_fold_train)\n",
    "     \n",
    "    rmse_train_validation = mean_squared_error(y_train_5th_fold_train, y_train_validation_pred, squared=False)\n",
    "    mae_train_validation = mean_absolute_error(y_train_5th_fold_train, y_train_validation_pred)\n",
    "\n",
    "    # Test in validation fold (5)\n",
    "    y_test_validation_pred = m.predict(X_test_5th_fold_train)\n",
    "    \n",
    "    rmse_test_validation = mean_squared_error(y_test_5th_fold_train, y_test_validation_pred, squared=False)\n",
    "    mae_test_validation = mean_absolute_error(y_test_5th_fold_train, y_test_validation_pred)\n",
    "    \n",
    "    # ! Print results\n",
    "    print(f\"Results of the best estimator of {model.__class__.__name__}\")\n",
    "    print(f\"NMAE in validation: {score:.2f}\")\n",
    "    print(f\"RMSE train: {rmse_train:.2f}\", f\"MAE train: {mae_train:.2f}\", sep=\" | \")\n",
    "    if test:\n",
    "        print(f\"RMSE test: {rmse_test:.2f}\", f\"MAE test: {mae_test:.2f}\", sep=\" | \")\n",
    "    print(f\"RMSE validation train: {rmse_train_validation:.2f}\", f\"MAE validation train: {mae_train_validation:.2f}\", sep=\" | \")\n",
    "    print(f\"RMSE validation test: {rmse_test_validation:.2f}\", f\"MAE validation test: {mae_test_validation:.2f}\", sep=\" | \")\n",
    "\n",
    "    # ! Train\n",
    "    title = f'Prediction Errors (RMSE: {rmse_train:.2f}, MAE: {mae_train:.2f})'\n",
    "    scatterplot_histogram(X_train, y_train, y_train_pred, \"Train\", title)\n",
    "\n",
    "    # ! Test\n",
    "    if test:\n",
    "        title = f'Prediction Errors (RMSE: {rmse_test:.2f}, MAE: {mae_test:.2f})'\n",
    "        scatterplot_histogram(X_test, y_test, y_test_pred, \"Test\", title)\n",
    "    \n",
    "    # ! Train in validation fold (5)\n",
    "    title = f'Prediction Errors (RMSE: {rmse_train_validation:.2f}, MAE: {mae_train_validation:.2f})'\n",
    "    scatterplot_histogram(X_train_5th_fold_train, y_train_5th_fold_train, y_train_validation_pred, \"Train in validation\", title)\n",
    "\n",
    "    # ! Test in validation fold (5)\n",
    "    title = f'Prediction Errors (RMSE: {rmse_test_validation:.2f}, MAE: {mae_test_validation:.2f})'\n",
    "    scatterplot_histogram(X_test_5th_fold_train, y_test_5th_fold_train, y_test_validation_pred, \"Test in validation\", title)\n",
    "    \n",
    "    if test:\n",
    "        return [score, rmse_train, mae_train, rmse_train_validation, mae_train_validation, rmse_test_validation, mae_test_validation, rmse_test, mae_test,]\n",
    "    return [score, rmse_train, mae_train, rmse_train_validation, mae_train_validation, rmse_test_validation, mae_test_validation]\n",
    "\n",
    "def scatterplot_histogram (X, y, y_pred, name, title):\n",
    "    # Make plots smaller to fit better on the notebook\n",
    "    plt.rcParams['figure.figsize'] = [5.5, 3.5]\n",
    "    \n",
    "    # Train accuracy using scatter plot\n",
    "    plt.plot(X.iloc[:, [0]], y, \".\", label=f\"{name}\")\n",
    "    plt.plot(X.iloc[:, [0]], y_pred, \"r.\", label=f\"{name} prediction\")\n",
    "    plt.title(f\"{name} scatter plot\")\n",
    "    plt.xlabel(f\"{title}\")\n",
    "    plt.legend()\n",
    "    plt.show()\n",
    "    \n",
    "    # Calculate the difference between test predictions and test data\n",
    "    prediction_errors = y - y_pred\n",
    "    \n",
    "    # Plot the distribution of prediction errors    \n",
    "    plt.hist(prediction_errors, bins=25)\n",
    "    plt.xlabel(f'{title}')\n",
    "    plt.ylabel('Frequency')\n",
    "    plt.title(f\"{name} prediction errors\")\n",
    "    plt.show()"
   ]
  },
  {
   "attachments": {},
   "cell_type": "markdown",
   "metadata": {},
   "source": [
    "## 4.3. Print model results"
   ]
  },
  {
   "cell_type": "code",
   "execution_count": null,
   "metadata": {
    "notebookRunGroups": {
     "groupValue": "1"
    }
   },
   "outputs": [],
   "source": [
    "def print_results(name, model, score, time, test=False):\n",
    "    print(\"---------------------------------------------------\")\n",
    "    print(f\"{name} best model is:\\n\\n{model}\")\n",
    "    print(\"\\nParameters:\", model.best_params_)\n",
    "\n",
    "    print(\n",
    "        f\"\\nPerformance: NMAE (val): {score[0]}\",\n",
    "        f\"RMSE train: {score[1]}\",\n",
    "        f\"MAE train: {score[2]}\",\n",
    "        f\"RMSE train in validation: {score[3]}\",\n",
    "        f\"MAE train in validation: {score[4]}\",\n",
    "        f\"RMSE test in validation: {score[5]}\",\n",
    "        f\"MAE test in validation: {score[6]}\",\n",
    "        sep=\" | \",\n",
    "    )\n",
    "    \n",
    "    if test:\n",
    "        print(\n",
    "            f\"RMSE test: {score[7]}\",\n",
    "            f\"MAE test: {score[8]}\",\n",
    "            sep=\" | \",\n",
    "        )\n",
    "        \n",
    "\n",
    "    print(f\"Execution time: {time}s\")"
   ]
  },
  {
   "attachments": {},
   "cell_type": "markdown",
   "metadata": {},
   "source": [
    "## 4.4. Validation splits"
   ]
  },
  {
   "attachments": {},
   "cell_type": "markdown",
   "metadata": {},
   "source": [
    "We calculate the subsets used for training and testing in the different folds of the cross-validation.\n",
    "\n",
    "Note: this function will not be used as we already made the fifth fold partition manually above (which is faster and does not need to be recomputed). However, it is useful to have it in case we want to use it in the future (for other folds, as it stores them all)."
   ]
  },
  {
   "cell_type": "code",
   "execution_count": null,
   "metadata": {
    "notebookRunGroups": {
     "groupValue": "1"
    }
   },
   "outputs": [],
   "source": [
    "def validation_splits(model, X_train):\n",
    "    dict_folds = {}\n",
    "    \n",
    "    for n_splits, (train_index, test_index) in enumerate(model.cv.split(X_train)):\n",
    "        index = \"F\" + str(n_splits + 1)\n",
    "        train_index_formatted = []\n",
    "        test_index_formatted = []\n",
    "\n",
    "        for i in range(len(train_index)):\n",
    "            train_index_formatted.append(\"V\" + str(int(train_index[i] + 1)))\n",
    "\n",
    "        for i in range(len(test_index)):\n",
    "            test_index_formatted.append(\"V\" + str(int(test_index[i] + 1)))\n",
    "\n",
    "        dict_folds[index] = [train_index_formatted, test_index_formatted]\n",
    "        \n",
    "    return dict_folds"
   ]
  },
  {
   "attachments": {},
   "cell_type": "markdown",
   "metadata": {},
   "source": [
    "## Decisions for all models \n",
    "\n",
    "For each possible method we have created two different models; One with predefined parameters and the second one with selected parameters. For each model we create a pipeline which includes the escaler ( except for trees and related ) and the model.  Note that we have selected RobustEscaler as our scaling method since we have found several outliers in the EDA. Secondly, we duplicate this two models per method and we add the selection of attributes. Note that the model with no selection of attributes and the one with selection of attributes have a double pipeline. Is a double pipeline since we use the output of the first pipeline ( best hiper-parameters ) directly into the second pipeline in order to avoid innecesary computing cost.\n",
    "\n",
    "We have decided to train all models in the most similar way possible in order for the results to be comparable. This way, all models with selected parameters use RandomSearch in order to avoid unnecessary computational cost while still producing good results. Secondly, we have decided to use TimeSeriesSplit, which is a useful method when working with time-related data. We also perform a cross-validation within the parameter search in order to avoid optimistic scoring for some parameters. For all models, we are using a 5-fold cross-validation. We also decided to use NMAE as our method for testing error since it provides an easy-to-understand score and reduces the weight of outliers (as observed during the EDA process).\n",
    "\n",
    "In addition note that in order to create the predefined models we are using gridsearch with just one option in the param-grid. This help us stay consistent in the way we create and compare models, since it provides a way of using cross-validation within the function. "
   ]
  },
  {
   "attachments": {},
   "cell_type": "markdown",
   "metadata": {},
   "source": [
    "---\n",
    "# 5. Basic methods"
   ]
  },
  {
   "attachments": {},
   "cell_type": "markdown",
   "metadata": {},
   "source": [
    "During this section, we will analyze the performance of three methods: KNN, Regression Trees, and Linear Regression. For each method, we will provide a predefined model and another model with selected hyper-parameters. Our hypothesis is that the selected models will provide better performance, while the predefined ones will be better in terms of timing.\n",
    "\n",
    "Please note that we will be using GridSearch with only one possibility (the predefined one) for the hyper-parameter to make it easier to create the predefined models. Additionally, we have decided to use RandomSearch for the selection of the parameters as it has been shown to provide good results with much less computing required."
   ]
  },
  {
   "cell_type": "code",
   "execution_count": null,
   "metadata": {
    "notebookRunGroups": {
     "groupValue": "1"
    }
   },
   "outputs": [],
   "source": [
    "# Three dictionaries to store the results of the models\n",
    "models, results, times = {}, {}, {}"
   ]
  },
  {
   "attachments": {},
   "cell_type": "markdown",
   "metadata": {},
   "source": [
    "## 5.1. KNN\n"
   ]
  },
  {
   "attachments": {},
   "cell_type": "markdown",
   "metadata": {},
   "source": [
    "KNN (k-Nearest Neighbors) is a non-parametric algorithm used for classification and regression. It works by finding the k closest training examples in the feature space to a new input, and assigns the output value based on the majority class among the k neighbors in the case of classification or the average of the output values in the case of regression(our case). The value of k is a hyperparameter that must be chosen before training the model."
   ]
  },
  {
   "cell_type": "code",
   "execution_count": null,
   "metadata": {
    "notebookRunGroups": {
     "groupValue": "1"
    }
   },
   "outputs": [],
   "source": [
    "from sklearn.neighbors import KNeighborsRegressor"
   ]
  },
  {
   "attachments": {},
   "cell_type": "markdown",
   "metadata": {},
   "source": [
    "### 5.1.1. KNN - Predefined parameters"
   ]
  },
  {
   "attachments": {},
   "cell_type": "markdown",
   "metadata": {},
   "source": [
    "#### 5.1.1.1. KNN - Predefined parameters - No attribute selection"
   ]
  },
  {
   "cell_type": "code",
   "execution_count": null,
   "metadata": {
    "notebookRunGroups": {
     "groupValue": "1"
    }
   },
   "outputs": [],
   "source": [
    "np.random.seed(10)\n",
    "n_splits = 5\n",
    "\n",
    "pipeline = Pipeline(\n",
    "    [\n",
    "        (\"scale\", RobustScaler()),\n",
    "        (\"model\", KNeighborsRegressor()),\n",
    "    ]\n",
    ")\n",
    "\n",
    "param_grid = {\n",
    "    \"model__n_neighbors\": [5],\n",
    "    \"model__weights\": [\"uniform\"],\n",
    "    \"model__metric\": [\"minkowski\"],\n",
    "    \"model__algorithm\": [\"auto\"],\n",
    "}\n",
    "\n",
    "model = GridSearchCV(\n",
    "    pipeline,\n",
    "    param_grid,\n",
    "    scoring=\"neg_mean_absolute_error\",\n",
    "    cv=TimeSeriesSplit(n_splits),\n",
    "    n_jobs=-1,\n",
    ")\n",
    "\n",
    "start_time = time.time()\n",
    "model.fit(X=X_train, y=y_train)\n",
    "end_time = time.time()\n",
    "\n",
    "total_time = end_time - start_time\n",
    "\n",
    "# We calculate the subsets used for training and testing in the different folds of the cross-validation\n",
    "# validation_splits(model, X_train)  # We al ready did the 5th fold split at the begginning\n",
    "\n",
    "# We obtain the different scores of the model\n",
    "score = train_validation_test(\n",
    "    model,\n",
    "    model.best_estimator_,\n",
    "    model.best_score_,\n",
    "    X_train,\n",
    "    y_train,\n",
    ")\n",
    "\n",
    "models[\"KNN_pred\"] = model\n",
    "results[\"KNN_pred\"] = score\n",
    "times[\"KNN_pred\"] = total_time\n",
    "\n",
    "print_results(\"KNN PREDEFINED PARAMETERS\", model, score, total_time)"
   ]
  },
  {
   "attachments": {},
   "cell_type": "markdown",
   "metadata": {},
   "source": [
    "#### 5.1.1.2. KNN - Predefined parameters - Attribute selection"
   ]
  },
  {
   "cell_type": "code",
   "execution_count": null,
   "metadata": {
    "notebookRunGroups": {
     "groupValue": "1"
    }
   },
   "outputs": [],
   "source": [
    "np.random.seed(10)\n",
    "n_splits = 5\n",
    "\n",
    "# Using a pipeline to scale the data and then apply the model\n",
    "pipeline = Pipeline(\n",
    "    [\n",
    "        (\"scale\", RobustScaler()),\n",
    "        (\"select\", SelectKBest(f_regression)),\n",
    "        (\"model\", KNeighborsRegressor()),\n",
    "    ]\n",
    ")\n",
    "\n",
    "param_grid = {\n",
    "    \"model__n_neighbors\": [5],\n",
    "    \"model__weights\": [\"uniform\"],\n",
    "    \"model__metric\": [\"minkowski\"],\n",
    "    \"model__algorithm\": [\"auto\"],\n",
    "    \"select__k\": list(range(1, X_train.shape[1] + 1)),\n",
    "}\n",
    "\n",
    "model = GridSearchCV(\n",
    "    pipeline,\n",
    "    param_grid,\n",
    "    scoring=\"neg_mean_absolute_error\",\n",
    "    cv=TimeSeriesSplit(n_splits),\n",
    "    n_jobs=-1,\n",
    ")\n",
    "\n",
    "start_time = time.time()\n",
    "model.fit(X=X_train, y=y_train)\n",
    "end_time = time.time()\n",
    "\n",
    "# We calculate the subsets used for training and testing in the different folds of the cross-validation\n",
    "# validation_splits(model, X_train)  # We al ready did the 5th fold split at the begginning\n",
    "\n",
    "# We obtain the different scores of the model\n",
    "score = train_validation_test(\n",
    "    model,\n",
    "    model.best_estimator_,\n",
    "    model.best_score_,\n",
    "    X_train,\n",
    "    y_train,\n",
    ")\n",
    "\n",
    "models[\"KNN_pred_k\"] = model\n",
    "results[\"KNN_pred_k\"] = score\n",
    "times[\"KNN_pred_k\"] = total_time\n",
    "\n",
    "print_results(\"KNN PREDEFINED PARAMETERS\", model, score, total_time)"
   ]
  },
  {
   "attachments": {},
   "cell_type": "markdown",
   "metadata": {},
   "source": [
    "Since the NMAE is normalized by the mean absolute error of the test set, it is expected to be different from the MAE calculated directly using the mean_absolute_error function. The NMAE is a way to evaluate the performance of a model in a cross-validation setting, while the MAE is a direct measure of the model's performance on the training set.\n",
    "\n",
    "Therefore, as we can not use the results of RMSE nor MAE in test, we will use the NMAE scoring given in validation to select the best model (as it is a fairly correct aproximation)."
   ]
  },
  {
   "attachments": {},
   "cell_type": "markdown",
   "metadata": {},
   "source": [
    "###  5.1.2. KNN - Selected parameters"
   ]
  },
  {
   "attachments": {},
   "cell_type": "markdown",
   "metadata": {},
   "source": [
    "As seen during the EDA, we have a lot of outliers in the dataset, so we will use a Robust Scaler to scale the data, as it is more robust to outliers than the Standard Scaler or the MinMax Scaler."
   ]
  },
  {
   "attachments": {},
   "cell_type": "markdown",
   "metadata": {},
   "source": [
    "In order to make the process of comparing the Selected parameters with the Predefined parameters, we will create two different models, one for each set of parameters, created one from another with the best parameters found in the previous step and a pipeline with the preprocessing steps."
   ]
  },
  {
   "attachments": {},
   "cell_type": "markdown",
   "metadata": {},
   "source": [
    "Note that KNN with the parameters it selects tend to overfit to the data in this dataset, as it can be seen in the different scatterplots and results. Moreover, we can make sure that it is kind of overfitting (apart from the fact that it has an score of 0 for both MAE and RMSE in train and train validation) as the result in the validation (5th fold) test is not near that good."
   ]
  },
  {
   "attachments": {},
   "cell_type": "markdown",
   "metadata": {},
   "source": [
    "#### 5.1.2.1. KNN - Selected parameters - No attribute selection"
   ]
  },
  {
   "attachments": {},
   "cell_type": "markdown",
   "metadata": {},
   "source": [
    "For this model, as explained in the introduction of this section, the main parameter to consider is the number of neighbors. Additionally, we have identified other relevant parameters that need to be chosen:\n",
    "\n",
    "- **metric**: KNN is a distance-based model, so the way we measure distance between data points affects the results.\n",
    "- Weights (**n_neighbors**): We can decide whether to give equal importance to all neighbors, or if the closest neighbors should have a greater impact on the result (number of neighbors used to determine the output).\n",
    "- **algorithm**: Different algorithms can be used to compute the nearest neighbors, such as a brute-force approach that compares all data points, or a tree-based approach that partitions the data space. The latter is typically faster, but may not always provide the best results."
   ]
  },
  {
   "cell_type": "code",
   "execution_count": null,
   "metadata": {},
   "outputs": [],
   "source": [
    "rmse = []\n",
    "mae = []\n",
    "rmse2 = []\n",
    "mae2 = []\n",
    "\n",
    "a_n_neighbors = range(1, 50, 2)\n",
    "a_metric = [\"euclidean\", \"manhattan\", \"minkowski\", \"chebyshev\"]\n",
    "\n",
    "for i in a_n_neighbors: \n",
    "    model = KNeighborsRegressor(n_neighbors=i)\n",
    "    model.fit(X_train_5th_fold_train , y_train_5th_fold_train )\n",
    "    y_pred = model.predict(X_test_5th_fold_train)\n",
    "    rmse.append(np.sqrt(mean_squared_error(y_test_5th_fold_train , y_pred)))\n",
    "    mae.append(mean_absolute_error(y_test_5th_fold_train, y_pred))\n",
    "    \n",
    "for i in a_metric:\n",
    "    model = KNeighborsRegressor(metric=i)\n",
    "    model.fit(X_train_5th_fold_train , y_train_5th_fold_train )\n",
    "    y_pred = model.predict(X_test_5th_fold_train)\n",
    "    rmse2.append(np.sqrt(mean_squared_error(y_test_5th_fold_train , y_pred)))\n",
    "    mae2.append(mean_absolute_error(y_test_5th_fold_train, y_pred))\n",
    "\n",
    "# Crear dos subplots, uno para cada gráfico\n",
    "fig, (ax1, ax2, ax3, ax4) = plt.subplots(4, 1, figsize=(8, 12))\n",
    "\n",
    "# Graficar RMSE vs. n_neighbors en el primer subplot\n",
    "ax1.plot(list(a_n_neighbors), rmse, label=\"RMSE\")\n",
    "ax1.set_xlabel(\"n_neighbors\")\n",
    "ax1.set_ylabel(\"RMSE\")\n",
    "ax1.set_title(\"Gráfica de RMSE\")\n",
    "\n",
    "# Graficar MAE vs. n_neighbors en el segundo subplot\n",
    "ax2.plot(list(a_n_neighbors), mae, label=\"MAE\")\n",
    "ax2.set_xlabel(\"n_neighbors\")\n",
    "ax2.set_ylabel(\"MAE\")\n",
    "ax2.set_title(\"Gráfica de MAE\")\n",
    "\n",
    "# Graficar RMSE vs. metric en el tercer subplot\n",
    "ax3.plot(a_metric, rmse2, label=\"RMSE\")\n",
    "ax3.set_xlabel(\"metric\")\n",
    "ax3.set_ylabel(\"RMSE\")\n",
    "ax3.set_title(\"Gráfica de RMSE\")\n",
    "\n",
    "# Graficar MAE vs. metric en el cuarto subplot\n",
    "ax4.plot(a_metric, mae2, label=\"MAE\")\n",
    "ax4.set_xlabel(\"metric\")\n",
    "ax4.set_ylabel(\"MAE\")\n",
    "ax4.set_title(\"Gráfica de MAE\")\n",
    "\n",
    "plt.tight_layout()\n",
    "plt.rcParams['figure.figsize'] = [10, 3]\n",
    "plt.show()"
   ]
  },
  {
   "cell_type": "code",
   "execution_count": null,
   "metadata": {
    "notebookRunGroups": {
     "groupValue": "1"
    }
   },
   "outputs": [],
   "source": [
    "np.random.seed(10)\n",
    "budget = 75\n",
    "n_splits = 5\n",
    "\n",
    "pipeline = Pipeline(\n",
    "    [\n",
    "        (\"scaler\", RobustScaler()),\n",
    "        (\"model\", KNeighborsRegressor()),\n",
    "    ]\n",
    ")\n",
    "\n",
    "param_grid = {\n",
    "    \"model__n_neighbors\": list(range(1, 50, 2)),\n",
    "    \"model__weights\": [\"uniform\", \"distance\"],\n",
    "    \"model__metric\": [\"euclidean\", \"manhattan\", \"minkowski\", \"chebyshev\"],\n",
    "    \"model__algorithm\": [\"auto\", \"ball_tree\", \"kd_tree\", \"brute\"],\n",
    "}\n",
    "\n",
    "model = RandomizedSearchCV(\n",
    "    pipeline,\n",
    "    param_grid,\n",
    "    scoring=\"neg_mean_absolute_error\",\n",
    "    cv=TimeSeriesSplit(\n",
    "        n_splits\n",
    "    ),  # TimeSeriesSplit to split the data in folds without losing the temporal order\n",
    "    n_iter=budget,\n",
    "    n_jobs=-1,\n",
    ")\n",
    "\n",
    "start_time = time.time()\n",
    "model.fit(X=X_train, y=y_train)\n",
    "end_time = time.time()\n",
    "\n",
    "total_time = end_time - start_time\n",
    "\n",
    "# We calculate the subsets used for training and testing in the different folds of the cross-validation\n",
    "# validation_splits(model, X_train)  # We al ready did the 5th fold split at the begginning\n",
    "\n",
    "# We obtain the different scores of the model\n",
    "score = train_validation_test(\n",
    "    model,\n",
    "    model.best_estimator_,\n",
    "    model.best_score_,\n",
    "    X_train,\n",
    "    y_train,\n",
    ")\n",
    "\n",
    "models[\"KNN_select\"] = model\n",
    "results[\"KNN_select\"] = score\n",
    "times[\"KNN_select\"] = total_time\n",
    "\n",
    "print_results(\"KNN SELECTED PARAMETERS\", model, score, total_time)"
   ]
  },
  {
   "attachments": {},
   "cell_type": "markdown",
   "metadata": {},
   "source": [
    "#### 5.1.2.2. KNN - Selected parameters - Attribute selection"
   ]
  },
  {
   "cell_type": "code",
   "execution_count": null,
   "metadata": {
    "notebookRunGroups": {
     "groupValue": "1"
    }
   },
   "outputs": [],
   "source": [
    "# Now, we will use the previously calculated best model to add the selection of attributes through the SelectKBest function in the pipeline\n",
    "np.random.seed(10)\n",
    "n_splits = 5\n",
    "\n",
    "\n",
    "pipeline = Pipeline(\n",
    "    [\n",
    "        (\"scaler\", RobustScaler()),\n",
    "        (\"select\", SelectKBest(f_regression)),\n",
    "        (\"model\", KNeighborsRegressor()),\n",
    "    ]\n",
    ")\n",
    "\n",
    "# Previous best model had as parameters: {'model__weights': 'distance', 'model__n_neighbors': 9, 'model__metric': 'manhattan'}\n",
    " \n",
    "param_grid = {\n",
    "    \"model__n_neighbors\": [9],\n",
    "    \"model__weights\": [\"distance\"],\n",
    "    \"model__metric\": [\"manhattan\"],\n",
    "    \"model__algorithm\": [\"kd_tree\"],\n",
    "    \"select__k\": list(range(1, X_train.shape[1] + 1)),\n",
    "}\n",
    "\n",
    "model = GridSearchCV(\n",
    "    pipeline,\n",
    "    param_grid,\n",
    "    scoring=\"neg_mean_absolute_error\",\n",
    "    cv=TimeSeriesSplit(\n",
    "        n_splits\n",
    "    ),\n",
    "    n_jobs=-1,\n",
    ")\n",
    "\n",
    "start_time = time.time()\n",
    "model.fit(X=X_train, y=y_train)\n",
    "end_time = time.time()\n",
    "\n",
    "total_time = end_time - start_time\n",
    "\n",
    "# We calculate the subsets used for training and testing in the different folds of the cross-validation\n",
    "# validation_splits(model, X_train)  # We al ready did the 5th fold split at the begginning\n",
    "\n",
    "# We obtain the different scores of the model\n",
    "score = train_validation_test(\n",
    "    model,\n",
    "    model.best_estimator_,\n",
    "    model.best_score_,\n",
    "    X_train,\n",
    "    y_train,\n",
    ")\n",
    "\n",
    "models[\"KNN_select_k\"] = model\n",
    "results[\"KNN_select_k\"] = score\n",
    "times[\"KNN_select_k\"] = total_time\n",
    "\n",
    "print_results(\"KNN SELECTED PARAMETERS\", model, score, total_time)"
   ]
  },
  {
   "attachments": {},
   "cell_type": "markdown",
   "metadata": {},
   "source": [
    "## 5.2 Regression Trees"
   ]
  },
  {
   "attachments": {},
   "cell_type": "markdown",
   "metadata": {},
   "source": [
    "Trees work by recursively partitioning the data into subsets based on the values of their features, creating a tree-like structure that maps each set of features to a predicted target value. Each node in the tree represents a feature, and each branch represents a decision rule based on the value of that feature. The goal is to split the data in a way that creates the most homogeneous subsets with respect to the target variable. Once the tree is constructed, it can be used to make predictions on new data by following the decision rules down the tree until a leaf node is reached, which contains the predicted target value."
   ]
  },
  {
   "attachments": {},
   "cell_type": "markdown",
   "metadata": {},
   "source": [
    "Note: In trees (both regression trees and random forests), it is not necessary to scale the data, as the algorithm is not sensitive to the scale of the data."
   ]
  },
  {
   "cell_type": "code",
   "execution_count": null,
   "metadata": {
    "notebookRunGroups": {
     "groupValue": "1"
    }
   },
   "outputs": [],
   "source": [
    "from sklearn.tree import DecisionTreeRegressor"
   ]
  },
  {
   "attachments": {},
   "cell_type": "markdown",
   "metadata": {},
   "source": [
    "### 5.2.1. Regression Trees - Predefined parameters"
   ]
  },
  {
   "attachments": {},
   "cell_type": "markdown",
   "metadata": {},
   "source": [
    "#### 5.2.1.1. Regression Trees - Predefined parameters - No attribute selection"
   ]
  },
  {
   "cell_type": "code",
   "execution_count": null,
   "metadata": {
    "notebookRunGroups": {
     "groupValue": "1"
    }
   },
   "outputs": [],
   "source": [
    "np.random.seed(10)\n",
    "n_splits = 5\n",
    "\n",
    "pipeline = Pipeline(\n",
    "    [\n",
    "        (\"model\", DecisionTreeRegressor(random_state=1)),\n",
    "    ]\n",
    ")\n",
    "\n",
    "param_grid = {\n",
    "    \"model__criterion\": [\"squared_error\"],\n",
    "    \"model__max_depth\": [None],\n",
    "    \"model__min_samples_split\": [2],\n",
    "    \"model__max_features\": [None],\n",
    "}\n",
    "\n",
    "model = GridSearchCV(\n",
    "    pipeline,\n",
    "    param_grid,\n",
    "    scoring=\"neg_mean_absolute_error\",\n",
    "    cv=TimeSeriesSplit(n_splits),\n",
    "    n_jobs=-1,\n",
    ")\n",
    "\n",
    "\n",
    "start_time = time.time()\n",
    "model.fit(X=X_train, y=y_train)\n",
    "end_time = time.time()\n",
    "\n",
    "total_time = end_time - start_time\n",
    "\n",
    "# We calculate the subsets used for training and testing in the different folds of the cross-validation\n",
    "# validation_splits(model, X_train)  # We al ready did the 5th fold split at the begginning\n",
    "\n",
    "# We obtain the different scores of the model\n",
    "score = train_validation_test(\n",
    "    model,\n",
    "    model.best_estimator_,\n",
    "    model.best_score_,\n",
    "    X_train,\n",
    "    y_train,\n",
    ")\n",
    "\n",
    "models[\"RegTrees_pred\"] = model\n",
    "results[\"RegTrees_pred\"] = score\n",
    "times[\"RegTrees_pred\"] = total_time\n",
    "\n",
    "print_results(\"REGRESSION TREES PREDEFINED PARAMETERS\", model, score, total_time)"
   ]
  },
  {
   "attachments": {},
   "cell_type": "markdown",
   "metadata": {},
   "source": [
    "#### 5.2.1.2. Regression Trees - Predefined parameters - Attribute selection"
   ]
  },
  {
   "cell_type": "code",
   "execution_count": null,
   "metadata": {
    "notebookRunGroups": {
     "groupValue": "1"
    }
   },
   "outputs": [],
   "source": [
    "np.random.seed(10)\n",
    "n_splits = 5\n",
    "\n",
    "pipeline = Pipeline(\n",
    "    [\n",
    "        ('select', SelectKBest(f_regression)),\n",
    "        (\"model\", DecisionTreeRegressor(random_state=1)),\n",
    "    ]\n",
    ")\n",
    "\n",
    "param_grid = {\n",
    "    \"model__criterion\": [\"squared_error\"],\n",
    "    \"model__max_depth\": [None],\n",
    "    \"model__min_samples_split\": [2],\n",
    "    \"model__max_features\": [None],\n",
    "    \"select__k\": list(range(1, X_train.shape[1] + 1)),\n",
    "}\n",
    "\n",
    "model = GridSearchCV(\n",
    "    pipeline,\n",
    "    param_grid,\n",
    "    scoring=\"neg_mean_absolute_error\",\n",
    "    cv=TimeSeriesSplit(n_splits),\n",
    "    n_jobs=-1,\n",
    ")\n",
    "\n",
    "\n",
    "start_time = time.time()\n",
    "model.fit(X=X_train, y=y_train)\n",
    "end_time = time.time()\n",
    "\n",
    "total_time = end_time - start_time\n",
    "\n",
    "# We calculate the subsets used for training and testing in the different folds of the cross-validation\n",
    "# validation_splits(model, X_train)  # We al ready did the 5th fold split at the begginning\n",
    "\n",
    "# We obtain the different scores of the model\n",
    "score = train_validation_test(\n",
    "    model,\n",
    "    model.best_estimator_,\n",
    "    model.best_score_,\n",
    "    X_train,\n",
    "    y_train,\n",
    ")\n",
    "\n",
    "models[\"RegTrees_pred_k\"] = model\n",
    "results[\"RegTrees_pred_k\"] = score\n",
    "times[\"RegTrees_pred_k\"] = total_time\n",
    "\n",
    "print_results(\"REGRESSION TREES PREDEFINED PARAMETERS\", model, score, total_time)"
   ]
  },
  {
   "attachments": {},
   "cell_type": "markdown",
   "metadata": {},
   "source": [
    "Note: As we can see, the default model is clearly overfitting, as indicated by the 0 error for the train section and a high error for the test section. This is likely due to the lack of control over the maximum depth of the tree, combined with a small minimum sample split that leaves only one sample in each leaf. This causes the model to memorize each data point, leading to poor generalization performance."
   ]
  },
  {
   "attachments": {},
   "cell_type": "markdown",
   "metadata": {},
   "source": [
    "### 5.2.2. Regression Trees - Selected parameters"
   ]
  },
  {
   "attachments": {},
   "cell_type": "markdown",
   "metadata": {},
   "source": [
    "Building upon the previous definition, we can reduce the most important parameters to be ajusted to the following:\n",
    "- **max_features**: controls the number of features ( or attributes ) used in the tree. \n",
    "- **min_samples-split**: controls the minumum number of instances a leaf must have in order to be able to subdivide. This parameter can prevent the tree from overfitting. \n",
    "- **max-depth**: This parammeter also helps to prevent overfitting by stoping the tree from subdividing to much. "
   ]
  },
  {
   "cell_type": "code",
   "execution_count": null,
   "metadata": {},
   "outputs": [],
   "source": [
    "rmse = []\n",
    "mae = []\n",
    "rmse2 = []\n",
    "mae2 = []\n",
    "\n",
    "a_max_depth = range(5, 61, 5)\n",
    "a_min_samples_split = range(5, 200)\n",
    "\n",
    "for i in a_max_depth: \n",
    "    model = DecisionTreeRegressor(random_state=1, max_depth=i)\n",
    "    model.fit(X_train_5th_fold_train , y_train_5th_fold_train )\n",
    "    y_pred = model.predict(X_test_5th_fold_train)\n",
    "    rmse.append(np.sqrt(mean_squared_error(y_test_5th_fold_train , y_pred)))\n",
    "    mae.append(mean_absolute_error(y_test_5th_fold_train, y_pred))\n",
    "    \n",
    "for i in a_min_samples_split:\n",
    "    model = DecisionTreeRegressor(random_state=1, min_samples_split=i)\n",
    "    model.fit(X_train_5th_fold_train , y_train_5th_fold_train )\n",
    "    y_pred = model.predict(X_test_5th_fold_train)\n",
    "    rmse2.append(np.sqrt(mean_squared_error(y_test_5th_fold_train , y_pred)))\n",
    "    mae2.append(mean_absolute_error(y_test_5th_fold_train, y_pred))\n",
    "\n",
    "# Crear dos subplots, uno para cada gráfico\n",
    "fig, (ax1, ax2, ax3, ax4) = plt.subplots(4, 1, figsize=(8, 12))\n",
    "\n",
    "# Graficar RMSE vs. n_neighbors en el primer subplot\n",
    "ax1.plot(list(a_max_depth), rmse, label=\"RMSE\")\n",
    "ax1.set_xlabel(\"max_depth\")\n",
    "ax1.set_ylabel(\"RMSE\")\n",
    "ax1.set_title(\"Gráfica de RMSE\")\n",
    "\n",
    "# Graficar MAE vs. n_neighbors en el segundo subplot\n",
    "ax2.plot(list(a_max_depth), mae, label=\"MAE\")\n",
    "ax2.set_xlabel(\"max_depth\")\n",
    "ax2.set_ylabel(\"MAE\")\n",
    "ax2.set_title(\"Gráfica de MAE\")\n",
    "\n",
    "# Graficar RMSE vs. metric en el tercer subplot\n",
    "ax3.plot(list(a_min_samples_split), rmse2, label=\"RMSE\")\n",
    "ax3.set_xlabel(\"min_samples_split\")\n",
    "ax3.set_ylabel(\"RMSE\")\n",
    "ax3.set_title(\"Gráfica de RMSE\")\n",
    "\n",
    "# Graficar MAE vs. metric en el cuarto subplot\n",
    "ax4.plot(list(a_min_samples_split), mae2, label=\"MAE\")\n",
    "ax4.set_xlabel(\"min_samples_split\")\n",
    "ax4.set_ylabel(\"MAE\")\n",
    "ax4.set_title(\"Gráfica de MAE\")\n",
    "\n",
    "plt.tight_layout()\n",
    "plt.rcParams['figure.figsize'] = [10, 3]\n",
    "plt.show()"
   ]
  },
  {
   "attachments": {},
   "cell_type": "markdown",
   "metadata": {},
   "source": [
    "#### 5.2.2.1. Regression Trees - Selected parameters - No attribute selection"
   ]
  },
  {
   "cell_type": "code",
   "execution_count": null,
   "metadata": {
    "notebookRunGroups": {
     "groupValue": "1"
    }
   },
   "outputs": [],
   "source": [
    "np.random.seed(10)\n",
    "budget = 75\n",
    "n_splits = 5\n",
    "\n",
    "pipeline = Pipeline(\n",
    "    [\n",
    "        (\"model\", DecisionTreeRegressor(random_state=1))\n",
    "    ]\n",
    ")\n",
    "\n",
    "param_grid = {\n",
    "    \"model__criterion\": [\"absolute_error\", \"squared_error\"],\n",
    "    \"model__max_depth\": list(range(5, 61, 5)),\n",
    "    \"model__min_samples_split\": list(range(5, 200)),\n",
    "    \"model__max_features\": [\"sqrt\", \"log2\", None],\n",
    "}\n",
    "\n",
    "# We use TimeSeriesSplit to split the data in folds without losing the temporal order\n",
    "model = RandomizedSearchCV(\n",
    "    pipeline,\n",
    "    param_grid,\n",
    "    scoring=\"neg_mean_absolute_error\",\n",
    "    cv=TimeSeriesSplit(n_splits),\n",
    "    n_iter=budget,\n",
    "    n_jobs=-1,\n",
    ")\n",
    "\n",
    "start_time = time.time()\n",
    "model.fit(X=X_train, y=y_train)\n",
    "end_time = time.time()\n",
    "\n",
    "total_time = end_time - start_time\n",
    "\n",
    "# We calculate the subsets used for training and testing in the different folds of the cross-validation\n",
    "# validation_splits(model, X_train)  # We al ready did the 5th fold split at the begginning\n",
    "\n",
    "# We obtain the different scores of the model\n",
    "score = train_validation_test(\n",
    "    model,\n",
    "    model.best_estimator_,\n",
    "    model.best_score_,\n",
    "    X_train,\n",
    "    y_train,\n",
    ")\n",
    "\n",
    "models[\"RegTrees_select\"] = model\n",
    "results[\"RegTrees_select\"] = score\n",
    "times[\"RegTrees_select\"] = total_time\n",
    "\n",
    "print_results(\"REGRESSION TREES SELECTED PARAMETERS\", model, score, total_time)"
   ]
  },
  {
   "attachments": {},
   "cell_type": "markdown",
   "metadata": {},
   "source": [
    "#### 5.2.2.2. Regression Trees - Selected parameters - Attribute selection"
   ]
  },
  {
   "cell_type": "code",
   "execution_count": null,
   "metadata": {
    "notebookRunGroups": {
     "groupValue": "1"
    }
   },
   "outputs": [],
   "source": [
    "np.random.seed(10)\n",
    "n_splits = 5\n",
    "\n",
    "pipeline = Pipeline(\n",
    "    [\n",
    "        (\"select\", SelectKBest(f_regression)),\n",
    "        (\"model\", DecisionTreeRegressor(random_state=1))\n",
    "    ]\n",
    ")\n",
    "\n",
    "# Previous model Parameters: {'model__min_samples_split': 106, 'model__max_features': None, 'model__max_depth': 30, 'model__criterion': 'absolute_error'}\n",
    "\n",
    "param_grid = {\n",
    "    \"model__criterion\": [\"absolute_error\"],\n",
    "    \"model__max_depth\": [30],\n",
    "    \"model__min_samples_split\": [106],\n",
    "    \"model__max_features\": [None],\n",
    "    \"select__k\": list(range(1, X_train.shape[1] + 1)),\n",
    "}\n",
    "\n",
    "# We use TimeSeriesSplit to split the data in folds without losing the temporal order\n",
    "model = GridSearchCV(\n",
    "    pipeline,\n",
    "    param_grid,\n",
    "    scoring=\"neg_mean_absolute_error\",\n",
    "    cv=TimeSeriesSplit(n_splits),\n",
    "    n_jobs=-1,\n",
    ")\n",
    "\n",
    "start_time = time.time()\n",
    "model.fit(X=X_train, y=y_train)\n",
    "end_time = time.time()\n",
    "\n",
    "total_time = end_time - start_time\n",
    "\n",
    "# We calculate the subsets used for training and testing in the different folds of the cross-validation\n",
    "# validation_splits(model, X_train)  # We al ready did the 5th fold split at the begginning\n",
    "\n",
    "# We obtain the different scores of the model\n",
    "score = train_validation_test(\n",
    "    model,\n",
    "    model.best_estimator_,\n",
    "    model.best_score_,\n",
    "    X_train,\n",
    "    y_train,\n",
    ")\n",
    "\n",
    "models[\"RegTrees_select_k\"] = model\n",
    "results[\"RegTrees_select_k\"] = score\n",
    "times[\"RegTrees_select_k\"] = total_time\n",
    "\n",
    "print_results(\"REGRESSION TREES SELECTED PARAMETERS\", model, score, total_time)"
   ]
  },
  {
   "attachments": {},
   "cell_type": "markdown",
   "metadata": {},
   "source": [
    "## 5.3 Linnear Regression"
   ]
  },
  {
   "attachments": {},
   "cell_type": "markdown",
   "metadata": {},
   "source": [
    "Linear regression is a supervised learning algorithm that models the relationship between a dependent variable and one or more independent variables by fitting a linear equation to the observed data. The goal is to find the best fit line that can predict the dependent variable given the independent variables.\n",
    "\n",
    "For the selected model we will be considering Lasso and Ridge.\n",
    "Lasso and Ridge regression are two popular regularization techniques used with linear regression. Lasso adds a penalty term to the regression equation that encourages the model to minimize the absolute value of the regression coefficients, which can lead to some coefficients being exactly zero. Ridge regression, on the other hand, adds a penalty term that encourages the model to minimize the square of the regression coefficients, which can help prevent overfitting. These techniques can improve the performance of the linear regression model by reducing the impact of irrelevant or highly correlated features."
   ]
  },
  {
   "cell_type": "code",
   "execution_count": null,
   "metadata": {
    "notebookRunGroups": {
     "groupValue": "1"
    }
   },
   "outputs": [],
   "source": [
    "from sklearn.linear_model import LinearRegression, Lasso, Ridge, ElasticNet"
   ]
  },
  {
   "attachments": {},
   "cell_type": "markdown",
   "metadata": {},
   "source": [
    "### 5.3.1. Linear Regression - Predefined parameters"
   ]
  },
  {
   "attachments": {},
   "cell_type": "markdown",
   "metadata": {},
   "source": [
    "#### 5.3.1.1. Linear Regression - Predefined parameters - No attribute selection"
   ]
  },
  {
   "cell_type": "code",
   "execution_count": null,
   "metadata": {
    "notebookRunGroups": {
     "groupValue": "1"
    }
   },
   "outputs": [],
   "source": [
    "np.random.seed(10)\n",
    "n_splits = 5\n",
    "\n",
    "pipeline = Pipeline([(\"scaler\", RobustScaler()), (\"model\", LinearRegression())])\n",
    "\n",
    "param_grid = {\n",
    "    \"model__fit_intercept\": [True],\n",
    "}\n",
    "\n",
    "model = GridSearchCV(\n",
    "    pipeline,\n",
    "    param_grid,\n",
    "    scoring=\"neg_mean_absolute_error\",\n",
    "    cv=TimeSeriesSplit(n_splits),\n",
    "    n_jobs=-1,\n",
    ")\n",
    "\n",
    "start_time = time.time()\n",
    "model.fit(X=X_train, y=y_train)\n",
    "end_time = time.time()\n",
    "\n",
    "total_time = end_time - start_time\n",
    "\n",
    "# We calculate the subsets used for training and testing in the different folds of the cross-validation\n",
    "# validation_splits(model, X_train)  # We al ready did the 5th fold split at the begginning\n",
    "\n",
    "# We obtain the different scores of the model\n",
    "score = train_validation_test(\n",
    "    model,\n",
    "    model.best_estimator_,\n",
    "    model.best_score_,\n",
    "    X_train,\n",
    "    y_train,\n",
    ")\n",
    "\n",
    "models[\"LinearReg_pred\"] = model\n",
    "results[\"LinearReg_pred\"] = score\n",
    "times[\"LinearReg_pred\"] = total_time\n",
    "\n",
    "print_results(\"LINEAR REGRESSION PREDEFINED PARAMETERS\", model, score, total_time)"
   ]
  },
  {
   "attachments": {},
   "cell_type": "markdown",
   "metadata": {},
   "source": [
    "#### 5.3.1.2. Linear Regression - Predefined parameters - No attribute selection"
   ]
  },
  {
   "cell_type": "code",
   "execution_count": null,
   "metadata": {
    "notebookRunGroups": {
     "groupValue": "1"
    }
   },
   "outputs": [],
   "source": [
    "np.random.seed(10)\n",
    "n_splits = 5\n",
    "\n",
    "pipeline = Pipeline(\n",
    "    [\n",
    "        (\"scaler\", RobustScaler()),\n",
    "        (\"select\", SelectKBest(f_regression)),\n",
    "        (\"model\", LinearRegression()),\n",
    "    ]\n",
    ")\n",
    "\n",
    "param_grid = {\n",
    "    \"model__fit_intercept\": [True],\n",
    "    \"select__k\": list(range(1, X_train.shape[1] + 1)),\n",
    "}\n",
    "\n",
    "model = GridSearchCV(\n",
    "    pipeline,\n",
    "    param_grid,\n",
    "    scoring=\"neg_mean_absolute_error\",\n",
    "    cv=TimeSeriesSplit(n_splits),\n",
    "    n_jobs=-1,\n",
    ")\n",
    "\n",
    "\n",
    "start_time = time.time()\n",
    "model.fit(X=X_train, y=y_train)\n",
    "end_time = time.time()\n",
    "\n",
    "total_time = end_time - start_time\n",
    "\n",
    "# We calculate the subsets used for training and testing in the different folds of the cross-validation\n",
    "# validation_splits(model, X_train)  # We al ready did the 5th fold split at the begginning\n",
    "\n",
    "# We obtain the different scores of the model\n",
    "score = train_validation_test(\n",
    "    model,\n",
    "    model.best_estimator_,\n",
    "    model.best_score_,\n",
    "    X_train,\n",
    "    y_train,\n",
    ")\n",
    "\n",
    "models[\"LinearReg_pred_k\"] = model\n",
    "results[\"LinearReg_pred_k\"] = score\n",
    "times[\"LinearReg_pred_k\"] = total_time\n",
    "\n",
    "print_results(\"LINEAR REGRESSION PREDEFINED PARAMETERS\", model, score, total_time)"
   ]
  },
  {
   "attachments": {},
   "cell_type": "markdown",
   "metadata": {},
   "source": [
    "### 5.3.2. Linear Regression - Selected parameters"
   ]
  },
  {
   "attachments": {},
   "cell_type": "markdown",
   "metadata": {},
   "source": [
    "Expanding upon the previous discussion, when using **Lasso** regression, we can focus on adjusting the following key parameters:\n",
    "\n",
    "- **alpha**: This parameter determines the amount of regularization applied to the model. A higher alpha results in stronger regularization, which can help to reduce overfitting.\n",
    "- **k**: This parameter determines the number of features selected by the Lasso model. By adjusting k, we can control the complexity of the model and potentially improve its performance.\n",
    "It's worth noting that these are just a few of the many parameters that can be adjusted when using Lasso regression. However, by focusing on these key parameters, we can gain a better understanding of how the model works and how to optimize its performance.\n",
    "\n",
    "\n",
    "\n",
    "We can reduce the most important parameters to be adjusted for **Ridge** regression to the following:\n",
    "\n",
    "- **alpha**: controls the strength of the regularization penalty applied to the coefficients. A high alpha value can lead to underfitting, while a low alpha value can lead to overfitting.\n",
    "- **k**: the number of top features selected by the SelectKBest function. This parameter determines the number of features to be used in the model and can have an impact on its performance.\n",
    "\n",
    "\n",
    "Similarly, we can reduce the most important parameters for **Elastic Net** regression to be adjusted to the following:\n",
    "\n",
    "- **alpha**: controls the regularization strength of both L1 and L2 penalties. A high alpha will increase the regularization strength, while a low alpha will decrease it.\n",
    "- **l1_ratio**: controls the ratio between L1 and L2 penalties. A l1_ratio of 1 is equivalent to Lasso regression, while a ratio of 0 is equivalent to Ridge regression.\n",
    "- **k**: the number of features to be selected by the SelectKBest method. This parameter is part of the pipeline and helps to select the most relevant features for the model.\n",
    "Adjusting these parameters can help prevent overfitting and improve the performance of the Elastic Net regression model.\n",
    "\n",
    "Note: due to scikit learn internal implementation of the Elastic Net model, we can obtain Lasso model by setting l1_ratio to 1 but not Ridge model by setting l1_ratio to 0, which is strange. This results in a poor performance of Elastic Net model, as for this dataset, Ridge model is way more efficient than Lasso model.<br>This could be occurring due to the dataset itself (outliers, correlations...), the dataset handling, the library version, the dependencies, the python version, or the virtual environment.\n"
   ]
  },
  {
   "cell_type": "code",
   "execution_count": null,
   "metadata": {},
   "outputs": [],
   "source": [
    "rmse = []\n",
    "mae = []\n",
    "rmse2 = []\n",
    "mae2 = []\n",
    "\n",
    "a_alpha = np.logspace(-2, 5, 75)\n",
    "\n",
    "for i in a_alpha: \n",
    "    model = Lasso(fit_intercept=True, tol=0.5, random_state=10, alpha = i)\n",
    "    model.fit(X_train_5th_fold_train , y_train_5th_fold_train )\n",
    "    y_pred = model.predict(X_test_5th_fold_train)\n",
    "    rmse.append(np.sqrt(mean_squared_error(y_test_5th_fold_train , y_pred)))\n",
    "    mae.append(mean_absolute_error(y_test_5th_fold_train, y_pred))\n",
    "    \n",
    "\n",
    "# Crear dos subplots, uno para cada gráfico\n",
    "fig, (ax1, ax2) = plt.subplots(2, 1, figsize=(8, 12))\n",
    "\n",
    "# Graficar RMSE vs. n_neighbors en el primer subplot\n",
    "ax1.plot(list(a_alpha), rmse, label=\"RMSE\")\n",
    "ax1.set_xlabel(\"alpha\")\n",
    "ax1.set_ylabel(\"RMSE\")\n",
    "ax1.set_title(\"Gráfica de RMSE\")\n",
    "\n",
    "# Graficar MAE vs. n_neighbors en el segundo subplot\n",
    "ax2.plot(list(a_alpha), mae, label=\"MAE\")\n",
    "ax2.set_xlabel(\"alpha\")\n",
    "ax2.set_ylabel(\"MAE\")\n",
    "ax2.set_title(\"Gráfica de MAE\")\n",
    "\n",
    "plt.tight_layout()\n",
    "plt.rcParams['figure.figsize'] = [10, 3]\n",
    "plt.show()"
   ]
  },
  {
   "attachments": {},
   "cell_type": "markdown",
   "metadata": {},
   "source": [
    "#### 5.3.2.1. Linear Regression - Selected parameters - Attribute Selection"
   ]
  },
  {
   "cell_type": "code",
   "execution_count": null,
   "metadata": {
    "notebookRunGroups": {
     "groupValue": "1"
    }
   },
   "outputs": [],
   "source": [
    "np.random.seed(10)\n",
    "budget = 75\n",
    "n_splits = 5\n",
    "\n",
    "all_scores = []\n",
    "\n",
    "# ! Pipelines\n",
    "pipeline_lasso = Pipeline(\n",
    "    [\n",
    "        (\"scaler\", RobustScaler()),\n",
    "        (\"model\", Lasso(fit_intercept=True, tol=0.5, random_state=10)),\n",
    "    ]\n",
    ")\n",
    "\n",
    "pipeline_ridge = Pipeline(\n",
    "    [\n",
    "        (\"scaler\", RobustScaler()),\n",
    "        (\"model\", Ridge(fit_intercept=True, random_state=10)),\n",
    "    ]\n",
    ")\n",
    "\n",
    "pipeline_elastic = Pipeline(\n",
    "    [\n",
    "        (\"scaler\", RobustScaler()),\n",
    "        (\"model\", ElasticNet(fit_intercept=True, tol=0.5, random_state=10)),\n",
    "    ]\n",
    ")\n",
    "\n",
    "# ! Parameter grids\n",
    "param_grid_lasso = {\n",
    "    \"model__alpha\": np.logspace(-2, 5, 75),  # Between 0.001 and 100000\n",
    "}\n",
    "\n",
    "param_grid_ridge = {\n",
    "    \"model__alpha\": np.logspace(-2, 1, 75),  # Between 0.001 and 10\n",
    "}\n",
    "\n",
    "param_grid_elastic = {\n",
    "    \"model__alpha\": np.logspace(-2, 5, 75),  # Between 0.001 and 10\n",
    "    \"model__l1_ratio\": np.linspace(0, 1, 75),  # Between 0 and 1\n",
    "}\n",
    "\n",
    "# ! If we want to use random values for the parameters -> unconsistency in the results\n",
    "regr_lasso = RandomizedSearchCV(\n",
    "    pipeline_lasso,\n",
    "    param_grid_lasso,\n",
    "    scoring=\"neg_mean_absolute_error\",\n",
    "    cv=TimeSeriesSplit(),\n",
    "    n_iter=budget,\n",
    "    n_jobs=-1,\n",
    ")\n",
    "\n",
    "regr_ridge = RandomizedSearchCV(\n",
    "    pipeline_ridge,\n",
    "    param_grid_ridge,\n",
    "    scoring=\"neg_mean_absolute_error\",\n",
    "    cv=TimeSeriesSplit(),\n",
    "    n_iter=budget,\n",
    "    n_jobs=-1,\n",
    ")\n",
    "\n",
    "regr_elastic = RandomizedSearchCV(\n",
    "    pipeline_elastic,\n",
    "    param_grid_elastic,\n",
    "    scoring=\"neg_mean_absolute_error\",\n",
    "    cv=TimeSeriesSplit(),\n",
    "    n_iter=budget,\n",
    "    n_jobs=-1,\n",
    ")\n",
    "\n",
    "model = [regr_lasso, regr_ridge, regr_elastic]\n",
    "\n",
    "\n",
    "ln_reg_time, scoring = [], []\n",
    "\n",
    "\n",
    "for i in model:\n",
    "    start_time = time.time()\n",
    "    i.fit(X=X_train, y=y_train)\n",
    "    print(f\"Model: {i.best_score_}\")\n",
    "    print(i.best_params_)\n",
    "    # Now we reevaluate the model on the test set to obtain more accurate results\n",
    "    # Calculate the subsets used for training and testing in the different folds of the cross-validation\n",
    "    # validation_folds = validation_splits(i, X_train)\n",
    "    scoring.append(i.best_score_)\n",
    "    all_scores.append(\n",
    "        train_validation_test(\n",
    "            i,\n",
    "            i.best_estimator_,\n",
    "            i.best_score_,\n",
    "            X_train,\n",
    "            y_train,\n",
    "        )\n",
    "    )\n",
    "    ln_reg_time.append(time.time() - start_time)\n",
    "\n",
    "print(ln_reg_time)\n",
    "\n",
    "# Select the best model (based on the MAE)\n",
    "max_score = min(\n",
    "    all_scores, key=lambda x: abs(x[0])\n",
    ")  # Best model is the one that minimizes the validation NMAE\n",
    "best_model = model[all_scores.index(max_score)]\n",
    "total_time = ln_reg_time[all_scores.index(max_score)]\n",
    "\n",
    "models[\"LinearReg_select\"] = best_model\n",
    "results[\"LinearReg_select\"] = max_score\n",
    "times[\"LinearReg_select\"] = total_time\n",
    "\n",
    "# Print results\n",
    "print_results(\"LINEAR REGRESSION SELECTED PARAMETERS\", best_model, score, total_time)"
   ]
  },
  {
   "attachments": {},
   "cell_type": "markdown",
   "metadata": {},
   "source": [
    "#### 5.3.2.2. Linear Regression - Selected parameters - Attribute Selection"
   ]
  },
  {
   "cell_type": "code",
   "execution_count": null,
   "metadata": {
    "notebookRunGroups": {
     "groupValue": "1"
    }
   },
   "outputs": [],
   "source": [
    "np.random.seed(10)\n",
    "n_splits = 5\n",
    "\n",
    "# We use Ridge as model as it is the best performing one\n",
    "pipeline = Pipeline(\n",
    "    [\n",
    "        (\"scaler\", RobustScaler()),\n",
    "        (\"select\", SelectKBest(f_regression)),\n",
    "        (\"model\", Ridge(fit_intercept=True, random_state=10)),\n",
    "    ]\n",
    ")\n",
    "\n",
    "# Previous model Parameters: {'model__alpha': 0.9693631061142517}\n",
    "\n",
    "param_grid = {\n",
    "    \"model__alpha\": [0.9693631061142517],\n",
    "    \"select__k\": list(range(1, X_train.shape[1] + 1)),\n",
    "}\n",
    "\n",
    "# We use TimeSeriesSplit to split the data in folds without losing the temporal order\n",
    "model = GridSearchCV(\n",
    "    pipeline,\n",
    "    param_grid,\n",
    "    scoring=\"neg_mean_absolute_error\",\n",
    "    cv=TimeSeriesSplit(n_splits),\n",
    "    n_jobs=-1,\n",
    ")\n",
    "\n",
    "start_time = time.time()\n",
    "model.fit(X=X_train, y=y_train)\n",
    "end_time = time.time()\n",
    "\n",
    "total_time = end_time - start_time\n",
    "\n",
    "# We calculate the subsets used for training and testing in the different folds of the cross-validation\n",
    "# validation_splits(model, X_train)  # We al ready did the 5th fold split at the begginning\n",
    "\n",
    "# We obtain the different scores of the model\n",
    "score = train_validation_test(\n",
    "    model,\n",
    "    model.best_estimator_,\n",
    "    model.best_score_,\n",
    "    X_train,\n",
    "    y_train,\n",
    ")\n",
    "\n",
    "models[\"LinearReg_select_k\"] = model\n",
    "results[\"LinearReg_select_k\"] = score\n",
    "times[\"LinearReg_select_k\"] = total_time\n",
    "\n",
    "# Print results\n",
    "print_results(\"LINEAR REGRESSION SELECTED PARAMETERS\", best_model, score, total_time)"
   ]
  },
  {
   "attachments": {},
   "cell_type": "markdown",
   "metadata": {},
   "source": [
    "To be observed, the selected model, Ridge, does not delete any of the attributes (as expected, as it is one of its flaws), but some of their weights are close to zero, so we can consider that they are not relevant for the model.\n",
    "\n",
    "On the other hand, the Lasso model and the ElasticNet model, do delete some of the attributes, but the results are worse than the Ridge model, so we will not consider them."
   ]
  },
  {
   "attachments": {},
   "cell_type": "markdown",
   "metadata": {},
   "source": [
    "## 5.4. Dummy Regressor"
   ]
  },
  {
   "attachments": {},
   "cell_type": "markdown",
   "metadata": {},
   "source": [
    "As in the other models, in order to be able to compare the different times and scores, we will divide the dummy regressor into two different models. The first model creates the model without selecting the attributes and the second uses the best parameters of the previous one and selects the attributes through another pipeline."
   ]
  },
  {
   "attachments": {},
   "cell_type": "markdown",
   "metadata": {},
   "source": [
    "As strategy we selected \"median\" as we are dealing with (N)MAE as scoring in the other methods."
   ]
  },
  {
   "cell_type": "code",
   "execution_count": null,
   "metadata": {
    "notebookRunGroups": {
     "groupValue": "1"
    }
   },
   "outputs": [],
   "source": [
    "from sklearn.dummy import DummyRegressor"
   ]
  },
  {
   "cell_type": "code",
   "execution_count": null,
   "metadata": {
    "notebookRunGroups": {
     "groupValue": "1"
    }
   },
   "outputs": [],
   "source": [
    "np.random.seed(10)\n",
    "n_splits = 5\n",
    "\n",
    "pipeline = Pipeline(\n",
    "    [\n",
    "        (\"scaler\", RobustScaler()),\n",
    "        (\"model\", DummyRegressor()),\n",
    "    ]\n",
    ")\n",
    "\n",
    "param_grid = {\n",
    "    'model__strategy': ['median'],\n",
    "}\n",
    "\n",
    "model = GridSearchCV(\n",
    "    pipeline,\n",
    "    param_grid,\n",
    "    scoring=\"neg_mean_absolute_error\",\n",
    "    cv=TimeSeriesSplit(n_splits),\n",
    "    n_jobs=-1,\n",
    ")\n",
    "\n",
    "start_time = time.time()\n",
    "model.fit(X=X_train, y=y_train)\n",
    "end_time = time.time()\n",
    "\n",
    "total_time = end_time - start_time\n",
    "\n",
    "# We calculate the subsets used for training and testing in the different folds of the cross-validation\n",
    "# validation_splits(model, X_train)  # We al ready did the 5th fold split at the begginning\n",
    "\n",
    "# We obtain the different scores of the model\n",
    "score = train_validation_test(\n",
    "    model,\n",
    "    model.best_estimator_,\n",
    "    model.best_score_,\n",
    "    X_train,\n",
    "    y_train,\n",
    ")\n",
    "\n",
    "models[\"DummyReg\"] = model\n",
    "results[\"DummyReg\"] = score\n",
    "times[\"DummyReg\"] = total_time\n",
    "\n",
    "print_results(\"RANDOM FOREST PREDEFINED PARAMETERS\", model, score, total_time)"
   ]
  },
  {
   "attachments": {},
   "cell_type": "markdown",
   "metadata": {},
   "source": [
    "### 5.4.2. Dummy Regressor - Attribute selection"
   ]
  },
  {
   "cell_type": "code",
   "execution_count": null,
   "metadata": {
    "notebookRunGroups": {
     "groupValue": "1"
    }
   },
   "outputs": [],
   "source": [
    "np.random.seed(10)\n",
    "n_splits = 5\n",
    "\n",
    "pipeline = Pipeline(\n",
    "    [\n",
    "        (\"scaler\", RobustScaler()),\n",
    "        (\"select\", SelectKBest(f_regression)),\n",
    "        (\"model\", DummyRegressor(strategy=\"median\")),\n",
    "    ]\n",
    ")\n",
    "\n",
    "# Previous model parameters: {'model__strategy': 'median'}\n",
    "\n",
    "param_grid = {\n",
    "    'model__strategy': ['median'],\n",
    "    \"select__k\": list(range(1, X_train.shape[1] + 1)),\n",
    "}\n",
    "\n",
    "model = GridSearchCV(\n",
    "    pipeline,\n",
    "    param_grid,\n",
    "    scoring=\"neg_mean_absolute_error\",\n",
    "    cv=TimeSeriesSplit(n_splits),\n",
    "    n_jobs=-1,\n",
    ")\n",
    "\n",
    "start_time = time.time()\n",
    "model.fit(X=X_train, y=y_train)\n",
    "end_time = time.time()\n",
    "\n",
    "total_time = end_time - start_time\n",
    "\n",
    "# We calculate the subsets used for training and testing in the different folds of the cross-validation\n",
    "# validation_splits(model, X_train)  # We al ready did the 5th fold split at the begginning\n",
    "\n",
    "# We obtain the different scores of the model\n",
    "score = train_validation_test(\n",
    "    model,\n",
    "    model.best_estimator_,\n",
    "    model.best_score_,\n",
    "    X_train,\n",
    "    y_train,\n",
    ")\n",
    "\n",
    "models[\"DummyReg_k\"] = model\n",
    "results[\"DummyReg_k\"] = score\n",
    "times[\"DummyReg_k\"] = total_time\n",
    "\n",
    "print_results(\"RANDOM FOREST PREDEFINED PARAMETERS\", model, score, total_time)"
   ]
  },
  {
   "attachments": {},
   "cell_type": "markdown",
   "metadata": {},
   "source": [
    "As expected, the selection of attributes does not improve the results of the dummy regressor model and it is useless in terms of performance. This is due to the fact that the dummy regressor is a model that does not take into account the attributes, so it does not matter if we select them or not, so it selects just one (k=1)."
   ]
  },
  {
   "attachments": {},
   "cell_type": "markdown",
   "metadata": {},
   "source": [
    "## 5.5. Results"
   ]
  },
  {
   "attachments": {},
   "cell_type": "markdown",
   "metadata": {},
   "source": [
    "First, we adjust the times by adding to the time of the selection of the attributes the time of training the real model. This is because the selection of the attributes is done after the training of the model, so it does not contain the time of the training of the model.<br><br>This is just an approximation to how much the selection of the attributes will last, as we are using two different models and pipelines, we are not able to calculate it directly."
   ]
  },
  {
   "cell_type": "code",
   "execution_count": null,
   "metadata": {},
   "outputs": [],
   "source": [
    "# We store the partial times for future use\n",
    "partial_times = times.copy()\n",
    "\n",
    "# Real time adjustment (we add the time of the attribute selection to the time of the model real training)\n",
    "print(times)\n",
    "for key in times.keys():\n",
    "    # If even, we dont add the time of the attribute selection\n",
    "    # If odd, we add the time of the attribute selection\n",
    "    if list(times.keys()).index(key) % 2 != 0:\n",
    "        times[key] += times[key.replace(\"_k\", \"\")]\n",
    "print(times)"
   ]
  },
  {
   "cell_type": "code",
   "execution_count": null,
   "metadata": {
    "notebookRunGroups": {
     "groupValue": "1"
    }
   },
   "outputs": [],
   "source": [
    "np.random.seed(10)\n",
    "\n",
    "# ! Obtain best, worst, fastest and slowest model\n",
    "max_score = max(results.values(), key=lambda x: abs(x[0]))  # We use the scoring (NMAE) as explained above to select the best model\n",
    "min_score = min(results.values(), key=lambda x: abs(x[0]))\n",
    "# Obtain the key name of the best and worst model\n",
    "max_time = max(times.values(), key=lambda x: x)\n",
    "min_time = min(times.values(), key=lambda x: x)\n",
    "\n",
    "best_model = list(results.keys())[list(results.values()).index(min_score)]\n",
    "worst_model = list(results.keys())[list(results.values()).index(max_score)]\n",
    "fastest_model = list(times.keys())[list(times.values()).index(min_time)]\n",
    "slowest_model = list(times.keys())[list(times.values()).index(max_time)]\n",
    "\n",
    "print(f\"Best model: {best_model} with score (-NMAE) {abs(min_score[0])} and time {list(times.values())[list(results.values()).index(min_score)]}s\")\n",
    "print(f\"Worst model: {worst_model} with score (-NMAE) {abs(max_score[0])} and time {list(times.values())[list(results.values()).index(max_score)]}s\")\n",
    "print(f\"Fastest model: {fastest_model} with score (-NMAE) {abs(results[fastest_model][0])} and time {min_time}s\")\n",
    "print(f\"Slowest model: {slowest_model} with score(-NMAE) {abs(results[slowest_model][0])} and time {max_time}s\")\n",
    "\n",
    "\n",
    "# ! Average (test MAE) score of the models\n",
    "avg_score = 0\n",
    "avg_time = 0\n",
    "\n",
    "for key, value in results.items():\n",
    "    avg_score += results[key][0]\n",
    "    avg_time += times[key]\n",
    "\n",
    "print(f\"\\nAverage models score: {abs(avg_score/len(results))}\")\n",
    "print(f\"Average models time: {avg_time/len(times)}\\n\")\n",
    "\n",
    "\n",
    "# ! Differences\n",
    "print(\"The score difference between the best and worst model is: \", abs(max_score[0] - min_score)[0])  # Scoring evaluation -NMAE\n",
    "print(\"The score difference between the best and fastest model is: \", abs(min_score[0] - abs(results[fastest_model][0])))  # Scoring evaluation -NMAE\n",
    "print(\"The time difference between the best and fastest model model is: \", abs(list(times.values())[list(results.values()).index(min_score)] - min_time))\n",
    "print(\"The time difference between the fastest and slowest model is: \", abs(max_time - min_time))"
   ]
  },
  {
   "cell_type": "code",
   "execution_count": null,
   "metadata": {
    "notebookRunGroups": {
     "groupValue": "1"
    }
   },
   "outputs": [],
   "source": [
    "# Print the results up to now\n",
    "plt.rcParams['figure.figsize'] = [10, 3.5]\n",
    "\n",
    "# ! Plot the scores (NMAE in evaluation)\n",
    "print(\"MODEL SCORES (NMAE in evaluation)\")\n",
    "iter = 0\n",
    "for key, value in results.items():\n",
    "    plt.bar(key, abs(value[0]))\n",
    "    print(f\"{iter}. {key}: {abs(value[0])}\")\n",
    "    iter += 1\n",
    "plt.title(\"Score\")\n",
    "plt.xlabel(\"Model\")\n",
    "plt.ylabel(\"NMAE scoring in validation\")\n",
    "plt.tight_layout()\n",
    "\n",
    "plt.xticks(rotation=45, ha='right', size=7)\n",
    "\n",
    "# Exporting image as png to ../data/img folder\n",
    "plt.savefig(\"../data/img/basic_methods_score.png\")\n",
    "plt.show()\n",
    "\n",
    "# ! Plot the time (just the even ones == the ones that are not selectors of attributes)\n",
    "print(\"MODEL TIMES (s)\")\n",
    "iter = 0\n",
    "for key, value in times.items():\n",
    "    if iter % 2 == 0:\n",
    "        plt.bar(key, value)\n",
    "        print(f\"{iter}. {key}: {value}\")\n",
    "    iter += 1\n",
    "plt.title(\"Time\")\n",
    "plt.xlabel(\"Model\")\n",
    "plt.ylabel(\"Time (s)\")\n",
    "plt.tight_layout()\n",
    "\n",
    "plt.xticks(rotation=45, ha='right', size=7)\n",
    "\n",
    "# Exporting image as png to ../data/img folder\n",
    "plt.savefig(\"../data/img/basic_methods_time.png\")\n",
    "plt.show()\n",
    "\n",
    "# ! Plot the time (just the odd ones == the selectors of attributes)\n",
    "print(\"MODEL ATTRIBUTE SELECTION TIMES (s)\")\n",
    "iter = 0\n",
    "for key, value in times.items():\n",
    "    if iter % 2 != 0:\n",
    "        plt.bar(key, value)\n",
    "        print(f\"{iter}. {key}: {value}\")\n",
    "    iter += 1\n",
    "plt.title(\"Time to select attributes\")\n",
    "plt.xlabel(\"Model\")\n",
    "plt.ylabel(\"Time (s)\")\n",
    "plt.tight_layout()\n",
    "\n",
    "plt.xticks(rotation=45, ha='right', size=7)\n",
    "\n",
    "# Exporting image as png to ../data/img folder - easier to visualize the annotations, better resolution\n",
    "plt.savefig(\"../data/img/basic_methods_time_atb.png\")\n",
    "plt.show()"
   ]
  },
  {
   "attachments": {},
   "cell_type": "markdown",
   "metadata": {},
   "source": [
    "## 5.6. Conclusions: \n",
    "\n",
    "After computing all of the models, we can draw some conclusions:\n",
    "\n",
    "- **Best model**: the best model in terms of scoring (-NMAE) is the LinearReg_select_k (linear regression with selected parameters and selected attributes) model, with a score of 2389586.491181177\n",
    "- **Fastest model**: the fastest model is the dummy regressor, as it does not need to train the model, it just returns the median of the target variable.\n",
    "- **Fastest Basic model**: the fastest basic model is the Linear Regression with predefined parameters, as it does not need to select attributes. Surprisingly, it is pretty accurate as well (linear regression models work pretty well out of the box without needing parameter selection), having a score 2437056.0592061607 near to the one obtained by the Linear Regression with selected parameters and attribute selection.\n",
    "\n",
    "**¿Are the obtained results better than the ones from the naive approach?**\n",
    "\n",
    "Yes, they are, all of the models had a way better score than the one obtained by the naive approach, which had an -NMAE of 6953359.144736841 (with and without attribute selection). This can be clearly seen in the first graph showing the different models and their scores.<br>\n",
    "There, it can be observed that all of the models we tested outperformed the dummy model by a significant margin. The dummy model produced an NMAE error of -6953359.144736841, while our worst-performing model (RegTrees_pred) produced an error of -3467149.4407894737.\n",
    "\n",
    "**¿Are models with selection of parameters better than the ones that use the predefined ones?**\n",
    "\n",
    "We found that in general, selecting hyperparameters led to better results across all of the models. However, this improvement came at the cost of increased time and computing resources. Therefore, when deciding which model to use, it is important to consider the balance between improved performance and increased training time.\n",
    "\n",
    "\n",
    "**¿Are models with selection of attributes better than the ones that use all of them?**\n",
    "\n",
    "By observing the performace (both time and score), and the graphs, we can observe that the models with attribute selection generally perform better than those that use all attributes as they help reduce noise and irrelevant features, resulting in a more focused set of attributes for modeling, improving accuracy and generalization. However, as it can be observed in the third graph, attribute selection  increases computation time as it adds a stage of preprocessing to the model. Despite the longer training times, the benefits of improved performance may outweigh the costs. As stated with selection of parameters question, it is needed to consider specific project requirements and resources when deciding on the approach to use.\n",
    "\n",
    "\n",
    "**Model selection**\n",
    "\n",
    "Regarding the individual models, we observed that the LinearReg_select_k model performed the best in terms of NMAE, while the RegTrees_pred model performed the worst, as it overfits perfectly the training data.\n",
    "\n",
    "Based on these findings, we would recommend using the LinearReg_select_k model (-NMAE: 2389586.491181177; time: 4.264322519302368) if the client prioritizes accuracy over computing time. However, if computing time is a priority, we would recommend using the LinearReg_pred model (-NMAE: 2437056.0592061607; time: 0.23032045364379883), which only sacrifices about 47470 points of accuracy points (1.95%) while reducing computing time by more than 94.2%.\n",
    "\n",
    "On the other hand, if we wanted a balance in between those two models, there are LinearReg_pred_k (-NMAE: 2421796.652193799; time: 2.2443368434906006) and LinearReg_select (-NMAE: 2396352.0117066414; time: 2.5291051864624023), which are a good balance between accuracy and computing time.\n",
    "\n",
    "Ultimately, the decision of which model to use depends on the client's budget and objectives. For the final prediction, we recommend using the LinearReg_select_k (or LinearReg_select) model as it still provides a good balance between accuracy and computing time. Moreover, taking into account the dataset and the problem nature, it is plausible that the model training will be done at much yearly, so the time saved by using the LinearReg_pred instead of the LinearReg_pred_k model is not significant compared to the score gained."
   ]
  },
  {
   "attachments": {},
   "cell_type": "markdown",
   "metadata": {},
   "source": [
    "---\n",
    "# 6. Reducing Dimensionality"
   ]
  },
  {
   "attachments": {},
   "cell_type": "markdown",
   "metadata": {},
   "source": [
    "It is possible to reduce the problem's dimensionality, as evidenced by the findings in the EDA section, where numerous attributes were identified to be highly correlated. By removing some of these attributes, we can effectively reduce the dimensionality of the problem. Therefore, it is recommended to utilize Principal Component Analysis (PCA) as a technique to reduce the dimensionality of the problem.\n",
    "\n",
    "As highlighted in the EDA section, there are several attributes that exhibit strong interrelationships to the point of being redundant (with a correlation higher than 98%).\n",
    "\n",
    "There are **two different approaches to reduce the dimensionality** of the problem:\n",
    "\n",
    "- The **first one** was **removing by hand** the attributes seen as redundant in the EDA section. This approach was not used as it would be a tedious and error-prone process, and it would not be scalable to other datasets.\n",
    "\n",
    "- The **second** approach, which is the one used in the industry, is to **use a feature selection** algorithm preprocessing in the pipeline of the models to automatically identify and remove redundant attributes.\n",
    "\n",
    "This second approach of using pipelines with attribute selection was the one employed in our project. It was implemented using the \"SelectKBest(f_regression)\" feature selector, which considers only the linear relationship between the attributes and the output variable. As consecuence, using this feature selector leaves room to more possible optimisations and selections of correlated relationships of non-linear nature or interrelationships between the attributes, as seen in the EDA section. Therefore, there is still a space to improve the results by using a more advanced feature selection algorithm, such as the \"Recursive Feature Elimination\" algorithm (RFE)."
   ]
  },
  {
   "cell_type": "code",
   "execution_count": null,
   "metadata": {},
   "outputs": [],
   "source": [
    "# Create a dictionary with all the dataset variables\n",
    "def get_variable_freq():\n",
    "    columns = disp_df.columns.tolist()\n",
    "    variables = {col: 0 for col in columns}\n",
    "\n",
    "    # Getting the selected attributes for each model\n",
    "    for model in models.keys():\n",
    "        # We only want to check the models that select attributes (take into account that dummy regressor selection is included(dswrf_s3_1))\n",
    "        if list(models.keys()).index(model) % 2 != 0:\n",
    "            # We get the selected attributes\n",
    "            selected_atb = models[model].best_estimator_.named_steps[\"select\"].get_support()\n",
    "            # We get the names of the selected attributes\n",
    "            selected_atb_names = X_train.columns[selected_atb]\n",
    "            \n",
    "            print(f\"{model} selected {len(selected_atb_names)}\")\n",
    "            \n",
    "            # Make a frequency table of the selected attributes\n",
    "            selected_atb_names = pd.DataFrame(selected_atb_names)\n",
    "            selected_atb_names.columns = [\"Attribute\"]\n",
    "            selected_atb_names = selected_atb_names.groupby(\"Attribute\").size().reset_index(name=\"Frequency\")\n",
    "            selected_atb_names = selected_atb_names.sort_values(by=\"Frequency\", ascending=False)\n",
    "            selected_atb_names = selected_atb_names.reset_index(drop=True)\n",
    "            \n",
    "            # Append the results the dictionary\n",
    "            for atb in selected_atb_names[\"Attribute\"]:\n",
    "                variables[atb] += 1\n",
    "\n",
    "    print(f\"Attributes frequency: {variables}\")\n",
    "\n",
    "    # plot all the attributes and their frequency\n",
    "    plt.rcParams['figure.figsize'] = [10, 3.5]\n",
    "\n",
    "    for key, value in variables.items():\n",
    "        plt.bar(key, value)\n",
    "\n",
    "    plt.title(\"Frequency of the selected attributes\")\n",
    "    plt.xlabel(\"Attribute\")\n",
    "    plt.ylabel(\"Frequency\")\n",
    "    plt.tight_layout()\n",
    "\n",
    "    plt.xticks(rotation=45, ha='right', size=6.5)\n",
    "    plt.show()\n",
    "\n",
    "get_variable_freq()"
   ]
  },
  {
   "attachments": {},
   "cell_type": "markdown",
   "metadata": {},
   "source": [
    "Upon analyzing the graph, we gain valuable insights into the attributes that are frequently selected by the feature selector like *dswrf_s2_1*, *dswrf_s3_1*, *dswrf_s4_1*, *dswrf_s5_1*, *uswrf_s2_1*, and *uswrf_s3_1*. It is evident that the attributes chosen are highly correlated with the target variable, aligning with our expectations. This reaffirms the efficacy of the feature selector in identifying relevant attributes correlated to the target variable.<br>Take into account that some of the mentioned attributes are also highly correlated with each other (as seen during EDA), but this is not a problem that our feature selector is able to identify.\n",
    "\n",
    "Conversely, we can also infer that attributes that are scarcely selected by the feature selector, such as *pres_ms1_1*, *pres_ms2_1*, and *pres_ms3_1*, are not significant in the context of the problem. This is indicative that these attributes lack correlation with the target variable, and their inclusion in the model may introduce noise or irrelevant information. Hence, the feature selector's ability to filter out such attributes further strengthens its effectiveness in feature selection and highlights the importance of using it for improved model performance."
   ]
  },
  {
   "cell_type": "code",
   "execution_count": null,
   "metadata": {
    "notebookRunGroups": {
     "groupValue": "1"
    }
   },
   "outputs": [],
   "source": [
    "plt.rcParams['figure.figsize'] = [10, 3.5]\n",
    "\n",
    "# Select the even times (the ones that are not selectors of attributes)\n",
    "times_no_atb = {k: v for k, v in times.items() if list(times.keys()).index(k) % 2 == 0}\n",
    "# Select the odd times (the ones that are selectors of attributes)\n",
    "times_atb = {k: v for k, v in times.items() if list(times.keys()).index(k) % 2 != 0}\n",
    "\n",
    "# Sum both dictionaries to get the total time of each model\n",
    "for key in times_atb.keys():\n",
    "    times_atb[key] += times_no_atb[key.replace(\"_k\", \"\")]\n",
    "\n",
    "times_no_atb_arr = list(times_no_atb.values())\n",
    "times_atb_arr = list(times_atb.values())\n",
    "\n",
    "model_indices = np.arange(len(list(times_no_atb.keys())))\n",
    "\n",
    "width = 0.35\n",
    "fig, ax = plt.subplots()\n",
    "rects1 = ax.bar(model_indices - width/2, times_no_atb_arr, width, label='No attribute selection')\n",
    "rects2 = ax.bar(model_indices + width/2, times_atb_arr, width, label='Attribute selection')\n",
    "\n",
    "ax.set_xlabel('Model')\n",
    "ax.set_ylabel('Times')\n",
    "ax.set_title('')\n",
    "ax.set_xticks(model_indices)\n",
    "ax.set_xticklabels(list(times_no_atb.keys()))\n",
    "ax.legend()\n",
    "\n",
    "plt.xticks(size=5.9)\n",
    "plt.show()\n",
    "\n",
    "\n",
    "iter = 0\n",
    "for key, value in results.items():\n",
    "    plt.bar(key, abs(value[0]))\n",
    "    iter += 1\n",
    "plt.title(\"Score\")\n",
    "plt.xlabel(\"Model\")\n",
    "plt.ylabel(\"NMAE scoring in validation\")\n",
    "plt.tight_layout()\n",
    "\n",
    "plt.xticks(rotation=30, ha='right', size=7)\n",
    "plt.show()"
   ]
  },
  {
   "attachments": {},
   "cell_type": "markdown",
   "metadata": {},
   "source": [
    "As mentioned in the \"Conclusions\" section (Section 5.6), the performance of the models with attribute selection is generally better compared to using all attributes. This is because attribute selection helps reduce noise and irrelevant features, resulting in a more focused set of attributes for modeling, which can lead to improved accuracy and generalization, as evident from the performance metrics and graphs. However, it should be noted that attribute selection does add an additional preprocessing stage to the model, which can increase computation time. Despite the longer training times, the potential benefits of improved performance may outweigh the costs.\n",
    "\n",
    "The performance of the models with and without attribute selection is clearly depicted in the two above graphs:\n",
    "\n",
    "- The first graph illustrates that the models with attribute selection require more computing time compared to those using all attributes. This is expected due to the additional preprocessing stage.\n",
    "\n",
    "- The second graph demonstrates how the models with attribute selection outperform those using all attributes, as they effectively reduce noise and irrelevant features, resulting in improved performance."
   ]
  },
  {
   "attachments": {},
   "cell_type": "markdown",
   "metadata": {},
   "source": [
    "---\n",
    "# 7. Advanced methods"
   ]
  },
  {
   "attachments": {},
   "cell_type": "markdown",
   "metadata": {},
   "source": [
    "In order to be consistent, although we have already seen that usign the selection of attributes makes the model better, we will continue to use the two-step pipeline method we have been using in the basic models. This way, we can also verify that the results are better than the ones obtained with the basic methods (for both with and without attribute selection)."
   ]
  },
  {
   "attachments": {},
   "cell_type": "markdown",
   "metadata": {},
   "source": [
    "## 7.1. Support Vector Machines (SVMs)"
   ]
  },
  {
   "attachments": {},
   "cell_type": "markdown",
   "metadata": {},
   "source": [
    "Support Vector Machine (SVM) is a supervised learning algorithm used for classification and regression analysis. SVM works by finding the hyperplane that best separates the data into different classes. The hyperplane is chosen such that it maximizes the margin between the closest data points from each class, known as support vectors. SVM can also use kernel functions to transform the input data into a higher dimensional space, allowing the separation of non-linearly separable data."
   ]
  },
  {
   "attachments": {},
   "cell_type": "markdown",
   "metadata": {
    "notebookRunGroups": {
     "groupValue": ""
    }
   },
   "source": [
    "Note: in this dataset, the target variable conatains very large values, and the default value of C is 1.0 by default, which is too small for this dataset. This will make the SVM act as if it was a dummy regressor (as seen before), where it simply predicts the mean of the target variable for all data points, leading to poor model performance. This can be readily observed in section 8 of the notebook, where we compare the values and results of all the models, including the computation time and score. Notably, we find that the results of the Support Vector Machine (SVM) model with the default value of C are identical to those of the dummy regressor.\n",
    "\n",
    "To overcome this issue, it is important to select an appropriate value for the C parameter that matches the characteristics of the dataset. By increasing the value of C to a more suitable value, the SVM becomes more flexible and capable of fitting the data better. This allows the SVM to capture the underlying patterns and relationships in the dataset more accurately, resulting in improved prediction performance."
   ]
  },
  {
   "cell_type": "code",
   "execution_count": null,
   "metadata": {
    "notebookRunGroups": {
     "groupValue": "1"
    }
   },
   "outputs": [],
   "source": [
    "from sklearn.svm import SVR"
   ]
  },
  {
   "attachments": {},
   "cell_type": "markdown",
   "metadata": {},
   "source": [
    "### 7.1.1. SVMs - Predefined parameters"
   ]
  },
  {
   "attachments": {},
   "cell_type": "markdown",
   "metadata": {},
   "source": [
    "#### 7.1.1.1. SVMs - Predefined parameters - No attribute selection"
   ]
  },
  {
   "cell_type": "code",
   "execution_count": null,
   "metadata": {
    "notebookRunGroups": {
     "groupValue": "1"
    }
   },
   "outputs": [],
   "source": [
    "np.random.seed(10)\n",
    "n_splits = 5\n",
    "\n",
    "pipeline = Pipeline(\n",
    "    [\n",
    "        ('scaler', RobustScaler()),\n",
    "        (\"model\", SVR())\n",
    "    ]\n",
    ")\n",
    "\n",
    "param_grid = {\n",
    "    \"model__kernel\": [\"rbf\"],\n",
    "    \"model__C\": [1.0],\n",
    "    \"model__gamma\": [\"scale\"],\n",
    "    \"model__epsilon\": [0.1],\n",
    "}\n",
    "\n",
    "model = GridSearchCV(\n",
    "    pipeline,\n",
    "    param_grid,\n",
    "    scoring=\"neg_mean_absolute_error\",\n",
    "    cv=TimeSeriesSplit(n_splits),\n",
    ")\n",
    "\n",
    "\n",
    "start_time = time.time()\n",
    "model.fit(X=X_train, y=y_train)\n",
    "end_time = time.time()\n",
    "\n",
    "total_time = end_time - start_time\n",
    "\n",
    "# We calculate the subsets used for training and testing in the different folds of the cross-validation\n",
    "# validation_splits(model, X_train)  # We al ready did the 5th fold split at the begginning\n",
    "\n",
    "# We obtain the different scores of the model\n",
    "score = train_validation_test(\n",
    "    model,\n",
    "    model.best_estimator_,\n",
    "    model.best_score_,\n",
    "    X_train,\n",
    "    y_train,\n",
    ")\n",
    "\n",
    "models[\"SVM_pred\"] = model\n",
    "results[\"SVM_pred\"] = score\n",
    "times[\"SVM_pred\"] = total_time\n",
    "\n",
    "print_results(\"SVM PREDEFINED PARAMETERS\", model, score, total_time)"
   ]
  },
  {
   "attachments": {},
   "cell_type": "markdown",
   "metadata": {},
   "source": [
    "As it was stated before, it can be clearly seen that with the default 1.0 value of C, the SVM acts as a dummy regressor."
   ]
  },
  {
   "attachments": {},
   "cell_type": "markdown",
   "metadata": {},
   "source": [
    "#### 7.1.1.2. SVMs - Predefined parameters - Attribute selection"
   ]
  },
  {
   "cell_type": "code",
   "execution_count": null,
   "metadata": {
    "notebookRunGroups": {
     "groupValue": "1"
    }
   },
   "outputs": [],
   "source": [
    "np.random.seed(10)\n",
    "n_splits = 5\n",
    "\n",
    "pipeline = Pipeline(\n",
    "    [\n",
    "        (\"scaler\", RobustScaler()),\n",
    "        (\"select\", SelectKBest(f_regression)),\n",
    "        (\"model\", SVR()),\n",
    "    ]\n",
    ")\n",
    "\n",
    "param_grid = {\n",
    "    \"model__kernel\": [\"rbf\"],\n",
    "    \"model__C\": [1.0],\n",
    "    \"model__gamma\": [\"scale\"],\n",
    "    \"model__epsilon\": [0.1],\n",
    "    \"select__k\": list(range(1, X_train.shape[1] + 1)),\n",
    "}\n",
    "\n",
    "model = GridSearchCV(\n",
    "    pipeline,\n",
    "    param_grid,\n",
    "    scoring=\"neg_mean_absolute_error\",\n",
    "    cv=TimeSeriesSplit(n_splits),\n",
    "    n_jobs=-1,\n",
    ")\n",
    "\n",
    "\n",
    "start_time = time.time()\n",
    "model.fit(X=X_train, y=y_train)\n",
    "end_time = time.time()\n",
    "\n",
    "total_time = end_time - start_time\n",
    "\n",
    "# We calculate the subsets used for training and testing in the different folds of the cross-validation\n",
    "# validation_splits(model, X_train)  # We al ready did the 5th fold split at the begginning\n",
    "\n",
    "# We obtain the different scores of the model\n",
    "score = train_validation_test(\n",
    "    model,\n",
    "    model.best_estimator_,\n",
    "    model.best_score_,\n",
    "    X_train,\n",
    "    y_train,\n",
    ")\n",
    "\n",
    "models[\"SVM_pred_k\"] = model\n",
    "results[\"SVM_pred_k\"] = score\n",
    "times[\"SVM_pred_k\"] = total_time\n",
    "\n",
    "print_results(\"SVM PREDEFINED PARAMETERS\", model, score, total_time)"
   ]
  },
  {
   "attachments": {},
   "cell_type": "markdown",
   "metadata": {},
   "source": [
    "### 7.1.2. SVMs - Selected parameters"
   ]
  },
  {
   "attachments": {},
   "cell_type": "markdown",
   "metadata": {},
   "source": [
    "Building upon the previous definition, we can reduce the most important parameters to be adjusted to the following for SVM:\n",
    "\n",
    "- **Kernel**: This parameter defines the type of kernel used to transform the input data into a higher-dimensional space in order to perform classification. The most commonly used kernels are linear, polynomial, radial basis function (RBF), and sigmoid.\n",
    "- **C**: This parameter determines the trade-off between maximizing the margin and minimizing the classification error. A smaller value of C creates a larger margin but may misclassify some data points, while a larger value of C may lead to overfitting.\n",
    "- **Gamma**: This parameter defines the influence of each training example on the decision boundary. A smaller value of gamma makes the decision boundary smoother, while a larger value of gamma makes it more complex and can lead to overfitting."
   ]
  },
  {
   "cell_type": "code",
   "execution_count": null,
   "metadata": {},
   "outputs": [],
   "source": [
    "rmse = []\n",
    "mae = []\n",
    "rmse2 = []\n",
    "mae2 = []\n",
    "\n",
    "a_c = [1.0, 100, 10000, 100000, 1000000, 10000000, 100000000, 1000000000, 10000000000, 100000000000, 1000000000000]\n",
    "a_kernel = [\"linear\", \"rbf\", \"sigmoid\", \"poly\"]\n",
    "\n",
    "for i in a_c:\n",
    "    model = SVR(C=i)\n",
    "    model.fit(X_train_5th_fold_train , y_train_5th_fold_train )\n",
    "    y_pred = model.predict(X_test_5th_fold_train)\n",
    "    rmse.append(np.sqrt(mean_squared_error(y_test_5th_fold_train , y_pred)))\n",
    "    mae.append(mean_absolute_error(y_test_5th_fold_train, y_pred))\n",
    "\n",
    "for i in a_kernel:\n",
    "    model = SVR(kernel=i)\n",
    "    model.fit(X_train_5th_fold_train , y_train_5th_fold_train )\n",
    "    y_pred = model.predict(X_test_5th_fold_train)\n",
    "    rmse2.append(np.sqrt(mean_squared_error(y_test_5th_fold_train , y_pred)))\n",
    "    mae2.append(mean_absolute_error(y_test_5th_fold_train, y_pred))\n",
    "\n",
    "# Crear dos subplots, uno para cada gráfico\n",
    "fig, (ax1, ax2, ax3, ax4) = plt.subplots(4, 1, figsize=(8, 12))\n",
    "\n",
    "# Graficar RMSE vs. C en el primer subplot\n",
    "ax1.plot(a_c, rmse, label=\"RMSE\")\n",
    "ax1.set_xlabel(\"C\")\n",
    "ax1.set_ylabel(\"RMSE\")\n",
    "ax1.set_title(\"Gráfica de RMSE\")\n",
    "\n",
    "# Graficar MAE vs. C en el segundo subplot\n",
    "ax2.plot(a_c, mae, label=\"MAE\")\n",
    "ax2.set_xlabel(\"C\")\n",
    "ax2.set_ylabel(\"MAE\")\n",
    "ax2.set_title(\"Gráfica de MAE\")\n",
    "\n",
    "# Graficar RMSE vs. kernel en el tercer subplot\n",
    "ax3.plot(a_kernel, rmse2, label=\"RMSE\")\n",
    "ax3.set_xlabel(\"kernel\")\n",
    "ax3.set_ylabel(\"RMSE\")\n",
    "ax3.set_title(\"Gráfica de RMSE\")\n",
    "\n",
    "# Graficar MAE vs. metric en el cuarto subplot\n",
    "ax4.plot(a_kernel, mae2, label=\"MAE\")\n",
    "ax4.set_xlabel(\"kernel\")\n",
    "ax4.set_ylabel(\"MAE\")\n",
    "ax4.set_title(\"Gráfica de MAE\")\n",
    "\n",
    "plt.tight_layout()\n",
    "plt.rcParams['figure.figsize'] = [10, 3]\n",
    "plt.show()"
   ]
  },
  {
   "attachments": {},
   "cell_type": "markdown",
   "metadata": {},
   "source": [
    "#### 7.1.2.1. SVMs - Selected parameters - No attribute selection"
   ]
  },
  {
   "attachments": {},
   "cell_type": "markdown",
   "metadata": {},
   "source": [
    "Note: we needed to add more parameters to C in order to have a budget of 75 so its computing time is comparable to the other models."
   ]
  },
  {
   "cell_type": "code",
   "execution_count": null,
   "metadata": {
    "notebookRunGroups": {
     "groupValue": "1"
    }
   },
   "outputs": [],
   "source": [
    "np.random.seed(10)\n",
    "budget = 75 \n",
    "n_splits = 5\n",
    "\n",
    "pipeline = Pipeline(\n",
    "    [\n",
    "        (\"scaler\", StandardScaler()),\n",
    "        # We scale the data to avoid overfitting - Recommended for SVMs\n",
    "        (\"model\", SVR())\n",
    "        # Support Vector Regression (SVR for regression, SVC for classification)\n",
    "    ]\n",
    ")\n",
    "\n",
    "# We need to reduce the C parameter number to reduce the computational time -> tends to infinity\n",
    "param_grid = {\n",
    "    \"model__kernel\": [\"linear\", \"rbf\", \"sigmoid\", \"poly\"], # poly is too slow and not near good as linear\n",
    "    \"model__C\": [500000, 5000000, 7000000, 750000, 7750000, 800000, 8500000, 1000000, 5000000, 10000000],\n",
    "    \"model__gamma\": [\"scale\", \"auto\"],\n",
    "}\n",
    "\n",
    "# We use TimeSeriesSplit to split the data in folds without losing the temporal order\n",
    "model = RandomizedSearchCV(\n",
    "    pipeline,\n",
    "    param_grid,\n",
    "    scoring=\"neg_mean_absolute_error\",\n",
    "    cv=TimeSeriesSplit(n_splits),\n",
    "    n_iter=budget,\n",
    "    n_jobs=-1,\n",
    ")\n",
    "\n",
    "start_time = time.time()\n",
    "model.fit(X=X_train, y=y_train)\n",
    "end_time = time.time()\n",
    "\n",
    "total_time = end_time - start_time\n",
    "\n",
    "# We calculate the subsets used for training and testing in the different folds of the cross-validation\n",
    "# validation_splits(model, X_train)  # We al ready did the 5th fold split at the begginning\n",
    "\n",
    "# We obtain the different scores of the model\n",
    "score = train_validation_test(\n",
    "    model,\n",
    "    model.best_estimator_,\n",
    "    model.best_score_,\n",
    "    X_train,\n",
    "    y_train,\n",
    ")\n",
    "\n",
    "models[\"SVM_select\"] = model\n",
    "results[\"SVM_select\"] = score\n",
    "times[\"SVM_select\"] = total_time\n",
    "\n",
    "print_results(\"SVM SELECTED PARAMETERS\", model, score, total_time)"
   ]
  },
  {
   "attachments": {},
   "cell_type": "markdown",
   "metadata": {},
   "source": [
    "#### 7.1.2.2. SVMs - Selected parameters - Attribute selection"
   ]
  },
  {
   "cell_type": "code",
   "execution_count": null,
   "metadata": {
    "notebookRunGroups": {
     "groupValue": "1"
    }
   },
   "outputs": [],
   "source": [
    "np.random.seed(10)\n",
    "n_splits = 5\n",
    "\n",
    "# We use Ridge as model as it is the best performing one\n",
    "pipeline = Pipeline(\n",
    "    [\n",
    "        (\"scaler\", StandardScaler()),\n",
    "        (\"select\", SelectKBest(f_regression)),\n",
    "        (\"model\", SVR())\n",
    "    ]\n",
    ")\n",
    "\n",
    "# Previous model Parameters: {'model__kernel': 'linear', 'model__gamma': 'auto', 'model__C': 1000000}\n",
    "\n",
    "param_grid = {\n",
    "    \"model__kernel\": [\"linear\"],\n",
    "    \"model__C\": [1000000],\n",
    "    \"model__gamma\": [\"auto\"],\n",
    "    \"select__k\": list(range(1, X_train.shape[1] + 1)),\n",
    "}\n",
    "\n",
    "# We use TimeSeriesSplit to split the data in folds without losing the temporal order\n",
    "model = GridSearchCV(\n",
    "    pipeline,\n",
    "    param_grid,\n",
    "    scoring=\"neg_mean_absolute_error\",\n",
    "    cv=TimeSeriesSplit(n_splits),\n",
    "    n_jobs=-1,\n",
    ")\n",
    "\n",
    "start_time = time.time()\n",
    "model.fit(X=X_train, y=y_train)\n",
    "end_time = time.time()\n",
    "\n",
    "total_time = end_time - start_time\n",
    "\n",
    "# We calculate the subsets used for training and testing in the different folds of the cross-validation\n",
    "# validation_splits(model, X_train)  # We al ready did the 5th fold split at the begginning\n",
    "\n",
    "# We obtain the different scores of the model\n",
    "score = train_validation_test(\n",
    "    model,\n",
    "    model.best_estimator_,\n",
    "    model.best_score_,\n",
    "    X_train,\n",
    "    y_train,\n",
    ")\n",
    "\n",
    "models[\"SVM_select_k\"] = model\n",
    "results[\"SVM_select_k\"] = score\n",
    "times[\"SVM_select_k\"] = total_time\n",
    "\n",
    "print_results(\"SVM SELECTED PARAMETERS\", model, score, total_time)"
   ]
  },
  {
   "attachments": {},
   "cell_type": "markdown",
   "metadata": {},
   "source": [
    "## 7.2. Random Forests"
   ]
  },
  {
   "attachments": {},
   "cell_type": "markdown",
   "metadata": {},
   "source": [
    "Random forest is an ensemble learning method for classification, regression and other tasks that operates by constructing a multitude of decision trees at training time and outputting the class or mean prediction of the individual trees. Random forests improve on the decision tree model by reducing overfitting and increasing accuracy. This is achieved by generating multiple decision trees and then aggregating their predictions through a voting system."
   ]
  },
  {
   "cell_type": "code",
   "execution_count": null,
   "metadata": {
    "notebookRunGroups": {
     "groupValue": "1"
    }
   },
   "outputs": [],
   "source": [
    "from sklearn.ensemble import RandomForestRegressor"
   ]
  },
  {
   "attachments": {},
   "cell_type": "markdown",
   "metadata": {},
   "source": [
    "### 7.2.1. Random Forests - Predefined parameters"
   ]
  },
  {
   "attachments": {},
   "cell_type": "markdown",
   "metadata": {},
   "source": [
    "#### 7.2.1.1. Random Forests - Predefined parameters - No attribute selection"
   ]
  },
  {
   "cell_type": "code",
   "execution_count": null,
   "metadata": {
    "notebookRunGroups": {
     "groupValue": "1"
    }
   },
   "outputs": [],
   "source": [
    "np.random.seed(10)\n",
    "n_splits = 5\n",
    "\n",
    "pipeline = Pipeline([(\"model\", RandomForestRegressor(random_state=10))])\n",
    "\n",
    "param_grid = {\n",
    "    \"model__n_estimators\": [100],\n",
    "    \"model__criterion\": [\"squared_error\"],\n",
    "    \"model__max_depth\": [None],\n",
    "    \"model__min_samples_split\": [2],\n",
    "    \"model__max_features\": [None],\n",
    "}\n",
    "\n",
    "model = GridSearchCV(\n",
    "    pipeline,\n",
    "    param_grid,\n",
    "    scoring=\"neg_mean_absolute_error\",\n",
    "    cv=TimeSeriesSplit(n_splits),\n",
    "    n_jobs=-1,\n",
    ")\n",
    "\n",
    "start_time = time.time()\n",
    "model.fit(X=X_train, y=y_train)\n",
    "end_time = time.time()\n",
    "\n",
    "total_time = end_time - start_time\n",
    "\n",
    "# We calculate the subsets used for training and testing in the different folds of the cross-validation\n",
    "# validation_splits(model, X_train)  # We al ready did the 5th fold split at the begginning\n",
    "\n",
    "# We obtain the different scores of the model\n",
    "score = train_validation_test(\n",
    "    model,\n",
    "    model.best_estimator_,\n",
    "    model.best_score_,\n",
    "    X_train,\n",
    "    y_train,\n",
    ")\n",
    "\n",
    "models[\"RandForest_pred\"] = model\n",
    "results[\"RandForest_pred\"] = score\n",
    "times[\"RandForest_pred\"] = total_time\n",
    "\n",
    "print_results(\"RANDOM FOREST PREDEFINED PARAMETERS\", model, score, total_time)"
   ]
  },
  {
   "attachments": {},
   "cell_type": "markdown",
   "metadata": {},
   "source": [
    "#### 7.2.1.2. Random Forests - Predefined parameters - Attribute selection"
   ]
  },
  {
   "cell_type": "code",
   "execution_count": null,
   "metadata": {
    "notebookRunGroups": {
     "groupValue": "1"
    }
   },
   "outputs": [],
   "source": [
    "np.random.seed(10)\n",
    "n_splits = 5\n",
    "\n",
    "pipeline = Pipeline(\n",
    "    [(\"select\", SelectKBest(f_regression)), (\"model\", RandomForestRegressor(random_state=10))]\n",
    ")\n",
    "\n",
    "param_grid = {\n",
    "    \"model__n_estimators\": [100],\n",
    "    \"model__criterion\": [\"squared_error\"],\n",
    "    \"model__max_depth\": [None],\n",
    "    \"model__min_samples_split\": [2],\n",
    "    \"model__max_features\": [None],\n",
    "    \"select__k\": list(range(1, X_train.shape[1] + 1)),\n",
    "}\n",
    "\n",
    "model = GridSearchCV(\n",
    "    pipeline,\n",
    "    param_grid,\n",
    "    scoring=\"neg_mean_absolute_error\",\n",
    "    cv=TimeSeriesSplit(n_splits),\n",
    "    n_jobs=-1,\n",
    ")\n",
    "\n",
    "start_time = time.time()\n",
    "model.fit(X=X_train, y=y_train)\n",
    "end_time = time.time()\n",
    "\n",
    "total_time = end_time - start_time\n",
    "\n",
    "# We calculate the subsets used for training and testing in the different folds of the cross-validation\n",
    "# validation_splits(model, X_train)  # We al ready did the 5th fold split at the begginning\n",
    "\n",
    "# We obtain the different scores of the model\n",
    "score = train_validation_test(\n",
    "    model,\n",
    "    model.best_estimator_,\n",
    "    model.best_score_,\n",
    "    X_train,\n",
    "    y_train,\n",
    ")\n",
    "\n",
    "models[\"RandForest_pred_k\"] = model\n",
    "results[\"RandForest_pred_k\"] = score\n",
    "times[\"RandForest_pred_k\"] = total_time\n",
    "\n",
    "print_results(\"RANDOM FOREST PREDEFINED PARAMETERS\", model, score, total_time)"
   ]
  },
  {
   "attachments": {},
   "cell_type": "markdown",
   "metadata": {},
   "source": [
    "### 7.2.2. Random Forests - Selected parameters"
   ]
  },
  {
   "cell_type": "markdown",
   "metadata": {},
   "source": [
    "Building upon the previous definition, we can reduce the most important parameters to be adjusted to the following:\n",
    "\n",
    "- **n_estimators**: controls the number of trees in the forest.\n",
    "- **max_depth**: controls the maximum depth of each tree in the forest.\n",
    "- **min_samples_split**: controls the minimum number of instances a leaf must have in order to be able to subdivide. This parameter can prevent the tree from overfitting.\n",
    "- **min_samples_leaf**: controls the minimum number of instances required to be at a leaf node. Like min_samples_split, this parameter can also help prevent overfitting."
   ]
  },
  {
   "cell_type": "code",
   "execution_count": null,
   "metadata": {},
   "outputs": [],
   "source": [
    "rmse = []\n",
    "mae = []\n",
    "rmse2 = []\n",
    "mae2 = []\n",
    "rmse3 = []\n",
    "mae3 =[]\n",
    "\n",
    "a_n_stimators = [10, 30, 50, 70, 100, 130, 170, 200]\n",
    "a_max_depth = range(5, 36, 5)\n",
    "a_min_samples_split = range(5, 200, 15)\n",
    "\n",
    "for i in a_n_stimators:\n",
    "    model = RandomForestRegressor(random_state=10, n_estimators=i)\n",
    "    model.fit(X_train_5th_fold_train , y_train_5th_fold_train )\n",
    "    y_pred = model.predict(X_test_5th_fold_train)\n",
    "    rmse3.append(np.sqrt(mean_squared_error(y_test_5th_fold_train , y_pred)))\n",
    "    mae3.append(mean_absolute_error(y_test_5th_fold_train, y_pred))\n",
    "    \n",
    "for i in a_max_depth:\n",
    "    model = RandomForestRegressor(random_state=10, max_depth=i)\n",
    "    model.fit(X_train_5th_fold_train , y_train_5th_fold_train )\n",
    "    y_pred = model.predict(X_test_5th_fold_train)\n",
    "    rmse.append(np.sqrt(mean_squared_error(y_test_5th_fold_train , y_pred)))\n",
    "    mae.append(mean_absolute_error(y_test_5th_fold_train, y_pred))\n",
    "    \n",
    "for i in a_min_samples_split:\n",
    "    model = RandomForestRegressor(random_state=10, min_samples_split=i)\n",
    "    model.fit(X_train_5th_fold_train , y_train_5th_fold_train )\n",
    "    y_pred = model.predict(X_test_5th_fold_train)\n",
    "    rmse2.append(np.sqrt(mean_squared_error(y_test_5th_fold_train , y_pred)))\n",
    "    mae2.append(mean_absolute_error(y_test_5th_fold_train, y_pred))\n",
    "\n",
    "# Crear dos subplots, uno para cada gráfico\n",
    "fig, (ax1, ax2, ax3, ax4, ax5, ax6) = plt.subplots(6, 1, figsize=(8, 12))\n",
    "\n",
    "# Graficar RMSE vs. n_neighbors en el primer subplot\n",
    "ax1.plot(list(a_max_depth), rmse, label=\"RMSE\")\n",
    "ax1.set_xlabel(\"max_depth\")\n",
    "ax1.set_ylabel(\"RMSE\")\n",
    "ax1.set_title(\"Gráfica de RMSE\")\n",
    "\n",
    "# Graficar MAE vs. n_neighbors en el segundo subplot\n",
    "ax2.plot(list(a_max_depth), mae, label=\"MAE\")\n",
    "ax2.set_xlabel(\"max_depth\")\n",
    "ax2.set_ylabel(\"MAE\")\n",
    "ax2.set_title(\"Gráfica de MAE\")\n",
    "\n",
    "# Graficar RMSE vs. metric en el tercer subplot\n",
    "ax3.plot(list(a_min_samples_split), rmse2, label=\"RMSE\")\n",
    "ax3.set_xlabel(\"min_samples_split\")\n",
    "ax3.set_ylabel(\"RMSE\")\n",
    "ax3.set_title(\"Gráfica de RMSE\")\n",
    "\n",
    "# Graficar MAE vs. metric en el cuarto subplot\n",
    "ax4.plot(list(a_min_samples_split), mae2, label=\"MAE\")\n",
    "ax4.set_xlabel(\"min_samples_split\")\n",
    "ax4.set_ylabel(\"MAE\")\n",
    "ax4.set_title(\"Gráfica de MAE\")\n",
    "\n",
    "# Graficar RMSE vs. metric en el tercer subplot\n",
    "ax5.plot(a_n_stimators, rmse3, label=\"RMSE\")\n",
    "ax5.set_xlabel(\"n_estimators\")\n",
    "ax5.set_ylabel(\"RMSE\")\n",
    "# ax5.set_title(\"Gráfica de RMSE\")\n",
    "\n",
    "# Graficar MAE vs. metric en el cuarto subplot\n",
    "ax6.plot(a_n_stimators, mae3, label=\"MAE\")\n",
    "ax6.set_xlabel(\"n_estimators\")\n",
    "ax6.set_ylabel(\"MAE\")\n",
    "ax6.set_title(\"Gráfica de MAE\")\n",
    "\n",
    "plt.tight_layout()\n",
    "plt.rcParams['figure.figsize'] = [10, 3]\n",
    "plt.show()"
   ]
  },
  {
   "attachments": {},
   "cell_type": "markdown",
   "metadata": {},
   "source": [
    "#### 7.2.2.1. Random Forests - Selected parameters - No attribute selection"
   ]
  },
  {
   "cell_type": "code",
   "execution_count": null,
   "metadata": {
    "notebookRunGroups": {
     "groupValue": "1"
    }
   },
   "outputs": [],
   "source": [
    "np.random.seed(10)\n",
    "budget = 75\n",
    "n_splits = 5\n",
    "\n",
    "pipeline = Pipeline(\n",
    "    [\n",
    "        (\"model\", RandomForestRegressor(random_state=10))\n",
    "    ]\n",
    ")\n",
    "\n",
    "param_grid = {\n",
    "    \"model__n_estimators\": [100, 300, 350, 400, 450], #  500, 600, 700, 900, 10000 -> too slow for the minimal improvements they offer in the scoring (not even perceptible) - 450 still makes a decent improvement\n",
    "    \"model__max_depth\": list(range(5, 36, 5)),\n",
    "    \"model__min_samples_split\": [2, 3, 4, 5],\n",
    "    \"model__max_features\": [\"sqrt\"], # log2 does not offer as good results\n",
    "}\n",
    "\n",
    "model = RandomizedSearchCV(\n",
    "    pipeline,\n",
    "    param_grid,\n",
    "    scoring=\"neg_mean_absolute_error\",\n",
    "    cv=TimeSeriesSplit(n_splits),\n",
    "    n_iter=budget,\n",
    "    n_jobs=-1,\n",
    ")\n",
    "\n",
    "start_time = time.time()\n",
    "model.fit(X=X_train, y=y_train)\n",
    "end_time = time.time()\n",
    "\n",
    "total_time = end_time - start_time\n",
    "\n",
    "# We calculate the subsets used for training and testing in the different folds of the cross-validation\n",
    "# validation_splits(model, X_train)  # We al ready did the 5th fold split at the begginning\n",
    "\n",
    "# We obtain the different scores of the model\n",
    "score = train_validation_test(\n",
    "    model,\n",
    "    model.best_estimator_,\n",
    "    model.best_score_,\n",
    "    X_train,\n",
    "    y_train,\n",
    ")\n",
    "\n",
    "models[\"RandForest_select\"] = model\n",
    "results[\"RandForest_select\"] = score\n",
    "times[\"RandForest_select\"] = total_time\n",
    "\n",
    "print_results(\"Random Forest\", model, score, total_time)"
   ]
  },
  {
   "attachments": {},
   "cell_type": "markdown",
   "metadata": {},
   "source": [
    "#### 7.2.2.2. Random Forests - Selected parameters - Attribute selection"
   ]
  },
  {
   "cell_type": "code",
   "execution_count": null,
   "metadata": {
    "notebookRunGroups": {
     "groupValue": "1"
    }
   },
   "outputs": [],
   "source": [
    "np.random.seed(10)\n",
    "n_splits = 5\n",
    "\n",
    "pipeline = Pipeline(\n",
    "    [(\"select\", SelectKBest(f_regression)), (\"model\", RandomForestRegressor(random_state=10))]\n",
    ")\n",
    "\n",
    "param_grid = {\n",
    "    \"model__n_estimators\": [450],\n",
    "    \"model__max_depth\": [25],\n",
    "    \"model__min_samples_split\": [2],\n",
    "    \"model__max_features\": [\"sqrt\"],\n",
    "    \"select__k\": list(range(1, X_train.shape[1] + 1)),\n",
    "}\n",
    "\n",
    "model = GridSearchCV(\n",
    "    pipeline,\n",
    "    param_grid,\n",
    "    scoring=\"neg_mean_absolute_error\",\n",
    "    cv=TimeSeriesSplit(n_splits),\n",
    "    n_jobs=-1,\n",
    ")\n",
    "\n",
    "start_time = time.time()\n",
    "model.fit(X=X_train, y=y_train)\n",
    "end_time = time.time()\n",
    "\n",
    "total_time = end_time - start_time\n",
    "\n",
    "# We calculate the subsets used for training and testing in the different folds of the cross-validation\n",
    "# validation_splits(model, X_train)  # We al ready did the 5th fold split at the begginning\n",
    "\n",
    "# We obtain the different scores of the model\n",
    "score = train_validation_test(\n",
    "    model,\n",
    "    model.best_estimator_,\n",
    "    model.best_score_,\n",
    "    X_train,\n",
    "    y_train,\n",
    ")\n",
    "\n",
    "models[\"RandForest_select_k\"] = model\n",
    "results[\"RandForest_select_k\"] = score\n",
    "times[\"RandForest_select_k\"] = total_time\n",
    "\n",
    "print_results(\"Random Forest\", model, score, total_time)"
   ]
  },
  {
   "attachments": {},
   "cell_type": "markdown",
   "metadata": {},
   "source": [
    "## 7.3. Attribute importance"
   ]
  },
  {
   "cell_type": "code",
   "execution_count": null,
   "metadata": {},
   "outputs": [],
   "source": [
    "# Plotting the most used attributes\n",
    "get_variable_freq()"
   ]
  },
  {
   "cell_type": "code",
   "execution_count": null,
   "metadata": {
    "notebookRunGroups": {
     "groupValue": "1"
    }
   },
   "outputs": [],
   "source": [
    "# Getting the importance of each attribute in the models\n",
    "print(\"Random forest feature importance\")\n",
    "\n",
    "feature_importance_arr = []\n",
    "\n",
    "for model in models:\n",
    "    # Only for Random Forest\n",
    "    if model.startswith(\"RandForest\"):\n",
    "        \n",
    "        # Get the feature importances and attribute names\n",
    "        feature_importances = models[model].best_estimator_.named_steps[\"model\"].feature_importances_\n",
    "        #attribute_names = models[model].best_estimator_.named_steps[\"preprocessor\"].transformers_[0][2]\n",
    "        # Print the feature importance + the name of the attribute\n",
    "        for feature_importance in feature_importances:\n",
    "            feature_importance_arr.append(feature_importance)\n",
    "\n",
    "print(f\"{feature_importance_arr}\")"
   ]
  },
  {
   "cell_type": "code",
   "execution_count": null,
   "metadata": {},
   "outputs": [],
   "source": [
    "# Get the 5 most important attributes\n",
    "# Sort feature importances in descending order\n",
    "if model.startswith(\"RandForest\"):\n",
    "        print(model)\n",
    "        # Get the feature importances and attribute names\n",
    "        feature_importances = models[model].best_estimator_.named_steps[\"model\"].feature_importances_\n",
    "        \n",
    "importances_descending = sorted(zip(feature_importances, disp_df.columns), reverse=True)\n",
    "# Print top n attributes and their importances\n",
    "n_top_attributes = 5\n",
    "for importance, attribute_name in importances_descending[:n_top_attributes]:\n",
    "    print(f\"{attribute_name}: {importance}\")\n"
   ]
  },
  {
   "attachments": {},
   "cell_type": "markdown",
   "metadata": {},
   "source": [
    "First of all, it must be understanded that the easiest way of knowing the most relevant attributes is by using the trees, since this model uses the attributes in ranked relevance to split data in each level. As we can see in the list provided, the most relevant attributes are the following: \n",
    "- dswrf_s4_1: 0.46959314797977664\n",
    "- dswrf_s3_1: 0.19949434015634968\n",
    "- uswrf_s4_1: 0.04859888546408619\n",
    "- dswrf_s5_1: 0.04723173888571538\n",
    "- uswrf_s3_1: 0.040436760096997794 \n",
    " \n",
    "The importance and meaning of this attributes can be found in the EDA section.\n",
    "\n",
    "On the other hand, when checking the frequency of our selected attributes from our scoring function, we need to take into account that some of them are highly correlated with each other, but as it was stated before, our scoring function cant take into account this type of correlations, so it is important to keep in mind that the most relevant attributes are the ones that are highly correlated with the target variable.\n",
    "\n",
    "That is why the most relevant attributes may be the ones that the Random Forest model has selected, since it is a tree-based model, and it is able to take into account the correlations between the attributes. But at the end all depends on quality of the data, the size of the dataset, the specific problem being solved, and the quality of the model."
   ]
  },
  {
   "attachments": {},
   "cell_type": "markdown",
   "metadata": {},
   "source": [
    "## 7.4. Conclusions"
   ]
  },
  {
   "cell_type": "code",
   "execution_count": null,
   "metadata": {},
   "outputs": [],
   "source": [
    "# Select the even times (the ones that are not selectors of attributes)\n",
    "times_no_atb = {k: v for k, v in times.items() if list(times.keys()).index(k) % 2 == 0}\n",
    "# Select the odd times (the ones that are selectors of attributes)\n",
    "times_atb = {k: v for k, v in times.items() if list(times.keys()).index(k) % 2 != 0}\n",
    "\n",
    "# Sum both dictionaries to get the total time of each model\n",
    "for key in times_atb.keys():\n",
    "    times_atb[key] += times_no_atb[key.replace(\"_k\", \"\")]\n",
    "\n",
    "times_no_atb_arr = list(times_no_atb.values())\n",
    "times_atb_arr = list(times_atb.values())\n",
    "\n",
    "# Solo los que empiezan por SVM o RandForest\n",
    "model_indices = np.arange(len(list(times_no_atb.keys())))\n",
    "\n",
    "width = 0.35\n",
    "fig, ax = plt.subplots()\n",
    "rects1 = ax.bar(model_indices - width/2, times_no_atb_arr, width, label='No attribute selection')\n",
    "rects2 = ax.bar(model_indices + width/2, times_atb_arr, width, label='Attribute selection')\n",
    "\n",
    "ax.set_xlabel('Model')\n",
    "ax.set_ylabel('Times')\n",
    "ax.set_title('')\n",
    "ax.set_xticks(model_indices)\n",
    "ax.set_xticklabels(list(times_no_atb.keys()))\n",
    "ax.legend()\n",
    "\n",
    "plt.xticks(size=5.9)\n",
    "plt.show()\n",
    "\n",
    "iter = 0\n",
    "for key, value in results.items():\n",
    "    plt.bar(key, abs(value[0]))\n",
    "    iter += 1\n",
    "plt.title(\"Score\")\n",
    "plt.xlabel(\"Model\")\n",
    "plt.ylabel(\"NMAE scoring in validation\")\n",
    "plt.tight_layout()\n",
    "\n",
    "plt.xticks(rotation=30, ha='right', size=7)\n",
    "plt.show()\n",
    "\n",
    "iter = 0\n",
    "for key, value in results.items():\n",
    "    plt.bar(key, abs(value[6]))\n",
    "    iter += 1\n",
    "plt.title(\"Score\")\n",
    "plt.xlabel(\"Model\")\n",
    "plt.ylabel(\"MAE in test validation\")\n",
    "plt.tight_layout()\n",
    "\n",
    "plt.xticks(rotation=30, ha='right', size=7)\n",
    "plt.show()"
   ]
  },
  {
   "attachments": {},
   "cell_type": "markdown",
   "metadata": {},
   "source": [
    "The process of selecting the best parameters and attributes for advanced models is a crucial step in machine learning. In this study, the selection of attributes was performed using the SelectKBest method, which helps to eliminate attributes that have a low correlation with the output, resulting in better performance for the models. The selection of parameters was also a critical factor in improving the model's accuracy. In particular, the models with parameter selection achieved better scores than the models without parameter selection.\n",
    "\n",
    "However, it's important to note that this improvement in performance comes with a trade-off: the increase in score implies a notable increase in time and computational cost. Therefore, when selecting the best models, it's essential to consider not only their performance but also their computational complexity.\n",
    "\n",
    "After testing several models, the three best-performing models were identified as Random Forests, SVMs, and Linear Regression, with or without attribute and parameter selection. These models showed the highest scores in the experiments, and one of them will be selected as the final model in section 8.1.1, where we will compare the results of both SVM and Random Forests closely in order to make a wise decision.\n",
    "\n",
    "Overall, the results of this study demonstrate the importance of selecting the right parameters and attributes when building advanced machine learning models. By doing so, we can achieve better accuracy and performance, leading to more effective and efficient machine learning applications. "
   ]
  },
  {
   "attachments": {},
   "cell_type": "markdown",
   "metadata": {},
   "source": [
    "---\n",
    "# 8. Best model\n",
    "We will re-visit all the models and select the best one, which we have stated to be the one with the lowest MAE and the lowest RMSE."
   ]
  },
  {
   "cell_type": "code",
   "execution_count": null,
   "metadata": {
    "notebookRunGroups": {
     "groupValue": "1"
    }
   },
   "outputs": [],
   "source": [
    "# ! Print the models best parameters\n",
    "i = 0\n",
    "for key, value in models.items():\n",
    "    print(f\"\\n\\n{i}. Sected model: {key}\\n\")\n",
    "    print(f\"Parameters: {value.best_params_}\")\n",
    "    print(\n",
    "        f\"\\nPerformance:\\n\",\n",
    "        f\"NMAE (val): {results[key][0]}\\n\",\n",
    "        f\"RMSE train: {results[key][1]} | \",\n",
    "        f\"MAE train: {results[key][2]}\\n\",\n",
    "        f\"RMSE train in validation: {results[key][3]} | \",\n",
    "        f\"MAE train in validation: {results[key][4]}\\n\",\n",
    "        f\"RMSE test in validation: {results[key][5]} | \",\n",
    "        f\"MAE test in validation: {results[key][6]}\",\n",
    "        sep=\"\",\n",
    "    )\n",
    "    print(f\"Time: {times[key]} s\")\n",
    "    i+=1\n",
    "\n",
    "plt.rcParams['figure.figsize'] = [10, 3.5]\n",
    "\n",
    "# ! Plot (NMAE)\n",
    "print(\"MODEL SCORES (NMAE in evaluation)\")\n",
    "iter = 0\n",
    "for key, value in results.items():\n",
    "    plt.bar(key, abs(value[0]))\n",
    "    print(f\"{iter}. {key}: {abs(value[0])}\")\n",
    "    iter += 1\n",
    "plt.title(\"Score\")\n",
    "plt.xlabel(\"Model\")\n",
    "plt.ylabel(\"NMAE scoring in validation\")\n",
    "plt.tight_layout()\n",
    "\n",
    "plt.xticks(rotation=45, ha='right', size=7)\n",
    "\n",
    "# Exporting image as png to ../data/img folder\n",
    "plt.savefig(\"../data/img/advanced_methods_score.png\")\n",
    "plt.show()\n",
    "\n",
    "# ! Plot (MAE train in validation)\n",
    "iter = 0\n",
    "for key, value in results.items():\n",
    "    plt.bar(key, abs(value[4]))\n",
    "    print(f\"{iter}. {key}: {abs(value[4])}\")\n",
    "    iter += 1\n",
    "plt.title(\"Score\")\n",
    "plt.xlabel(\"Model\")\n",
    "plt.ylabel(\"MAE train in validation\")\n",
    "plt.tight_layout()\n",
    "\n",
    "plt.xticks(rotation=45, ha='right', size=7)\n",
    "\n",
    "# Exporting image as png to ../data/img folder\n",
    "plt.savefig(\"../data/img/basic_methods_score.png\")\n",
    "plt.show()\n",
    "\n",
    "# ! Plot (MAE test in validation)\n",
    "iter = 0\n",
    "for key, value in results.items():\n",
    "    plt.bar(key, abs(value[6]))\n",
    "    print(f\"{iter}. {key}: {abs(value[6])}\")\n",
    "    iter += 1\n",
    "plt.title(\"Score\")\n",
    "plt.xlabel(\"Model\")\n",
    "plt.ylabel(\"MAE test in validation\")\n",
    "plt.tight_layout()\n",
    "\n",
    "plt.xticks(rotation=45, ha='right', size=7)\n",
    "\n",
    "# Exporting image as png to ../data/img folder\n",
    "plt.savefig(\"../data/img/basic_methods_score.png\")\n",
    "plt.show()\n",
    "\n",
    "# ! Plot the time\n",
    "iter = 0\n",
    "for key, value in times.items():\n",
    "    plt.bar(key, value)\n",
    "    print(f\"{iter}. {key}: {value}\")\n",
    "    iter += 1\n",
    "plt.title(\"Time\")\n",
    "plt.xlabel(\"Model\")\n",
    "plt.ylabel(\"Time (s)\")\n",
    "plt.tight_layout()\n",
    "\n",
    "plt.xticks(rotation=45, ha='right', size=7)\n",
    "\n",
    "# ! Plot the accumulated approximated real times\n",
    "print(\"Accumulated approximated real times\")\n",
    "# Select the even times (the ones that are not selectors of attributes)\n",
    "times_no_atb = {k: v for k, v in times.items() if list(times.keys()).index(k) % 2 == 0}\n",
    "# Select the odd times (the ones that are selectors of attributes)\n",
    "times_atb = {k: v for k, v in times.items() if list(times.keys()).index(k) % 2 != 0}\n",
    "\n",
    "# Sum both dictionaries to get the total time of each model\n",
    "for key in times_atb.keys():\n",
    "    times_atb[key] += times_no_atb[key.replace(\"_k\", \"\")]\n",
    "\n",
    "times_no_atb_arr = list(times_no_atb.values())\n",
    "times_atb_arr = list(times_atb.values())\n",
    "\n",
    "model_indices = np.arange(len(list(times_no_atb.keys())))\n",
    "\n",
    "width = 0.35\n",
    "fig, ax = plt.subplots()\n",
    "rects1 = ax.bar(model_indices - width/2, times_no_atb_arr, width, label='No attribute selection')\n",
    "rects2 = ax.bar(model_indices + width/2, times_atb_arr, width, label='Attribute selection')\n",
    "\n",
    "ax.set_xlabel('Model')\n",
    "ax.set_ylabel('Times')\n",
    "ax.set_title('')\n",
    "ax.set_xticks(model_indices)\n",
    "ax.set_xticklabels(list(times_no_atb.keys()))\n",
    "ax.legend()\n",
    "\n",
    "plt.xticks(size=5.9)\n",
    "plt.show()\n",
    "\n",
    "\n",
    "# Exporting image as png to ../data/img folder - easier to visualize the annotations, better resolution\n",
    "plt.savefig(\"../data/img/advanced_methods_time.png\")\n",
    "plt.show()"
   ]
  },
  {
   "attachments": {},
   "cell_type": "markdown",
   "metadata": {},
   "source": [
    "As it will be discussed later in section 8.1.1, although the SVM has a sligthly better -NMAE scoring, when in validation test, the best model by far is the Random Forests with selection of attributes and selection of parameters.\n",
    "\n",
    "Timewise, as we argued before, is not relevant for us since the training is probably a one-time process, and the prediction is the one that is going to be used in the real world for a long time period. If not, as we will see later, we would choose the Random Forests with selection of attributes which offers a better performance in terms of MAE and RMSE.\n",
    "\n",
    "Ultimately, if the time is a critical value for the client, we will choose the Linear Regression (already discussed the different models in section 5.5), as it is blazingly fast."
   ]
  },
  {
   "attachments": {},
   "cell_type": "markdown",
   "metadata": {},
   "source": [
    "## 8.1. Best Model Selection"
   ]
  },
  {
   "attachments": {},
   "cell_type": "markdown",
   "metadata": {},
   "source": [
    "After carefully evaluating the results and considering various factors, we have come to the conclusion that Random Forest is the optimal choice for our model. Apart from outperforming SVM in terms of MAE and RMSE measurements in the 5th fold test-validation, Random Forest also offers several advantages.\n",
    "\n",
    "One key advantage is its ability to handle non-linear relationships in the data. Random Forest employs a decision tree ensemble approach, which allows for capturing complex interactions and patterns in the data, making it a suitable choice for our dataset that may contain non-linear relationships between variables.\n",
    "\n",
    "Additionally, Random Forest is known for its robustness to outliers and noise in the data. It is less sensitive to noisy data points compared to SVM, which can be especially beneficial when dealing with real-world datasets that often contain noise or outliers.\n",
    "\n",
    "Furthermore, Random Forest is a highly scalable algorithm that can efficiently handle large datasets, making it suitable for our computational capabilities. On the other hand, SVM can be computationally intensive, especially with larger datasets and higher values of C, which may not be feasible in our current computational setup.\n",
    "<br>Although SVM has the potential to improve with an increase in C, we have weighed the trade-off between computation time and scoring results, and determined that Random Forest provides a favorable balance for our specific needs. A similar trade-off happens with Random Forest and the number of trees (estimators), but not that drastically.\n",
    "<br> The problem is that both C for SVM and estimators for Random Forest make the model better infinitely, but the computational cost is not linear, so the minimal (almost negligible) gain in performance is not worth the computational cost.\n",
    "\n",
    "After considering both the -NMAE in validation and the test results in the fifth fold of validation, we have decided to use Random Forest as our preferred model. This is because the validation test allows us to assess how promisingly the model will perform in the actual test. Although SVM has slightly better performance in terms of -NMAE scoring, the marginal gain is not significant enough to outweigh its much worse performance (although good) in the validation test compared to Random Forest.\n",
    "\n",
    "In conclusion, considering its superior performance in our validation tests, ability to handle non-linear relationships, robustness to noise, scalability, and computational efficiency, we have decided to select Random Forest as our preferred model for this particular project."
   ]
  },
  {
   "attachments": {},
   "cell_type": "markdown",
   "metadata": {},
   "source": [
    "### 8.1.1. Best Model Prediction - Test"
   ]
  },
  {
   "cell_type": "code",
   "execution_count": null,
   "metadata": {},
   "outputs": [],
   "source": [
    "# The selected model is RandForest_select_k\n",
    "sel_model = models[\"RandForest_select_k\"]\n",
    "\n",
    "# We calculate the subsets used for training and testing in the different folds of the cross-validation\n",
    "# validation_splits(model, X_train)  # We al ready did the 5th fold split at the begginning\n",
    "\n",
    "# We obtain the different scores of the model\n",
    "score = train_validation_test(\n",
    "    model,\n",
    "    model.best_estimator_,\n",
    "    model.best_score_,\n",
    "    X_train,\n",
    "    y_train,\n",
    "    True,\n",
    "    X_test,\n",
    "    y_test,\n",
    ")"
   ]
  },
  {
   "attachments": {},
   "cell_type": "markdown",
   "metadata": {},
   "source": [
    "As we hypothesized before, the test scores are better than the validation scores (both scoring timeseries validation and test validation), which is a good sign and expected as they were an understimation. Overall, the score is very good, with a result of: RMSE test: 3071048.88 | MAE test: 2111167.90"
   ]
  },
  {
   "cell_type": "markdown",
   "metadata": {},
   "source": [
    "## 8.2. Selected Model Training"
   ]
  },
  {
   "attachments": {},
   "cell_type": "markdown",
   "metadata": {},
   "source": [
    "Once selected the best model, we will train in with all the data we have available, and then we will use it to predict the values of the competition dataset."
   ]
  },
  {
   "attachments": {},
   "cell_type": "markdown",
   "metadata": {},
   "source": [
    "First, we divide the whole dataset into the training set (inputs, X, and outputs, y). Then, we train the model with the whole dataset, and to be predicted, the model should perform better than the one we selected first, as it has more training data."
   ]
  },
  {
   "cell_type": "code",
   "execution_count": null,
   "metadata": {},
   "outputs": [],
   "source": [
    "X_train = disp_df.drop(\"salida\", axis=1)  # This is the input features for training\n",
    "y_train = disp_df[\"salida\"]  # This is the target variable for training\n",
    "\n",
    "print(\"Data shape: \", disp_df.shape)\n",
    "print(\"X_train shape: \", X_train.shape)\n",
    "print(\"y_train shape: \", y_train.shape)"
   ]
  },
  {
   "cell_type": "code",
   "execution_count": null,
   "metadata": {},
   "outputs": [],
   "source": [
    "# We will use the whole dataset to train the model - disp_df\n",
    "np.random.seed(10)\n",
    "budget = 100\n",
    "n_splits = 5\n",
    "\n",
    "pipeline = Pipeline(\n",
    "    [\n",
    "        (\"select\", SelectKBest(f_regression)),\n",
    "        (\"model\", RandomForestRegressor(random_state=10))\n",
    "    ]\n",
    ")\n",
    "\n",
    "param_grid = {\n",
    "    \"model__n_estimators\": [100, 300, 350, 400, 450], #  500, 600, 700, 900, 10000 -> too slow for the minimal improvements they offer in the scoring (not even perceptible) - 450 still makes a decent improvement\n",
    "    \"model__max_depth\": list(range(5, 36, 5)),\n",
    "    \"model__min_samples_split\": [2, 3, 4, 5],\n",
    "    \"model__max_features\": [\"sqrt\"], # log2 does not offer as good results\n",
    "    \"select__k\": list(range(1, X_train.shape[1])),\n",
    "}\n",
    "\n",
    "model = RandomizedSearchCV(\n",
    "    pipeline,\n",
    "    param_grid,\n",
    "    scoring=\"neg_mean_absolute_error\",\n",
    "    cv=TimeSeriesSplit(n_splits),\n",
    "    n_iter=budget,\n",
    "    n_jobs=-1,\n",
    ")\n",
    "\n",
    "start_time = time.time()\n",
    "model.fit(X_train, y_train)\n",
    "end_time = time.time()\n",
    "\n",
    "total_time = end_time - start_time\n",
    "\n",
    "# We calculate the subsets used for training and testing in the different folds of the cross-validation\n",
    "# validation_splits(model, X_train)  # We al ready did the 5th fold split at the begginning\n",
    "\n",
    "# We obtain the different scores of the model\n",
    "score = train_validation_test(\n",
    "    model,\n",
    "    model.best_estimator_,\n",
    "    model.best_score_,\n",
    "    X_train,\n",
    "    y_train,\n",
    ")\n",
    "\n",
    "models[\"final_model\"] = model\n",
    "results[\"final_model\"] = score\n",
    "times[\"final_model\"] = total_time\n",
    "\n",
    "print_results(\"Random Forest (Final model)\", model, score, total_time)"
   ]
  },
  {
   "attachments": {},
   "cell_type": "markdown",
   "metadata": {},
   "source": [
    "To be observed, just as before, the scoring -NMAE is not as good as the test evaluation partition (which is a good indicator of the performance of the model with the competition dataset), but it is still a good indicator of the performance of the model: NMAE in validation: -2324597.85 | RMSE validation test: 3218699.57 | MAE validation test: 2189210.81\n",
    "\n",
    "Note how the results are similar (better) to the ones predicted in the validation fold scoring, validation test, and test previously."
   ]
  },
  {
   "attachments": {},
   "cell_type": "markdown",
   "metadata": {},
   "source": [
    "### 8.2.1. Selected Model Prediction and Comparison"
   ]
  },
  {
   "attachments": {},
   "cell_type": "markdown",
   "metadata": {},
   "source": [
    "The bad thing about using the whole dataset for training is that we don't have any data left for testing the model's performance. Without a separate set of data for testing, we cannot accurately evaluate how well the model generalizes to unseen data. \n",
    "\n",
    "To address this issue, we have implemented a function that calculates the Mean Absolute Error (MAE) and Root Mean Squared Error (RMSE) of the model on the fifth fold of the train-validation splits. This allows us to obtain an estimate of the model's performance on the most trained fold, which can serve as an indication of how well the model is likely to perform in the near future."
   ]
  },
  {
   "cell_type": "code",
   "execution_count": null,
   "metadata": {},
   "outputs": [],
   "source": [
    "plt.rcParams['figure.figsize'] = [10, 3.5]\n",
    "\n",
    "print(\"MODEL SCORES (NMAE in evaluation)\")\n",
    "iter = 0\n",
    "for key, value in results.items():\n",
    "    plt.bar(key, abs(value[0]))\n",
    "    print(f\"{iter}. {key}: {abs(value[0])}\")\n",
    "    iter += 1\n",
    "plt.title(\"Score\")\n",
    "plt.xlabel(\"Model\")\n",
    "plt.ylabel(\"NMAE scoring in validation\")\n",
    "plt.tight_layout()\n",
    "\n",
    "plt.xticks(rotation=45, ha='right', size=7)\n",
    "\n",
    "# Exporting image as png to ../data/img folder\n",
    "plt.savefig(\"../data/img/best_methods_score.png\")\n",
    "plt.show()\n",
    "\n",
    "\n",
    "print(\"MODEL SCORES (NMAE in evaluation)\")\n",
    "iter = 0\n",
    "for key, value in results.items():\n",
    "    plt.bar(key, abs(value[6]))\n",
    "    print(f\"{iter}. {key}: {abs(value[6])}\")\n",
    "    iter += 1\n",
    "plt.title(\"Score\")\n",
    "plt.xlabel(\"Model\")\n",
    "plt.ylabel(\"NMAE scoring in validation\")\n",
    "plt.tight_layout()\n",
    "\n",
    "plt.xticks(rotation=45, ha='right', size=7)\n",
    "\n",
    "# Exporting image as png to ../data/img folder\n",
    "plt.savefig(\"../data/img/best_methods_score.png\")\n",
    "plt.show()"
   ]
  },
  {
   "attachments": {},
   "cell_type": "markdown",
   "metadata": {},
   "source": [
    "As mentioned before, the results regarding scoring of the final model are the best overall."
   ]
  },
  {
   "attachments": {},
   "cell_type": "markdown",
   "metadata": {},
   "source": [
    "## 8.3. Selected Model Export"
   ]
  },
  {
   "cell_type": "code",
   "execution_count": null,
   "metadata": {
    "notebookRunGroups": {
     "groupValue": "1"
    }
   },
   "outputs": [],
   "source": [
    "import pickle\n",
    "\n",
    "print(models[\"final_model\"].best_params_)\n",
    "\n",
    "selected_model = models[\"final_model\"]\n",
    "\n",
    "print(f\"\\nSelected model: {selected_model}, {type(selected_model)}, {selected_model.best_params_}\")\n",
    "\n",
    "# Export model as pickle file in ../data/model folder\n",
    "with open(\"../data/model/modelo_final.pkl\", \"wb\") as file:\n",
    "    pickle.dump(selected_model, file)\n",
    "\n",
    "# ! Compare the model exported with the one loaded - check if it is the same\n",
    "# Load model from pickle file\n",
    "with open(\"../data/model/modelo_final.pkl\", \"rb\") as file:\n",
    "    loaded_model = pickle.load(file)\n",
    "\n",
    "print(f\"\\nSaved model: {loaded_model}, {type(loaded_model)}, {loaded_model.best_params_}\")\n",
    "    \n",
    "if selected_model.best_params_ == loaded_model.best_params_:\n",
    "    print(\"\\n\\nThe models has been saved and loaded correctly\")\n",
    "else:\n",
    "    print(\"\\n\\nERROR: The models are different\")"
   ]
  },
  {
   "attachments": {},
   "cell_type": "markdown",
   "metadata": {},
   "source": [
    "---\n",
    "# 9. Final Conclusions"
   ]
  },
  {
   "attachments": {},
   "cell_type": "markdown",
   "metadata": {},
   "source": [
    "During this project, we have had the opportunity to gain a deeper understanding of the model selection process. We began with exploratory data analysis (EDA), which helped us to improve our understanding and management of the data. We found this to be an extremely useful tool throughout the entire project. We believe that this part of the project should be evaluated with greater emphasis, as it is the foundation upon which all of our decisions were based.\n",
    "\n",
    "Next, we created and trained all of our models, gaining experience in the use of pipelines and a deeper understanding of the importance of hyperparameters. Finally, we analyzed the different results provided by each model, gaining a better understanding of their respective advantages and disadvantages in terms of scoring and time.\n",
    "\n",
    "We believe that this project is an excellent complement to the main lessons, as it provides a deeper understanding of the subject matter."
   ]
  },
  {
   "attachments": {},
   "cell_type": "markdown",
   "metadata": {},
   "source": [
    "---\n",
    "# X. Output the Jupyter Notebook as an HTML file"
   ]
  },
  {
   "cell_type": "code",
   "execution_count": null,
   "metadata": {
    "notebookRunGroups": {
     "groupValue": "1"
    }
   },
   "outputs": [],
   "source": [
    "import os\n",
    "\n",
    "# Export the notebook to HTML\n",
    "os.system(\"jupyter nbconvert --to html model.ipynb --output ../data/html/model.html\")\n",
    "print(\"Notebook exported to HTML\")"
   ]
  }
 ],
 "metadata": {
  "kernelspec": {
   "display_name": "Python 3",
   "language": "python",
   "name": "python3"
  },
  "language_info": {
   "codemirror_mode": {
    "name": "ipython",
    "version": 3
   },
   "file_extension": ".py",
   "mimetype": "text/x-python",
   "name": "python",
   "nbconvert_exporter": "python",
   "pygments_lexer": "ipython3",
   "version": "3.9.7"
  },
  "orig_nbformat": 4,
  "vscode": {
   "interpreter": {
    "hash": "b4c01c8f52586033bb4bb2bf4f864991e275e728809d596b5bf2a750c26b84f7"
   }
  }
 },
 "nbformat": 4,
 "nbformat_minor": 2
}
