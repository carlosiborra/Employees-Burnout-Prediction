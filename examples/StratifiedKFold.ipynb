{
  "cells": [
    {
      "cell_type": "code",
      "execution_count": 2,
      "metadata": {
        "id": "D_EXZAqbanlF"
      },
      "outputs": [],
      "source": [
        "# Importamos las librerías.\n",
        "import numpy as np\n",
        "from sklearn.model_selection import train_test_split, StratifiedKFold"
      ]
    },
    {
      "cell_type": "code",
      "execution_count": 36,
      "metadata": {
        "id": "L7KNZaYkbODE"
      },
      "outputs": [],
      "source": [
        "# Vamos a crear un conjunto de datos, que tendrá:\n",
        "# - 10 atributos numéricos.\n",
        "# - 1 clase binaria.\n",
        "# La clase binaria estará altamente desbalanceada.\n",
        "np.random.seed(0)\n",
        "N_SAMPLES_NEG = 950\n",
        "N_SAMPLES_POS = 50\n",
        "X = np.random.rand(N_SAMPLES_NEG + N_SAMPLES_POS, 10)\n",
        "y = np.array([0] * N_SAMPLES_NEG + [1] * N_SAMPLES_POS)"
      ]
    },
    {
      "cell_type": "code",
      "execution_count": 39,
      "metadata": {
        "colab": {
          "base_uri": "https://localhost:8080/"
        },
        "id": "ErCWDYULbmbU",
        "outputId": "099d7737-b54c-4538-dc97-492bf74cb3fc"
      },
      "outputs": [
        {
          "name": "stdout",
          "output_type": "stream",
          "text": [
            "Hay un 5.2 % de instancias positivas en train.\n",
            "Hay un 4.0 % de instancias positivas en test.\n",
            "Hay un 5.0 % de instancias positivas en total.\n"
          ]
        }
      ],
      "source": [
        "# Vamos a comenzar realizando una división train/test \"normal\".\n",
        "X_train, X_test, y_train, y_test = train_test_split(X, y, test_size = 0.2)\n",
        "\n",
        "# Comprobemos ahora la distribución de las clases.\n",
        "n_pos_pct = N_SAMPLES_POS / (N_SAMPLES_POS + N_SAMPLES_NEG)\n",
        "n_pos_train_pct = np.sum(y_train) / len(y_train)\n",
        "n_pos_test_pct = np.sum(y_test) / len(y_test)\n",
        "\n",
        "print(f\"Hay un {100 * n_pos_train_pct:.1f} % de instancias positivas en train.\")\n",
        "print(f\"Hay un {100 * n_pos_test_pct:.1f} % de instancias positivas en test.\")\n",
        "print(f\"Hay un {100 * n_pos_pct:.1f} % de instancias positivas en total.\")"
      ]
    },
    {
      "cell_type": "code",
      "execution_count": 40,
      "metadata": {
        "colab": {
          "base_uri": "https://localhost:8080/"
        },
        "id": "nf0RMjzbcS_x",
        "outputId": "ca449c30-8ea8-4298-c4d9-a1ddc3be3ae7"
      },
      "outputs": [
        {
          "name": "stdout",
          "output_type": "stream",
          "text": [
            "Hay un 5.0 % de instancias positivas en train.\n",
            "Hay un 5.0 % de instancias positivas en test.\n",
            "Hay un 5.0 % de instancias positivas en total.\n"
          ]
        }
      ],
      "source": [
        "# Ahora realizaremos una división estratificada.\n",
        "X_train, X_test, y_train, y_test = train_test_split(X, y, test_size = 0.2, stratify=y)\n",
        "\n",
        "# Comprobemos ahora la distribución de las clases.\n",
        "n_pos_pct = N_SAMPLES_POS / (N_SAMPLES_POS + N_SAMPLES_NEG)\n",
        "n_pos_train_pct = np.sum(y_train) / len(y_train)\n",
        "n_pos_test_pct = np.sum(y_test) / len(y_test)\n",
        "\n",
        "print(f\"Hay un {100 * n_pos_train_pct:.1f} % de instancias positivas en train.\")\n",
        "print(f\"Hay un {100 * n_pos_test_pct:.1f} % de instancias positivas en test.\")\n",
        "print(f\"Hay un {100 * n_pos_pct:.1f} % de instancias positivas en total.\")"
      ]
    },
    {
      "cell_type": "code",
      "execution_count": 42,
      "metadata": {
        "colab": {
          "base_uri": "https://localhost:8080/"
        },
        "id": "yGtcJpsQdSst",
        "outputId": "96ea5a9e-f586-4d24-94da-bd72dc6f796c"
      },
      "outputs": [
        {
          "name": "stdout",
          "output_type": "stream",
          "text": [
            "FOLD 1:\n",
            "Hay un 5.0 % de instancias positivas en train-train.\n",
            "Hay un 5.0 % de instancias positivas en train-test.\n",
            "FOLD 2:\n",
            "Hay un 5.0 % de instancias positivas en train-train.\n",
            "Hay un 5.0 % de instancias positivas en train-test.\n",
            "FOLD 3:\n",
            "Hay un 5.0 % de instancias positivas en train-train.\n",
            "Hay un 5.0 % de instancias positivas en train-test.\n",
            "FOLD 4:\n",
            "Hay un 5.0 % de instancias positivas en train-train.\n",
            "Hay un 5.0 % de instancias positivas en train-test.\n",
            "FOLD 5:\n",
            "Hay un 5.0 % de instancias positivas en train-train.\n",
            "Hay un 5.0 % de instancias positivas en train-test.\n"
          ]
        }
      ],
      "source": [
        "# Ahora vamos a realizar un proceso de validación cruzada estratificada.\n",
        "cv = StratifiedKFold(n_splits=5)\n",
        "\n",
        "n_fold = 1\n",
        "for train_ix, test_ix in cv.split(X_train, y_train):\n",
        "  y_train_train = y_train[train_ix]\n",
        "  y_train_test = y_train[test_ix]\n",
        "  n_pos_traintrain_pct = np.sum(y_train_train) / len(y_train_train)\n",
        "  n_pos_traintest_pct = np.sum(y_train_test) / len(y_train_test)\n",
        "  print(f\"FOLD {n_fold}:\")\n",
        "  print(f\"Hay un {100 * n_pos_traintrain_pct:.1f} % de instancias positivas en train-train.\")\n",
        "  print(f\"Hay un {100 * n_pos_traintest_pct:.1f} % de instancias positivas en train-test.\")\n",
        "  n_fold += 1"
      ]
    }
  ],
  "metadata": {
    "colab": {
      "provenance": []
    },
    "kernelspec": {
      "display_name": "Python 3",
      "name": "python3"
    },
    "language_info": {
      "name": "python"
    }
  },
  "nbformat": 4,
  "nbformat_minor": 0
}
