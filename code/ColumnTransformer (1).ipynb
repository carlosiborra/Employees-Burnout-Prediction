{
  "cells": [
    {
      "cell_type": "code",
      "execution_count": 22,
      "metadata": {
        "id": "jXWj_rUTf_0E"
      },
      "outputs": [],
      "source": [
        "# Importamos las librerías.\n",
        "import numpy as np\n",
        "import pandas as pd\n",
        "from sklearn.compose import ColumnTransformer\n",
        "from sklearn.impute import SimpleImputer\n",
        "from sklearn.model_selection import train_test_split\n",
        "from sklearn.pipeline import Pipeline"
      ]
    },
    {
      "cell_type": "code",
      "execution_count": 23,
      "metadata": {
        "id": "k7JA4w-6gK98"
      },
      "outputs": [],
      "source": [
        "# Vamos a crear un conjunto de datos, que tendrá:\n",
        "# - 7 atributos numéricos.\n",
        "# - 3 atributos categóricos.\n",
        "np.random.seed(0)\n",
        "X_num = np.random.rand(1000, 7)\n",
        "X_cat = np.vstack([\n",
        "            np.random.choice(['No', 'Yes'], 1000),\n",
        "            np.random.choice(['Young', 'Middle', 'Old'], 1000),\n",
        "            np.random.choice(['Very Low', 'Low', 'Medium', 'High', 'Very High'], 1000),\n",
        "        ]).T"
      ]
    },
    {
      "cell_type": "code",
      "execution_count": 24,
      "metadata": {
        "id": "AGjSH3WqgsFS"
      },
      "outputs": [],
      "source": [
        "# Introducimos un 5% de valores nulos de forma aleatoria\n",
        "X_num[np.random.choice([True, False], (1000, 7), p=[0.05, 0.95])] = np.nan\n",
        "X_cat[np.random.choice([True, False], (1000, 3), p=[0.05, 0.95])] = np.nan"
      ]
    },
    {
      "cell_type": "code",
      "execution_count": 25,
      "metadata": {
        "colab": {
          "base_uri": "https://localhost:8080/"
        },
        "id": "FdGt9eS2iZPw",
        "outputId": "330da685-dfd2-4781-8804-679bc8cbc2b9"
      },
      "outputs": [
        {
          "data": {
            "text/plain": [
              "attr0    58\n",
              "attr1    42\n",
              "attr2    52\n",
              "attr3    54\n",
              "attr4    52\n",
              "attr5    53\n",
              "attr6    63\n",
              "attr7    58\n",
              "attr8    50\n",
              "attr9    63\n",
              "dtype: int64"
            ]
          },
          "execution_count": 25,
          "metadata": {},
          "output_type": "execute_result"
        }
      ],
      "source": [
        "# Breve EDA para comprobar valores nulos.\n",
        "df = pd.concat([pd.DataFrame(X_num), pd.DataFrame(X_cat).replace('nan', np.nan)], axis=1)\n",
        "df.columns = [f\"attr{i}\" for i in range(10)]\n",
        "df.isna().sum(axis=0)"
      ]
    },
    {
      "cell_type": "code",
      "execution_count": 26,
      "metadata": {
        "id": "Plj62HjDisBP"
      },
      "outputs": [],
      "source": [
        "# Vamos a utilizar dos tipos de imputación distinta:\n",
        "# - Basada en la media para atributos numéricos.\n",
        "# - Basada en la moda para atributos categóricos.\n",
        "# Para ello, utilizaremos un ColumnTransformer.\n",
        "# Ver: https://scikit-learn.org/stable/auto_examples/compose/plot_column_transformer_mixed_types.html\n",
        "\n",
        "# Partición en entrenamiento y test.\n",
        "X_train, X_test = train_test_split(df, random_state=0)\n",
        "\n",
        "# Procesamiento de valores numéricos.\n",
        "features_num = [f\"attr{i}\" for i in range(7)]\n",
        "imputer_num = SimpleImputer(strategy='mean')\n",
        "pipeline_num = Pipeline(\n",
        "    steps=[\n",
        "        (\"imputer\", imputer_num)\n",
        "    ]\n",
        ")\n",
        "\n",
        "# Procesamiento de valores categóricos.\n",
        "features_cat = [f\"attr{i}\" for i in range(7, 10)]\n",
        "imputer_cat = SimpleImputer(strategy='most_frequent')\n",
        "pipeline_cat = Pipeline(\n",
        "    steps=[\n",
        "        (\"imputer\", imputer_cat)\n",
        "    ]\n",
        ")\n",
        "\n",
        "# Pre-procesador \"global\".\n",
        "# Dependiendo del tipo de columna se aplica una transformación u otra.\n",
        "processor = ColumnTransformer(\n",
        "    transformers=[\n",
        "        (\"num\", pipeline_num, features_num),\n",
        "        (\"cat\", pipeline_cat, features_cat),\n",
        "    ]\n",
        ")\n",
        "\n",
        "# Realizamos la transformación.\n",
        "X_train_processed = processor.fit_transform(X_train)\n",
        "X_test_processed = processor.transform(X_test)"
      ]
    },
    {
      "cell_type": "code",
      "execution_count": 38,
      "metadata": {
        "colab": {
          "base_uri": "https://localhost:8080/"
        },
        "id": "n8I9-YxYjDEm",
        "outputId": "7a18ba94-43ab-4117-a378-05308f9b4867"
      },
      "outputs": [
        {
          "name": "stdout",
          "output_type": "stream",
          "text": [
            "El valor nan ahora vale 0.5069408954869667\n",
            "El valor nan ahora vale Medium\n"
          ]
        }
      ],
      "source": [
        "# Vamos a comprobar un par de valores nulos.\n",
        "print(f\"El valor {X_train.iloc[747, 4]} ahora vale {X_train_processed[747, 4]}\")\n",
        "print(f\"El valor {X_train.iloc[37,9]} ahora vale {X_train_processed[37, 9]}\")"
      ]
    }
  ],
  "metadata": {
    "colab": {
      "provenance": []
    },
    "kernelspec": {
      "display_name": "Python 3",
      "name": "python3"
    },
    "language_info": {
      "name": "python"
    }
  },
  "nbformat": 4,
  "nbformat_minor": 0
}
